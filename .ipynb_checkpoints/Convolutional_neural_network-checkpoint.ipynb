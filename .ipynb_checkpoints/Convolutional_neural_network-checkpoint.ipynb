{
 "cells": [
  {
   "cell_type": "code",
   "execution_count": 2,
   "metadata": {},
   "outputs": [],
   "source": [
    "import numpy as np\n",
    "import matplotlib.pyplot as plt\n",
    "import torch\n",
    "import torch.nn as nn\n",
    "import torch.nn.functional as F\n",
    "import torch.optim as optim\n",
    "import cv2"
   ]
  },
  {
   "cell_type": "code",
   "execution_count": 27,
   "metadata": {},
   "outputs": [],
   "source": [
    "class convnet(nn.Module):\n",
    "    \n",
    "    def __init__(self, input_size, filter_number, filter_size, training_size, alpha = 0.0001):\n",
    "        super(convnet, self).__init__()\n",
    "        self.input_size = input_size\n",
    "        self.filter_number = filter_number\n",
    "        self.filter_size = filter_size\n",
    "        self.training_size = training_size\n",
    "        self.alpha = alpha\n",
    "        self.dimensions = self.input_size - self.filter_size + 1\n",
    "        \n",
    "        self.conv1 = nn.Conv2d(1, filter_number, self.filter_size)\n",
    "        self.conv1.weight.data = self.init_weights()\n",
    "        \n",
    "        self.fc1 = nn.Linear(self.dimensions*self.dimensions*self.filter_number, 1)\n",
    "        self.fc1.weight = torch.nn.Parameter(torch.zeros((1,self.dimensions*self.dimensions*self.filter_number)))\n",
    "        \n",
    "        \n",
    "    def generate_gabor(self, size, theta):\n",
    "        ksize = size\n",
    "        sigma = 1\n",
    "        lamda = np.pi/4\n",
    "        gamma = 0.1\n",
    "        phi = 0\n",
    "        kernel = cv2.getGaborKernel((ksize, ksize), sigma, theta, lamda, gamma, phi)\n",
    "        return torch.tensor(kernel).view(1, 1, size, size).float()\n",
    "        \n",
    "    def init_weights(self):\n",
    "        angles = np.linspace(0, np.pi, self.filter_number)\n",
    "        weights = []\n",
    "        for i in range(self.filter_number):\n",
    "            theta = angles[i]\n",
    "            kernel = self.generate_gabor(self.filter_size, theta)\n",
    "            weights.append(kernel)\n",
    "        input = torch.stack(inputs).view(1, self.filter_number, self.filter_size, self.filter_size)\n",
    "        return input\n",
    "    \n",
    "    def input(self, angle1, angle2):\n",
    "        x = np.linspace(angle1, angle2, self.training_size)\n",
    "        self.labels = []\n",
    "        self.inputs = []\n",
    "        for i in range(self.training_size):\n",
    "            theta = x[i]\n",
    "            kernel = self.generate_gabor(self.input_size, theta)\n",
    "            self.inputs.append(kernel)\n",
    "            if 0 <= x[i] <= np.pi/2:\n",
    "                label = 1\n",
    "            else:\n",
    "                label = -1\n",
    "            self.labels.append(label)\n",
    "#         self.input = torch.stack(self.inputs).view(1, self.training_size, self.input_size, self.input_size)\n",
    "        return self.inputs\n",
    "        \n",
    "    def desired_output(self):\n",
    "        self.desired_output = self.labels\n",
    "        return self.desired_output\n",
    "    \n",
    "    def forward(self, x):\n",
    "        self.maps = []\n",
    "        out = self.conv1(x)\n",
    "        self.maps.append(out)\n",
    "        out = torch.stack(self.maps).view(1, self.dimensions*self.dimensions*self.filter_number)\n",
    "        out = self.fc1(out)\n",
    "        return out\n",
    "\n",
    "    def loss(self, scores, desired_output):\n",
    "        loss = torch.linalg.norm(desired_output - scores)**2\n",
    "        return loss\n",
    "    \n",
    "    def train(self, iterations, optimizer):\n",
    "        self.losses = []\n",
    "        for i in range(iterations):\n",
    "            for j in range(self.training_size):\n",
    "                optimizer.zero_grad()\n",
    "                scores = self.forward(self.inputs[j].clone().detach())\n",
    "                loss = self.loss(scores, self.desired_output[j])\n",
    "                self.losses.append(loss)   \n",
    "                loss.backward()\n",
    "                optimizer.step()\n",
    "\n",
    "    def mean_train(self, iterations, optimizer):\n",
    "        self.losses = []\n",
    "        for i in range(iterations):\n",
    "            loss2 = []\n",
    "            for j in range(self.training_size):\n",
    "                optimizer.zero_grad()\n",
    "                scores = self.forward(self.inputs[j].clone().detach())\n",
    "                loss1 = self.loss(scores, self.desired_output[j])\n",
    "                loss2.append(loss1)   \n",
    "            loss = np.sum(loss2)/self.training_size\n",
    "            self.losses.append(loss)\n",
    "            loss.backward()\n",
    "            optimizer.step()\n",
    "                \n",
    "    def plot_loss(self, color):\n",
    "        plt.plot(self.losses, color = color)\n",
    "        plt.xlabel(\"Time (epochs)\")\n",
    "        plt.ylabel(\"Error\")"
   ]
  },
  {
   "cell_type": "code",
   "execution_count": 28,
   "metadata": {},
   "outputs": [],
   "source": [
    "net = convnet(11, 30, 5, 20)\n",
    "x = net.input(-np.pi/2,np.pi/2)\n",
    "y = net.desired_output()\n",
    "optimizer = optim.SGD(net.parameters(), lr = net.alpha)\n",
    "net.mean_train(100, optimizer)"
   ]
  },
  {
   "cell_type": "code",
   "execution_count": 31,
   "metadata": {},
   "outputs": [
    {
     "data": {
      "text/plain": [
       "<bound method Module.parameters of convnet(\n",
       "  (fc1): Linear(in_features=1470, out_features=1, bias=True)\n",
       ")>"
      ]
     },
     "execution_count": 31,
     "metadata": {},
     "output_type": "execute_result"
    },
    {
     "data": {
      "image/png": "[encoded data removed]",
      "text/plain": [
       "<Figure size 432x288 with 1 Axes>"
      ]
     },
     "metadata": {
      "needs_background": "light"
     },
     "output_type": "display_data"
    }
   ],
   "source": [
    "net.plot_loss('red')"
   ]
  },
  {
   "cell_type": "code",
   "execution_count": 24,
   "metadata": {},
   "outputs": [
    {
     "name": "stdout",
     "output_type": "stream",
     "text": [
      "tensor([[-0.0135]])\n"
     ]
    }
   ],
   "source": [
    "gabor = net.generate_gabor(11, -np.pi/6).clone().detach()\n",
    "with torch.no_grad():\n",
    "    a = net.forward(gabor)\n",
    "    print(a)"
   ]
  },
  {
   "cell_type": "code",
   "execution_count": 7,
   "metadata": {},
   "outputs": [],
   "source": [
    "x = torch.randn(1, 1, 10, 10)\n",
    "\n",
    "def generate_gabor(ksize, theta):\n",
    "        ksize = 5\n",
    "        sigma = 1\n",
    "        lamda = np.pi/4\n",
    "        gamma = 0.1\n",
    "        phi = 0\n",
    "        kernel = cv2.getGaborKernel((ksize, ksize), sigma, theta, lamda, gamma, phi)\n",
    "        return torch.tensor(kernel).view(1, 1, 5, 5).float()\n",
    "# maps = []\n",
    "# angles = np.linspace(0, np.pi, 3)\n",
    "# for i in range(3):\n",
    "#     theta = angles[i]\n",
    "#     kernel = generate_gabor(theta)\n",
    "#     out = F.conv2d(x, kernel)\n",
    "#     maps.append(out)\n",
    "# a = []\n",
    "# len(maps)\n"
   ]
  },
  {
   "cell_type": "code",
   "execution_count": 105,
   "metadata": {},
   "outputs": [
    {
     "data": {
      "text/plain": [
       "(tensor([[[[-0.1270, -0.0865,  0.9802, -0.0865, -0.1270],\n",
       "           [-0.1290, -0.0878,  0.9950, -0.0878, -0.1290],\n",
       "           [-0.1296, -0.0883,  1.0000, -0.0883, -0.1296],\n",
       "           [-0.1290, -0.0878,  0.9950, -0.0878, -0.1290],\n",
       "           [-0.1270, -0.0865,  0.9802, -0.0865, -0.1270]],\n",
       " \n",
       "          [[-0.0237,  0.0452,  0.0615, -0.4179,  0.6708],\n",
       "           [-0.1237, -0.0265,  0.5485, -0.9055,  0.4626],\n",
       "           [-0.0869, -0.5747,  1.0000, -0.5747, -0.0869],\n",
       "           [ 0.4626, -0.9055,  0.5485, -0.0265, -0.1237],\n",
       "           [ 0.6708, -0.4179,  0.0615,  0.0452, -0.0237]],\n",
       " \n",
       "          [[ 0.6708, -0.4179,  0.0615,  0.0452, -0.0237],\n",
       "           [ 0.4626, -0.9055,  0.5485, -0.0265, -0.1237],\n",
       "           [-0.0869, -0.5747,  1.0000, -0.5747, -0.0869],\n",
       "           [-0.1237, -0.0265,  0.5485, -0.9055,  0.4626],\n",
       "           [-0.0237,  0.0452,  0.0615, -0.4179,  0.6708]]]]),\n",
       " Parameter containing:\n",
       " tensor([[[[-0.1270, -0.0865,  0.9802, -0.0865, -0.1270],\n",
       "           [-0.1290, -0.0878,  0.9950, -0.0878, -0.1290],\n",
       "           [-0.1296, -0.0883,  1.0000, -0.0883, -0.1296],\n",
       "           [-0.1290, -0.0878,  0.9950, -0.0878, -0.1290],\n",
       "           [-0.1270, -0.0865,  0.9802, -0.0865, -0.1270]],\n",
       " \n",
       "          [[-0.0237,  0.0452,  0.0615, -0.4179,  0.6708],\n",
       "           [-0.1237, -0.0265,  0.5485, -0.9055,  0.4626],\n",
       "           [-0.0869, -0.5747,  1.0000, -0.5747, -0.0869],\n",
       "           [ 0.4626, -0.9055,  0.5485, -0.0265, -0.1237],\n",
       "           [ 0.6708, -0.4179,  0.0615,  0.0452, -0.0237]],\n",
       " \n",
       "          [[ 0.6708, -0.4179,  0.0615,  0.0452, -0.0237],\n",
       "           [ 0.4626, -0.9055,  0.5485, -0.0265, -0.1237],\n",
       "           [-0.0869, -0.5747,  1.0000, -0.5747, -0.0869],\n",
       "           [-0.1237, -0.0265,  0.5485, -0.9055,  0.4626],\n",
       "           [-0.0237,  0.0452,  0.0615, -0.4179,  0.6708]]]], requires_grad=True))"
      ]
     },
     "execution_count": 105,
     "metadata": {},
     "output_type": "execute_result"
    }
   ],
   "source": [
    "x = np.linspace(0, np.pi, 4)\n",
    "inputs = []\n",
    "\n",
    "\n",
    "def init_weights(n):\n",
    "    for i in range(n):\n",
    "        theta = x[i]\n",
    "        kernel = net.generate_gabor(5, theta)\n",
    "        inputs.append(kernel)\n",
    "    input = torch.stack(inputs).view(1, n, 5, 5)\n",
    "    return input\n",
    "\n",
    "conv1 = torch.nn.Conv2d(1, 3, 11, 11)\n",
    "a = init_weights(3)\n",
    "conv1.weight.data = a\n",
    "a, conv1.weight"
   ]
  },
  {
   "cell_type": "code",
   "execution_count": null,
   "metadata": {},
   "outputs": [],
   "source": [
    "sigma = nn.Parameter(torch.randn(1), requires_grad = True)\n"
   ]
  },
  {
   "cell_type": "code",
   "execution_count": 109,
   "metadata": {},
   "outputs": [
    {
     "ename": "TypeError",
     "evalue": "conv2d(): argument 'input' (position 1) must be Tensor, not NoneType",
     "output_type": "error",
     "traceback": [
      "\u001b[0;31m---------------------------------------------------------------------------\u001b[0m",
      "\u001b[0;31mTypeError\u001b[0m                                 Traceback (most recent call last)",
      "\u001b[0;32m<ipython-input-109-7aa03a6217c1>\u001b[0m in \u001b[0;36m<module>\u001b[0;34m\u001b[0m\n\u001b[1;32m      6\u001b[0m \u001b[0mconv1\u001b[0m \u001b[0;34m=\u001b[0m \u001b[0mtorch\u001b[0m\u001b[0;34m.\u001b[0m\u001b[0mnn\u001b[0m\u001b[0;34m.\u001b[0m\u001b[0mConv2d\u001b[0m\u001b[0;34m(\u001b[0m\u001b[0;36m1\u001b[0m\u001b[0;34m,\u001b[0m \u001b[0;36m3\u001b[0m\u001b[0;34m,\u001b[0m \u001b[0;36m11\u001b[0m\u001b[0;34m,\u001b[0m \u001b[0;36m11\u001b[0m\u001b[0;34m)\u001b[0m\u001b[0;34m\u001b[0m\u001b[0;34m\u001b[0m\u001b[0m\n\u001b[1;32m      7\u001b[0m \u001b[0ma\u001b[0m \u001b[0;34m=\u001b[0m \u001b[0minit_weights\u001b[0m\u001b[0;34m(\u001b[0m\u001b[0;36m3\u001b[0m\u001b[0;34m)\u001b[0m\u001b[0;34m\u001b[0m\u001b[0;34m\u001b[0m\u001b[0m\n\u001b[0;32m----> 8\u001b[0;31m \u001b[0mresult\u001b[0m \u001b[0;34m=\u001b[0m \u001b[0mconv1\u001b[0m\u001b[0;34m(\u001b[0m\u001b[0ma\u001b[0m\u001b[0;34m)\u001b[0m\u001b[0;34m\u001b[0m\u001b[0;34m\u001b[0m\u001b[0m\n\u001b[0m",
      "\u001b[0;32m~/opt/anaconda3/lib/python3.8/site-packages/torch/nn/modules/module.py\u001b[0m in \u001b[0;36m_call_impl\u001b[0;34m(self, *input, **kwargs)\u001b[0m\n\u001b[1;32m    725\u001b[0m             \u001b[0mresult\u001b[0m \u001b[0;34m=\u001b[0m \u001b[0mself\u001b[0m\u001b[0;34m.\u001b[0m\u001b[0m_slow_forward\u001b[0m\u001b[0;34m(\u001b[0m\u001b[0;34m*\u001b[0m\u001b[0minput\u001b[0m\u001b[0;34m,\u001b[0m \u001b[0;34m**\u001b[0m\u001b[0mkwargs\u001b[0m\u001b[0;34m)\u001b[0m\u001b[0;34m\u001b[0m\u001b[0;34m\u001b[0m\u001b[0m\n\u001b[1;32m    726\u001b[0m         \u001b[0;32melse\u001b[0m\u001b[0;34m:\u001b[0m\u001b[0;34m\u001b[0m\u001b[0;34m\u001b[0m\u001b[0m\n\u001b[0;32m--> 727\u001b[0;31m             \u001b[0mresult\u001b[0m \u001b[0;34m=\u001b[0m \u001b[0mself\u001b[0m\u001b[0;34m.\u001b[0m\u001b[0mforward\u001b[0m\u001b[0;34m(\u001b[0m\u001b[0;34m*\u001b[0m\u001b[0minput\u001b[0m\u001b[0;34m,\u001b[0m \u001b[0;34m**\u001b[0m\u001b[0mkwargs\u001b[0m\u001b[0;34m)\u001b[0m\u001b[0;34m\u001b[0m\u001b[0;34m\u001b[0m\u001b[0m\n\u001b[0m\u001b[1;32m    728\u001b[0m         for hook in itertools.chain(\n\u001b[1;32m    729\u001b[0m                 \u001b[0m_global_forward_hooks\u001b[0m\u001b[0;34m.\u001b[0m\u001b[0mvalues\u001b[0m\u001b[0;34m(\u001b[0m\u001b[0;34m)\u001b[0m\u001b[0;34m,\u001b[0m\u001b[0;34m\u001b[0m\u001b[0;34m\u001b[0m\u001b[0m\n",
      "\u001b[0;32m~/opt/anaconda3/lib/python3.8/site-packages/torch/nn/modules/conv.py\u001b[0m in \u001b[0;36mforward\u001b[0;34m(self, input)\u001b[0m\n\u001b[1;32m    421\u001b[0m \u001b[0;34m\u001b[0m\u001b[0m\n\u001b[1;32m    422\u001b[0m     \u001b[0;32mdef\u001b[0m \u001b[0mforward\u001b[0m\u001b[0;34m(\u001b[0m\u001b[0mself\u001b[0m\u001b[0;34m,\u001b[0m \u001b[0minput\u001b[0m\u001b[0;34m:\u001b[0m \u001b[0mTensor\u001b[0m\u001b[0;34m)\u001b[0m \u001b[0;34m->\u001b[0m \u001b[0mTensor\u001b[0m\u001b[0;34m:\u001b[0m\u001b[0;34m\u001b[0m\u001b[0;34m\u001b[0m\u001b[0m\n\u001b[0;32m--> 423\u001b[0;31m         \u001b[0;32mreturn\u001b[0m \u001b[0mself\u001b[0m\u001b[0;34m.\u001b[0m\u001b[0m_conv_forward\u001b[0m\u001b[0;34m(\u001b[0m\u001b[0minput\u001b[0m\u001b[0;34m,\u001b[0m \u001b[0mself\u001b[0m\u001b[0;34m.\u001b[0m\u001b[0mweight\u001b[0m\u001b[0;34m)\u001b[0m\u001b[0;34m\u001b[0m\u001b[0;34m\u001b[0m\u001b[0m\n\u001b[0m\u001b[1;32m    424\u001b[0m \u001b[0;34m\u001b[0m\u001b[0m\n\u001b[1;32m    425\u001b[0m \u001b[0;32mclass\u001b[0m \u001b[0mConv3d\u001b[0m\u001b[0;34m(\u001b[0m\u001b[0m_ConvNd\u001b[0m\u001b[0;34m)\u001b[0m\u001b[0;34m:\u001b[0m\u001b[0;34m\u001b[0m\u001b[0;34m\u001b[0m\u001b[0m\n",
      "\u001b[0;32m~/opt/anaconda3/lib/python3.8/site-packages/torch/nn/modules/conv.py\u001b[0m in \u001b[0;36m_conv_forward\u001b[0;34m(self, input, weight)\u001b[0m\n\u001b[1;32m    417\u001b[0m                             \u001b[0mweight\u001b[0m\u001b[0;34m,\u001b[0m \u001b[0mself\u001b[0m\u001b[0;34m.\u001b[0m\u001b[0mbias\u001b[0m\u001b[0;34m,\u001b[0m \u001b[0mself\u001b[0m\u001b[0;34m.\u001b[0m\u001b[0mstride\u001b[0m\u001b[0;34m,\u001b[0m\u001b[0;34m\u001b[0m\u001b[0;34m\u001b[0m\u001b[0m\n\u001b[1;32m    418\u001b[0m                             _pair(0), self.dilation, self.groups)\n\u001b[0;32m--> 419\u001b[0;31m         return F.conv2d(input, weight, self.bias, self.stride,\n\u001b[0m\u001b[1;32m    420\u001b[0m                         self.padding, self.dilation, self.groups)\n\u001b[1;32m    421\u001b[0m \u001b[0;34m\u001b[0m\u001b[0m\n",
      "\u001b[0;31mTypeError\u001b[0m: conv2d(): argument 'input' (position 1) must be Tensor, not NoneType"
     ]
    }
   ],
   "source": [
    "input = net.input(0, np.pi/2)[0]\n",
    "def init_weights(n):\n",
    "    for i in range(n):\n",
    "            theta = x[i]\n",
    "            kernel = net.generate_gabor(11, theta)\n",
    "            \n",
    "conv1 = torch.nn.Conv2d(1, 3, 11, 11)\n",
    "a = init_weights(3)\n",
    "result = conv1(a)"
   ]
  },
  {
   "cell_type": "code",
   "execution_count": null,
   "metadata": {},
   "outputs": [],
   "source": []
  },
  {
   "cell_type": "code",
   "execution_count": null,
   "metadata": {},
   "outputs": [],
   "source": []
  }
 ],
 "metadata": {
  "kernelspec": {
   "display_name": "Python 3",
   "language": "python",
   "name": "python3"
  },
  "language_info": {
   "codemirror_mode": {
    "name": "ipython",
    "version": 3
   },
   "file_extension": ".py",
   "mimetype": "text/x-python",
   "name": "python",
   "nbconvert_exporter": "python",
   "pygments_lexer": "ipython3",
   "version": "3.8.5"
  }
 },
 "nbformat": 4,
 "nbformat_minor": 4
}
