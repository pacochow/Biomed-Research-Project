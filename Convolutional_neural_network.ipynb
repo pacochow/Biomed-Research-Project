{
 "cells": [
  {
   "cell_type": "code",
   "execution_count": 2,
   "metadata": {},
   "outputs": [],
   "source": [
    "import numpy as np\n",
    "import matplotlib.pyplot as plt\n",
    "import torch\n",
    "import torch.nn as nn\n",
    "import torch.nn.functional as F\n",
    "import torch.optim as optim\n",
    "import cv2"
   ]
  },
  {
   "cell_type": "code",
   "execution_count": 298,
   "metadata": {},
   "outputs": [],
   "source": [
    "class convnet(nn.Module):\n",
    "    \n",
    "    def __init__(self, input_size, filter_number, filter_size, training_size, alpha = 0.0001):\n",
    "        super(convnet, self).__init__()\n",
    "        self.input_size = input_size\n",
    "        self.filter_number = filter_number\n",
    "        self.filter_size = filter_size\n",
    "        self.training_size = training_size\n",
    "        self.alpha = alpha\n",
    "        self.dimensions = self.input_size - self.filter_size + 1\n",
    "        \n",
    "        self.conv1 = nn.Conv2d(1, self.filter_number, self.filter_size)\n",
    "        self.conv1.weight.data = self.init_weights()\n",
    "        self.conv1.bias = torch.nn.Parameter(torch.zeros(self.filter_number))\n",
    "        \n",
    "        self.fc1 = nn.Linear(self.dimensions*self.dimensions*self.filter_number, 1)\n",
    "        self.fc1.weight = torch.nn.Parameter(torch.zeros((1,self.dimensions*self.dimensions*self.filter_number)))\n",
    "        \n",
    "    def generate_gabor(self, size, theta):\n",
    "        ksize = size\n",
    "        sigma = 1\n",
    "        lamda = np.pi/4\n",
    "        gamma = 0.1\n",
    "        phi = 0\n",
    "        kernel = cv2.getGaborKernel((ksize, ksize), sigma, theta, lamda, gamma, phi)\n",
    "        return torch.tensor(kernel).view(1, 1, size, size).float()\n",
    "        \n",
    "    def init_weights(self):\n",
    "        angles = self.remove_ambiguous_stimuli(0, np.pi, self.filter_number)\n",
    "        weights = []\n",
    "        for i in range(self.filter_number):\n",
    "            theta = angles[i]\n",
    "            kernel = self.generate_gabor(self.filter_size, theta)\n",
    "            weights.append(kernel)\n",
    "        weight = torch.stack(weights).view(self.filter_number, 1, self.filter_size, self.filter_size)\n",
    "        return weight\n",
    "    \n",
    "    def remove_ambiguous_stimuli(self, angle1, angle2, size):\n",
    "        x = np.linspace(angle1, angle2, size)\n",
    "        stimuli = [-np.pi/2, 0, np.pi/2]\n",
    "        ambiguous = True\n",
    "        while ambiguous == True:\n",
    "            for i in stimuli:\n",
    "                if i in x:\n",
    "                    x = np.delete(x, np.where(x == i))\n",
    "            x = np.linspace(x[0], x[-1], size)\n",
    "            if -np.pi/2 in x or 0 in x or np.pi/2 in x:\n",
    "                ambiguous = True\n",
    "            else:\n",
    "                ambiguous = False\n",
    "        return x\n",
    "                \n",
    "    def inputting(self, angle):\n",
    "        x = self.remove_ambiguous_stimuli(-angle, angle, self.training_size)\n",
    "        self.labels = []\n",
    "        self.inputs = []\n",
    "        \n",
    "        for i in range(self.training_size):\n",
    "            theta = x[i]\n",
    "            kernel = self.generate_gabor(self.input_size, theta)\n",
    "            self.inputs.append(kernel)\n",
    "            if 0 < theta < np.pi/2:\n",
    "                label = 1\n",
    "            else:\n",
    "                label = -1\n",
    "            self.labels.append(label)\n",
    "        self.input = torch.stack(self.inputs).view(self.training_size, 1, self.input_size, self.input_size)\n",
    "        return self.input\n",
    "    \n",
    "    def desired_outputting(self):\n",
    "        self.desired_output = torch.tensor(self.labels)\n",
    "        return self.desired_output\n",
    "    \n",
    "    def forward(self, x):\n",
    "        result = self.conv1(x)\n",
    "        out = result.view(1, self.dimensions*self.dimensions*self.filter_number)\n",
    "        out = self.fc1(out)\n",
    "        return out\n",
    "\n",
    "    def loss(self, scores, desired_output):\n",
    "        loss = torch.linalg.norm(desired_output - scores)**2\n",
    "        return loss\n",
    "    \n",
    "    def train(self, iterations, optimizer):\n",
    "        self.losses = []\n",
    "        for i in range(iterations):\n",
    "            optimizer.zero_grad()\n",
    "            scores = self.forward(self.input)\n",
    "            loss = self.loss(scores, self.desired_output)\n",
    "            self.losses.append(loss)   \n",
    "            loss.backward()\n",
    "            optimizer.step()\n",
    "    \n",
    "    def mean_train(self, iterations, optimizer, test_angle, test_size):\n",
    "        self.losses = []\n",
    "        self.training_scores = []\n",
    "        self.generalize_error = []\n",
    "        self.generalize_perform = []\n",
    "        for i in range(iterations):\n",
    "            self.training_score = 0\n",
    "            loss2 = []\n",
    "            \n",
    "            for j in range(self.training_size):\n",
    "                optimizer.zero_grad()\n",
    "                self.scores = self.forward(self.input[j][0].view(1, 1, self.input_size, self.input_size))\n",
    "                loss1 = self.loss(self.scores, self.desired_output[j])\n",
    "                if self.scores.round() == self.desired_output[j]:\n",
    "                    self.training_score += 1\n",
    "                loss2.append(loss1)\n",
    "                \n",
    "            loss = np.sum(loss2)/self.training_size\n",
    "            self.losses.append(loss)\n",
    "            \n",
    "            self.training_score = self.training_score/self.training_size * 100\n",
    "            self.training_scores.append(self.training_score)\n",
    "            \n",
    "            generalize = self.generalization(test_angle, test_size)\n",
    "            self.generalize_error.append(self.general_mean_error)\n",
    "            self.generalize_perform.append(self.generalization_score)\n",
    "            \n",
    "            loss.backward()\n",
    "            optimizer.step()\n",
    "            \n",
    "    def double_train(self, iterations, optimizer, angle1, angle2, test_angle, test_size):\n",
    "        self.losses = []\n",
    "        self.training_scores = []\n",
    "        self.generalize_error = []\n",
    "        self.generalize_perform = []\n",
    "        for angle in [angle1, angle2]:\n",
    "            input = self.inputting(angle)\n",
    "            desired_output = self.desired_outputting()\n",
    "            for i in range(iterations):\n",
    "                self.training_score = 0\n",
    "                loss2 = []\n",
    "\n",
    "                for j in range(self.training_size):\n",
    "                    optimizer.zero_grad()\n",
    "                    self.scores = self.forward(input[j][0].view(1, 1, self.input_size, self.input_size))\n",
    "                    loss1 = self.loss(self.scores, desired_output[j])\n",
    "                    if self.scores.round() == desired_output[j]:\n",
    "                        self.training_score += 1\n",
    "                    loss2.append(loss1)\n",
    "\n",
    "                loss = np.sum(loss2)/self.training_size\n",
    "                self.losses.append(loss)\n",
    "\n",
    "                self.training_score = self.training_score/self.training_size * 100\n",
    "                self.training_scores.append(self.training_score)\n",
    "\n",
    "                generalize = self.generalization(test_angle, test_size)\n",
    "                self.generalize_error.append(self.general_mean_error)\n",
    "                self.generalize_perform.append(self.generalization_score)\n",
    "\n",
    "                loss.backward()\n",
    "                optimizer.step()\n",
    "    \n",
    "    \n",
    "    def plot_training_error(self, color):\n",
    "        plt.plot(self.losses, color = color)\n",
    "        plt.xlabel(\"Time (epochs)\")\n",
    "        plt.ylabel(\"Error\")\n",
    "\n",
    "    def plot_training_performance(self, color):\n",
    "        plt.plot(self.training_scores, color = color)\n",
    "        plt.xlabel(\"Time (epochs)\")\n",
    "        plt.ylabel(\"Error\")\n",
    "        \n",
    "        \n",
    "    def generalization(self, angle, test_size):\n",
    "        angles = self.remove_ambiguous_stimuli(-angle, angle, test_size)\n",
    "        self.generalization_score = 0\n",
    "        general_error = []\n",
    "        for i in range(test_size):\n",
    "            gabor = net.generate_gabor(self.input_size, angles[i]).clone().detach()\n",
    "            if 0 < angles[i] < np.pi/2:\n",
    "                label = 1\n",
    "            else:\n",
    "                label = -1\n",
    "            with torch.no_grad():\n",
    "                a = self.forward(gabor)\n",
    "                if a.round().item() == label:\n",
    "                    self.generalization_score += 1\n",
    "                general_error.append(self.loss(a, label))\n",
    "        self.generalization_score = self.generalization_score/test_size * 100\n",
    "        self.general_mean_error = np.sum(general_error)/test_size\n",
    "\n",
    "    def plot_generalization_performance(self, color):\n",
    "        plt.plot(self.generalize_perform, color = color)\n",
    "        plt.xlabel(\"Time (epochs)\")\n",
    "        plt.ylabel(\"Performance (%)\")\n",
    "\n",
    "    def plot_generalization_error(self, color):\n",
    "        plt.plot(self.generalize_error, color = color)\n",
    "        plt.xlabel(\"Time (epochs)\")\n",
    "        plt.ylabel(\"Error\")"
   ]
  },
  {
   "cell_type": "code",
   "execution_count": 326,
   "metadata": {},
   "outputs": [],
   "source": [
    "net = convnet(33, 3, 11, 60, alpha = 0.001)\n",
    "# x = net.inputting(np.pi/2)\n",
    "# y = net.desired_outputting()\n",
    "optimizer = optim.SGD(net.parameters(), lr = net.alpha)\n",
    "net.double_train(300, optimizer, np.pi/2, np.pi/6, np.pi/16, 100)\n",
    "\n",
    "\n",
    "# net2 = convnet(33, 3, 11, 60, alpha = 0.001)\n",
    "# x = net2.input(np.pi/6)\n",
    "# y = net2.desired_output()\n",
    "# optimizer = optim.SGD(net2.parameters(), lr = net2.alpha)\n",
    "# net2.mean_train(300, optimizer)"
   ]
  },
  {
   "cell_type": "code",
   "execution_count": 327,
   "metadata": {},
   "outputs": [
    {
     "data": {
      "image/png": "[encoded data removed]",
      "text/plain": [
       "<Figure size 1440x1440 with 2 Axes>"
      ]
     },
     "metadata": {
      "needs_background": "light"
     },
     "output_type": "display_data"
    }
   ],
   "source": [
    "plt.figure(figsize = [20, 20])\n",
    "plt.subplot(3, 3, 1)\n",
    "net.plot_training_error('red')\n",
    "net.plot_generalization_error(\"blue\")\n",
    "plt.axvline(300, 0, 1, linestyle = 'dashed', color = 'black');\n",
    "plt.legend([\"Training error\", \"Generalization error\"]);\n",
    "\n",
    "plt.subplot(3, 3, 2)\n",
    "net.plot_training_performance('red')\n",
    "net.plot_generalization_performance(\"blue\")\n",
    "plt.legend([\"Training performance\", \"Generalization performance\"]);\n",
    "plt.axvline(300, 0, 1, linestyle = 'dashed', color = 'black');\n",
    "# net2.plot_loss('blue')\n"
   ]
  },
  {
   "cell_type": "code",
   "execution_count": null,
   "metadata": {},
   "outputs": [],
   "source": []
  },
  {
   "cell_type": "code",
   "execution_count": 181,
   "metadata": {},
   "outputs": [],
   "source": [
    "def calculate_score(angle, network):\n",
    "    angles = np.linspace(-angle, angle, 1000)\n",
    "    score_a = 0\n",
    "    score_b = 0\n",
    "    total = 0\n",
    "    scores = []\n",
    "    for i in range(len(angles)):\n",
    "        gabor = net.generate_gabor(33, angles[i]).clone().detach()\n",
    "        if 0 <= angles[i] <= np.pi/2:\n",
    "                    label = 1\n",
    "        else:\n",
    "            label = -1\n",
    "        with torch.no_grad():\n",
    "            a = net.forward(gabor)\n",
    "            b = net2.forward(gabor)\n",
    "            scores.append(b.round().item())\n",
    "            if a.round().item() == label:\n",
    "                score_a += 1\n",
    "            if b.round().item() == label:\n",
    "                score_b += 1\n",
    "        total += 1\n",
    "    score_a = score_a/total * 100\n",
    "    score_b = score_b/total * 100\n",
    "#     print(\"Net1 score: \" + str(score_a) + \"%\")\n",
    "#     print(\"Net2 score: \" + str(score_b) + \"%\")\n",
    "    if network == net:\n",
    "        return score_a \n",
    "    elif network == net2:\n",
    "        return score_b "
   ]
  },
  {
   "cell_type": "code",
   "execution_count": 328,
   "metadata": {},
   "outputs": [
    {
     "data": {
      "text/plain": [
       "Text(0, 0.5, 'Performance (%)')"
      ]
     },
     "execution_count": 328,
     "metadata": {},
     "output_type": "execute_result"
    },
    {
     "data": {
      "image/png": "[encoded data removed]",
      "text/plain": [
       "<Figure size 432x288 with 1 Axes>"
      ]
     },
     "metadata": {
      "needs_background": "light"
     },
     "output_type": "display_data"
    }
   ],
   "source": [
    "ascores = []\n",
    "bscores = []\n",
    "x = np.linspace(0, np.pi/2, 40)\n",
    "for i in range(40):\n",
    "    ascore = calculate_score(x[i], net)\n",
    "    ascores.append(ascore)\n",
    "#     bscore = calculate_score(x[i], net2)\n",
    "#     bscores.append(bscore)\n",
    "plt.plot(2*x, ascores, \"red\");\n",
    "# plt.plot(2*x, bscores, \"blue\")\n",
    "plt.xlabel(\"Task separation angle (radians)\")\n",
    "plt.ylabel(\"Performance (%)\");\n",
    "# plt.legend([\"Trained on low precision task\", \"Trained on high precision task\"]);"
   ]
  },
  {
   "cell_type": "code",
   "execution_count": null,
   "metadata": {},
   "outputs": [],
   "source": []
  },
  {
   "cell_type": "code",
   "execution_count": null,
   "metadata": {},
   "outputs": [],
   "source": []
  },
  {
   "cell_type": "code",
   "execution_count": null,
   "metadata": {},
   "outputs": [],
   "source": []
  },
  {
   "cell_type": "code",
   "execution_count": null,
   "metadata": {},
   "outputs": [],
   "source": []
  },
  {
   "cell_type": "code",
   "execution_count": 6,
   "metadata": {},
   "outputs": [
    {
     "ename": "RuntimeError",
     "evalue": "shape '[1, 15870]' is invalid for input of size 30",
     "output_type": "error",
     "traceback": [
      "\u001b[0;31m---------------------------------------------------------------------------\u001b[0m",
      "\u001b[0;31mRuntimeError\u001b[0m                              Traceback (most recent call last)",
      "\u001b[0;32m<ipython-input-6-f75a9753ce16>\u001b[0m in \u001b[0;36m<module>\u001b[0;34m\u001b[0m\n\u001b[1;32m      1\u001b[0m \u001b[0mgabor\u001b[0m \u001b[0;34m=\u001b[0m \u001b[0mnet\u001b[0m\u001b[0;34m.\u001b[0m\u001b[0mgenerate_gabor\u001b[0m\u001b[0;34m(\u001b[0m\u001b[0;36m11\u001b[0m\u001b[0;34m,\u001b[0m \u001b[0;34m-\u001b[0m\u001b[0mnp\u001b[0m\u001b[0;34m.\u001b[0m\u001b[0mpi\u001b[0m\u001b[0;34m/\u001b[0m\u001b[0;36m6\u001b[0m\u001b[0;34m)\u001b[0m\u001b[0;34m.\u001b[0m\u001b[0mclone\u001b[0m\u001b[0;34m(\u001b[0m\u001b[0;34m)\u001b[0m\u001b[0;34m.\u001b[0m\u001b[0mdetach\u001b[0m\u001b[0;34m(\u001b[0m\u001b[0;34m)\u001b[0m\u001b[0;34m\u001b[0m\u001b[0;34m\u001b[0m\u001b[0m\n\u001b[1;32m      2\u001b[0m \u001b[0;32mwith\u001b[0m \u001b[0mtorch\u001b[0m\u001b[0;34m.\u001b[0m\u001b[0mno_grad\u001b[0m\u001b[0;34m(\u001b[0m\u001b[0;34m)\u001b[0m\u001b[0;34m:\u001b[0m\u001b[0;34m\u001b[0m\u001b[0;34m\u001b[0m\u001b[0m\n\u001b[0;32m----> 3\u001b[0;31m     \u001b[0ma\u001b[0m \u001b[0;34m=\u001b[0m \u001b[0mnet\u001b[0m\u001b[0;34m.\u001b[0m\u001b[0mforward\u001b[0m\u001b[0;34m(\u001b[0m\u001b[0mgabor\u001b[0m\u001b[0;34m)\u001b[0m\u001b[0;34m\u001b[0m\u001b[0;34m\u001b[0m\u001b[0m\n\u001b[0m\u001b[1;32m      4\u001b[0m     \u001b[0mprint\u001b[0m\u001b[0;34m(\u001b[0m\u001b[0ma\u001b[0m\u001b[0;34m)\u001b[0m\u001b[0;34m\u001b[0m\u001b[0;34m\u001b[0m\u001b[0m\n",
      "\u001b[0;32m<ipython-input-3-5093f8838d67>\u001b[0m in \u001b[0;36mforward\u001b[0;34m(self, x)\u001b[0m\n\u001b[1;32m     58\u001b[0m     \u001b[0;32mdef\u001b[0m \u001b[0mforward\u001b[0m\u001b[0;34m(\u001b[0m\u001b[0mself\u001b[0m\u001b[0;34m,\u001b[0m \u001b[0mx\u001b[0m\u001b[0;34m)\u001b[0m\u001b[0;34m:\u001b[0m\u001b[0;34m\u001b[0m\u001b[0;34m\u001b[0m\u001b[0m\n\u001b[1;32m     59\u001b[0m         \u001b[0mresult\u001b[0m \u001b[0;34m=\u001b[0m \u001b[0mself\u001b[0m\u001b[0;34m.\u001b[0m\u001b[0mconv1\u001b[0m\u001b[0;34m(\u001b[0m\u001b[0mx\u001b[0m\u001b[0;34m)\u001b[0m\u001b[0;34m\u001b[0m\u001b[0;34m\u001b[0m\u001b[0m\n\u001b[0;32m---> 60\u001b[0;31m         \u001b[0mout\u001b[0m \u001b[0;34m=\u001b[0m \u001b[0mresult\u001b[0m\u001b[0;34m.\u001b[0m\u001b[0mview\u001b[0m\u001b[0;34m(\u001b[0m\u001b[0;36m1\u001b[0m\u001b[0;34m,\u001b[0m \u001b[0mself\u001b[0m\u001b[0;34m.\u001b[0m\u001b[0mdimensions\u001b[0m\u001b[0;34m*\u001b[0m\u001b[0mself\u001b[0m\u001b[0;34m.\u001b[0m\u001b[0mdimensions\u001b[0m\u001b[0;34m*\u001b[0m\u001b[0mself\u001b[0m\u001b[0;34m.\u001b[0m\u001b[0mfilter_number\u001b[0m\u001b[0;34m)\u001b[0m\u001b[0;34m\u001b[0m\u001b[0;34m\u001b[0m\u001b[0m\n\u001b[0m\u001b[1;32m     61\u001b[0m         \u001b[0mout\u001b[0m \u001b[0;34m=\u001b[0m \u001b[0mself\u001b[0m\u001b[0;34m.\u001b[0m\u001b[0mfc1\u001b[0m\u001b[0;34m(\u001b[0m\u001b[0mout\u001b[0m\u001b[0;34m)\u001b[0m\u001b[0;34m\u001b[0m\u001b[0;34m\u001b[0m\u001b[0m\n\u001b[1;32m     62\u001b[0m         \u001b[0;32mreturn\u001b[0m \u001b[0mout\u001b[0m\u001b[0;34m\u001b[0m\u001b[0;34m\u001b[0m\u001b[0m\n",
      "\u001b[0;31mRuntimeError\u001b[0m: shape '[1, 15870]' is invalid for input of size 30"
     ]
    }
   ],
   "source": [
    "gabor = net.generate_gabor(11, -np.pi/6).clone().detach()\n",
    "with torch.no_grad():\n",
    "    a = net.forward(gabor)\n",
    "    print(a)"
   ]
  },
  {
   "cell_type": "code",
   "execution_count": null,
   "metadata": {},
   "outputs": [],
   "source": [
    "x = torch.randn(1, 1, 10, 10)\n",
    "\n",
    "def generate_gabor(ksize, theta):\n",
    "        ksize = 5\n",
    "        sigma = 1\n",
    "        lamda = np.pi/4\n",
    "        gamma = 0.1\n",
    "        phi = 0\n",
    "        kernel = cv2.getGaborKernel((ksize, ksize), sigma, theta, lamda, gamma, phi)\n",
    "        return torch.tensor(kernel).view(1, 1, 5, 5).float()\n",
    "# maps = []\n",
    "# angles = np.linspace(0, np.pi, 3)\n",
    "# for i in range(3):\n",
    "#     theta = angles[i]\n",
    "#     kernel = generate_gabor(theta)\n",
    "#     out = F.conv2d(x, kernel)\n",
    "#     maps.append(out)\n",
    "# a = []\n",
    "# len(maps)\n"
   ]
  },
  {
   "cell_type": "code",
   "execution_count": null,
   "metadata": {},
   "outputs": [],
   "source": [
    "net = convnet(11, 3, 5, 3)\n",
    "x = np.linspace(0, np.pi, 3)\n",
    "inputs = []\n",
    "b = net.input(0, np.pi/2)\n",
    "\n",
    "def init_weights(n):\n",
    "    for i in range(n):\n",
    "        theta = x[i]\n",
    "        kernel = net.generate_gabor(5, theta)\n",
    "        inputs.append(kernel)\n",
    "    input = torch.stack(inputs).view(1, n, 5, 5)\n",
    "    return input\n",
    "\n",
    "conv1 = torch.nn.Conv2d(1, 3, 11, 11)\n",
    "a = init_weights(3)\n",
    "conv1.weight.data = a\n",
    "maps = []\n",
    "for i in range(net.training_size):\n",
    "    input = b[0][i].view(1, 1, 11, 11)\n",
    "    weight = conv1.weight.data[0][i].view(1, 1, 5, 5)\n",
    "    result = F.conv2d(input, weight)\n",
    "    maps.append(result)\n",
    "    \n",
    "maps"
   ]
  },
  {
   "cell_type": "code",
   "execution_count": null,
   "metadata": {},
   "outputs": [],
   "source": [
    "sigma = nn.Parameter(torch.randn(1), requires_grad = True)\n"
   ]
  },
  {
   "cell_type": "code",
   "execution_count": null,
   "metadata": {},
   "outputs": [],
   "source": [
    "net = convnet(11, 30, 5, 20)\n",
    "a = net.input(0, np.pi/2)\n",
    "def init_weights(n):\n",
    "    inputs = []\n",
    "    for i in range(n):\n",
    "            theta = x[i]\n",
    "            kernel = net.generate_gabor(11, theta)\n",
    "            inputs.append(kernel)\n",
    "#     b = torch.stack(inputs).view(1, n, 11, 11)\n",
    "    return inputs\n",
    "conv1 = torch.nn.Conv2d(1, 3, 5, 5)\n",
    "a = init_weights(3)\n",
    "# for i in range(len(inputs)):\n",
    "#     result = conv1(a[i])\n",
    "#     print(result)\n",
    "a"
   ]
  },
  {
   "cell_type": "code",
   "execution_count": null,
   "metadata": {},
   "outputs": [],
   "source": [
    "net = convnet(33, 30, 11, 20, alpha = 0.001)\n",
    "x = net.input(-np.pi/2,np.pi/2).view(-1, 1, 11, 11)\n",
    "y = net.desired_output()\n",
    "optimizer = optim.SGD(net.parameters(), lr = net.alpha)\n",
    "net(x)"
   ]
  },
  {
   "cell_type": "code",
   "execution_count": null,
   "metadata": {},
   "outputs": [],
   "source": [
    "b = torch.randn(3, 5, 5).view(3, 1, 5, 5)\n",
    "a = nn.Conv2d(1, 3, 2)\n",
    "a.weight.shape"
   ]
  },
  {
   "cell_type": "code",
   "execution_count": null,
   "metadata": {},
   "outputs": [],
   "source": []
  },
  {
   "cell_type": "code",
   "execution_count": 202,
   "metadata": {},
   "outputs": [
    {
     "ename": "NameError",
     "evalue": "name 'theta' is not defined",
     "output_type": "error",
     "traceback": [
      "\u001b[0;31m---------------------------------------------------------------------------\u001b[0m",
      "\u001b[0;31mNameError\u001b[0m                                 Traceback (most recent call last)",
      "\u001b[0;32m<ipython-input-202-ab723ae8552d>\u001b[0m in \u001b[0;36m<module>\u001b[0;34m\u001b[0m\n\u001b[1;32m      5\u001b[0m     \u001b[0;32mif\u001b[0m \u001b[0;34m-\u001b[0m\u001b[0mnp\u001b[0m\u001b[0;34m.\u001b[0m\u001b[0mpi\u001b[0m\u001b[0;34m/\u001b[0m\u001b[0;36m2\u001b[0m \u001b[0;32min\u001b[0m \u001b[0mx\u001b[0m\u001b[0;34m:\u001b[0m\u001b[0;34m\u001b[0m\u001b[0;34m\u001b[0m\u001b[0m\n\u001b[1;32m      6\u001b[0m         \u001b[0mignore\u001b[0m \u001b[0;34m+=\u001b[0m \u001b[0;36m1\u001b[0m\u001b[0;34m\u001b[0m\u001b[0;34m\u001b[0m\u001b[0m\n\u001b[0;32m----> 7\u001b[0;31m         \u001b[0mnp\u001b[0m\u001b[0;34m.\u001b[0m\u001b[0mdelete\u001b[0m\u001b[0;34m(\u001b[0m\u001b[0mx\u001b[0m\u001b[0;34m,\u001b[0m \u001b[0mtheta\u001b[0m\u001b[0;34m)\u001b[0m\u001b[0;34m\u001b[0m\u001b[0;34m\u001b[0m\u001b[0m\n\u001b[0m\u001b[1;32m      8\u001b[0m     \u001b[0;32mif\u001b[0m \u001b[0;36m0\u001b[0m \u001b[0;32min\u001b[0m \u001b[0mx\u001b[0m\u001b[0;34m:\u001b[0m\u001b[0;34m\u001b[0m\u001b[0;34m\u001b[0m\u001b[0m\n\u001b[1;32m      9\u001b[0m         \u001b[0mignore\u001b[0m \u001b[0;34m+=\u001b[0m \u001b[0;36m1\u001b[0m\u001b[0;34m\u001b[0m\u001b[0;34m\u001b[0m\u001b[0m\n",
      "\u001b[0;31mNameError\u001b[0m: name 'theta' is not defined"
     ]
    }
   ],
   "source": [
    "x = np.linspace(-np.pi/2, np.pi/2, 10)\n",
    "ignore = 0\n",
    "ambiguous = True\n",
    "while ambiguous == True:\n",
    "    if -np.pi/2 in x:\n",
    "        ignore += 1\n",
    "        np.delete(x, theta)\n",
    "    if 0 in x:\n",
    "        ignore += 1\n",
    "        np.delete(x, theta)\n",
    "    if np.pi/2 in x:\n",
    "        ignore += 1\n",
    "        np.delete(x, theta)\n",
    "    x = np.linspace(x[0], x[-1], self.training_size)\n",
    "    if -np.pi/2 in x or 0 in x or np.pi/2 in x:\n",
    "        ambiguous = True\n",
    "    else:\n",
    "        ambiguous = False"
   ]
  },
  {
   "cell_type": "code",
   "execution_count": null,
   "metadata": {},
   "outputs": [],
   "source": []
  },
  {
   "cell_type": "code",
   "execution_count": null,
   "metadata": {},
   "outputs": [],
   "source": []
  }
 ],
 "metadata": {
  "kernelspec": {
   "display_name": "Python 3",
   "language": "python",
   "name": "python3"
  },
  "language_info": {
   "codemirror_mode": {
    "name": "ipython",
    "version": 3
   },
   "file_extension": ".py",
   "mimetype": "text/x-python",
   "name": "python",
   "nbconvert_exporter": "python",
   "pygments_lexer": "ipython3",
   "version": "3.8.5"
  }
 },
 "nbformat": 4,
 "nbformat_minor": 4
}
