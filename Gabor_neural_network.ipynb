{
 "cells": [
  {
   "cell_type": "code",
   "execution_count": 134,
   "metadata": {},
   "outputs": [],
   "source": [
    "import numpy as np\n",
    "import matplotlib.pyplot as plt\n",
    "import torch\n",
    "import torch.nn as nn\n",
    "import torch.optim as optim\n",
    "import cv2"
   ]
  },
  {
   "cell_type": "code",
   "execution_count": 253,
   "metadata": {},
   "outputs": [],
   "source": [
    "class gabor_network(nn.Module):\n",
    "    \n",
    "    def __init__(self, N, m, gabor_shape = 11, output_size = 1, alpha = 0.001, iterations = 1000):\n",
    "        super(gabor_network, self).__init__()\n",
    "        self.fc1 = nn.Linear(gabor_shape ** 2, N)\n",
    "        self.fc2 = nn.Linear(N, output_size)\n",
    "        self.alpha = alpha\n",
    "        self.hidden_size = N\n",
    "        self.gabor_shape = gabor_shape\n",
    "        self.training_size = m\n",
    "        self.iterations = iterations\n",
    "        \n",
    "        \n",
    "    def generate_gabor(self, theta):\n",
    "        ksize = self.gabor_shape\n",
    "        sigma = 1\n",
    "        lamda = np.pi/4\n",
    "        gamma = 0.1\n",
    "        phi = 0\n",
    "        self.gabor_size = self.gabor_shape ** 2\n",
    "        kernel = cv2.getGaborKernel((ksize, ksize), sigma, theta, lamda, gamma, phi)\n",
    "        kernel = kernel.reshape(1, self.gabor_size)\n",
    "        return kernel\n",
    "\n",
    "        \n",
    "    def init_weights(self):        \n",
    "        #for each angle, generate gabor filter\n",
    "        #Append gabor filter to w21\n",
    "        angles = np.linspace(0, np.pi, self.hidden_size)\n",
    "        self.w21 = []\n",
    "        for i in range(self.hidden_size):\n",
    "            theta = angles[i]\n",
    "            kernel = self.generate_gabor(theta)\n",
    "            kernel = kernel.reshape(1, self.gabor_size)\n",
    "            self.w21.append(kernel)\n",
    "            \n",
    "        self.w21 = torch.FloatTensor(self.w21)\n",
    "        self.w21 = self.w21.T.reshape(self.hidden_size, self.gabor_size)\n",
    "    \n",
    "        \n",
    "        self.fc1.weight = torch.nn.Parameter(self.w21.float())\n",
    "        self.fc2.weight = torch.nn.Parameter(torch.zeros((1,self.hidden_size)))\n",
    "\n",
    "    \n",
    "    def input(self, angle1, angle2):\n",
    "        x = np.linspace(angle1, angle2, self.training_size)\n",
    "        self.labels = []\n",
    "        inputs = []\n",
    "        for i in range(self.training_size):\n",
    "              theta = x[i]\n",
    "              kernel = self.generate_gabor(theta)\n",
    "              kernel = kernel.reshape(1, self.gabor_size)\n",
    "              inputs.append(kernel)\n",
    "              if 0 <= x[i] <= np.pi/2:\n",
    "                  label = 1\n",
    "              else:\n",
    "                  label = -1\n",
    "              self.labels.append(label)\n",
    "        self.input = torch.FloatTensor(inputs)\n",
    "        self.input = self.input.T.view(self.gabor_size, self.training_size)\n",
    "        return self.input\n",
    "        \n",
    "    def desired_output(self):\n",
    "        self.desired_output = self.labels\n",
    "        return self.desired_output\n",
    "            \n",
    "    def forward(self, x):\n",
    "        out = self.fc1(x)\n",
    "        out = self.fc2(out)\n",
    "        return out\n",
    "    \n",
    "    def loss(self, scores, desired_output):\n",
    "        loss = torch.linalg.norm(desired_output - scores)**2\n",
    "        return loss\n",
    "\n",
    "    def train(self, iterations, optimizer):\n",
    "        self.losses = []\n",
    "        for i in range(iterations):\n",
    "            for j in range(self.training_size):\n",
    "                optimizer.zero_grad()\n",
    "                scores = self.forward(self.input[:,j])\n",
    "                loss = self.loss(scores, self.desired_output[j])\n",
    "                self.losses.append(loss)   \n",
    "                loss.backward()\n",
    "                optimizer.step()\n",
    "\n",
    "    def mean_train(self, iterations, optimizer):\n",
    "        self.losses = []\n",
    "        for i in range(iterations):\n",
    "            loss2 = []\n",
    "            for j in range(self.training_size):\n",
    "                optimizer.zero_grad()\n",
    "                scores = self.forward(self.input[:,j])\n",
    "                loss1 = self.loss(scores, self.desired_output[j])\n",
    "                loss2.append(loss1)   \n",
    "            loss = np.sum(loss2)/self.training_size\n",
    "            self.losses.append(loss)\n",
    "            loss.backward()\n",
    "            optimizer.step()\n",
    "                \n",
    "    def plot_loss(self, color):\n",
    "        plt.plot(self.losses, color = color)\n",
    "        plt.xlabel(\"Time (epochs)\")\n",
    "        plt.ylabel(\"Error\")\n"
   ]
  },
  {
   "cell_type": "code",
   "execution_count": 325,
   "metadata": {},
   "outputs": [
    {
     "data": {
      "image/png": "[encoded data removed]",
      "text/plain": [
       "<Figure size 432x288 with 1 Axes>"
      ]
     },
     "metadata": {
      "needs_background": "light"
     },
     "output_type": "display_data"
    }
   ],
   "source": [
    "net = gabor_network(70, 10)\n",
    "net.init_weights()\n",
    "x = net.input(0, np.pi)\n",
    "y = net.desired_output()\n",
    "optimizer = optim.SGD(net.parameters(), lr = net.alpha)\n",
    "net.mean_train(1000, optimizer)\n",
    "net.plot_loss('red')\n",
    "\n",
    "# net2 = gabor_network(500, 50)\n",
    "# net2.init_weights()\n",
    "# x = net2.input(-np.pi/6,np.pi/6)\n",
    "# y = net2.desired_output()\n",
    "# optimizer = optim.SGD(net2.parameters(), lr = net2.alpha)\n",
    "# net2.mean_train(500, optimizer)\n",
    "# net2.plot_loss('blue')"
   ]
  },
  {
   "cell_type": "code",
   "execution_count": 304,
   "metadata": {},
   "outputs": [
    {
     "name": "stdout",
     "output_type": "stream",
     "text": [
      "tensor([[-0.1548]])\n"
     ]
    }
   ],
   "source": [
    "gabor = torch.tensor(net.generate_gabor(-np.pi/3)).float()\n",
    "with torch.no_grad():\n",
    "    a = net.forward(gabor)\n",
    "    print(a)"
   ]
  },
  {
   "cell_type": "code",
   "execution_count": 275,
   "metadata": {},
   "outputs": [
    {
     "data": {
      "text/plain": [
       "<matplotlib.image.AxesImage at 0x7fc8a9e9e4c0>"
      ]
     },
     "execution_count": 275,
     "metadata": {},
     "output_type": "execute_result"
    },
    {
     "data": {
      "image/png": "[encoded data removed]",
      "text/plain": [
       "<Figure size 432x288 with 1 Axes>"
      ]
     },
     "metadata": {
      "needs_background": "light"
     },
     "output_type": "display_data"
    }
   ],
   "source": [
    "def generate_gabor(theta):\n",
    "        ksize = 11\n",
    "        sigma = 1\n",
    "        lamda = np.pi/4\n",
    "        gamma = 0.1\n",
    "        phi = 0\n",
    "        kernel = cv2.getGaborKernel((ksize, ksize), sigma, theta, lamda, gamma, phi)\n",
    "        return kernel\n",
    "b = generate_gabor(np.pi/2)\n",
    "plt.imshow(b)"
   ]
  },
  {
   "cell_type": "code",
   "execution_count": 5,
   "metadata": {},
   "outputs": [],
   "source": [
    "def gabor2(sigma, theta, Lambda, psi, gamma):\n",
    "    \"\"\"Gabor feature extraction.\"\"\"\n",
    "    sigma_x = sigma\n",
    "    sigma_y = float(sigma) / gamma\n",
    "\n",
    "    # Bounding box\n",
    "    nstds = 3  # Number of standard deviation sigma\n",
    "    xmax = max(abs(nstds * sigma_x * np.cos(theta)), abs(nstds * sigma_y * np.sin(theta)))\n",
    "    xmax = np.ceil(max(1, xmax))\n",
    "    ymax = max(abs(nstds * sigma_x * np.sin(theta)), abs(nstds * sigma_y * np.cos(theta)))\n",
    "    ymax = np.ceil(max(1, ymax))\n",
    "    xmin = -xmax\n",
    "    ymin = -ymax\n",
    "    (y, x) = np.meshgrid(np.arange(ymin, ymax + 1), np.arange(xmin, xmax + 1))\n",
    "\n",
    "    # Rotation\n",
    "    x_theta = x * np.cos(theta) + y * np.sin(theta)\n",
    "    y_theta = -x * np.sin(theta) + y * np.cos(theta)\n",
    "\n",
    "    gb = np.exp(-.5 * (x_theta ** 2 / sigma_x ** 2 + y_theta ** 2 / sigma_y ** 2)) * np.cos(2 * np.pi / Lambda * x_theta + psi)\n",
    "    return gb"
   ]
  },
  {
   "cell_type": "code",
   "execution_count": 6,
   "metadata": {},
   "outputs": [
    {
     "data": {
      "text/plain": [
       "(37, 13)"
      ]
     },
     "execution_count": 6,
     "metadata": {},
     "output_type": "execute_result"
    }
   ],
   "source": [
    "kernel = gabor2(6, np.pi, np.pi/3, 3, 3)\n",
    "# plt.imshow(kernel)\n",
    "# plt.show()\n",
    "kernel.shape"
   ]
  },
  {
   "cell_type": "code",
   "execution_count": 120,
   "metadata": {},
   "outputs": [
    {
     "name": "stdout",
     "output_type": "stream",
     "text": [
      "1\n"
     ]
    },
    {
     "data": {
      "image/png": "[encoded data removed]",
      "text/plain": [
       "<Figure size 432x288 with 1 Axes>"
      ]
     },
     "metadata": {
      "needs_background": "light"
     },
     "output_type": "display_data"
    },
    {
     "name": "stdout",
     "output_type": "stream",
     "text": [
      "1\n"
     ]
    },
    {
     "data": {
      "image/png": "[encoded data removed]",
      "text/plain": [
       "<Figure size 432x288 with 1 Axes>"
      ]
     },
     "metadata": {
      "needs_background": "light"
     },
     "output_type": "display_data"
    },
    {
     "name": "stdout",
     "output_type": "stream",
     "text": [
      "1\n"
     ]
    },
    {
     "data": {
      "image/png": "[encoded data removed]",
      "text/plain": [
       "<Figure size 432x288 with 1 Axes>"
      ]
     },
     "metadata": {
      "needs_background": "light"
     },
     "output_type": "display_data"
    },
    {
     "name": "stdout",
     "output_type": "stream",
     "text": [
      "1\n"
     ]
    },
    {
     "data": {
      "image/png": "[encoded data removed]",
      "text/plain": [
       "<Figure size 432x288 with 1 Axes>"
      ]
     },
     "metadata": {
      "needs_background": "light"
     },
     "output_type": "display_data"
    },
    {
     "name": "stdout",
     "output_type": "stream",
     "text": [
      "1\n"
     ]
    },
    {
     "data": {
      "image/png": "[encoded data removed]",
      "text/plain": [
       "<Figure size 432x288 with 1 Axes>"
      ]
     },
     "metadata": {
      "needs_background": "light"
     },
     "output_type": "display_data"
    },
    {
     "name": "stdout",
     "output_type": "stream",
     "text": [
      "-1\n"
     ]
    },
    {
     "data": {
      "image/png": "[encoded data removed]",
      "text/plain": [
       "<Figure size 432x288 with 1 Axes>"
      ]
     },
     "metadata": {
      "needs_background": "light"
     },
     "output_type": "display_data"
    },
    {
     "name": "stdout",
     "output_type": "stream",
     "text": [
      "-1\n"
     ]
    },
    {
     "data": {
      "image/png": "[encoded data removed]",
      "text/plain": [
       "<Figure size 432x288 with 1 Axes>"
      ]
     },
     "metadata": {
      "needs_background": "light"
     },
     "output_type": "display_data"
    },
    {
     "name": "stdout",
     "output_type": "stream",
     "text": [
      "-1\n"
     ]
    },
    {
     "data": {
      "image/png": "[encoded data removed]",
      "text/plain": [
       "<Figure size 432x288 with 1 Axes>"
      ]
     },
     "metadata": {
      "needs_background": "light"
     },
     "output_type": "display_data"
    },
    {
     "name": "stdout",
     "output_type": "stream",
     "text": [
      "-1\n"
     ]
    },
    {
     "data": {
      "image/png": "[encoded data removed]",
      "text/plain": [
       "<Figure size 432x288 with 1 Axes>"
      ]
     },
     "metadata": {
      "needs_background": "light"
     },
     "output_type": "display_data"
    },
    {
     "name": "stdout",
     "output_type": "stream",
     "text": [
      "1\n"
     ]
    },
    {
     "data": {
      "image/png": "[encoded data removed]",
      "text/plain": [
       "<Figure size 432x288 with 1 Axes>"
      ]
     },
     "metadata": {
      "needs_background": "light"
     },
     "output_type": "display_data"
    }
   ],
   "source": [
    "\n",
    "ksize = 11\n",
    "sigma = 1\n",
    "theta = 2*np.pi/3\n",
    "lamda = np.pi/4\n",
    "gamma = 0.1\n",
    "phi = 0\n",
    "\n",
    "x = np.linspace(0, np.pi, 10)\n",
    "labels = []\n",
    "for i in range(10):\n",
    "    theta = x[i]\n",
    "    kernel = cv2.getGaborKernel((ksize, ksize), sigma, theta, lamda, gamma, phi)\n",
    "    kernel = cv2.getGaborKernel((ksize, ksize), sigma, theta, lamda, gamma, phi)\n",
    "    if x[i] <= np.pi/2 or x[i] == np.pi:\n",
    "        label = 1\n",
    "    else:\n",
    "        label = -1\n",
    "    labels.append(label)\n",
    "    plt.imshow(kernel), print(label)\n",
    "    plt.show()\n",
    "    \n",
    "\n"
   ]
  },
  {
   "cell_type": "code",
   "execution_count": 116,
   "metadata": {},
   "outputs": [
    {
     "data": {
      "image/png": "[encoded data removed]",
      "text/plain": [
       "<Figure size 432x288 with 1 Axes>"
      ]
     },
     "metadata": {
      "needs_background": "light"
     },
     "output_type": "display_data"
    }
   ],
   "source": [
    "\n",
    "ksize = 11\n",
    "sigma = 1\n",
    "theta = np.pi/3\n",
    "lamda = np.pi/4\n",
    "gamma = 0.1\n",
    "phi = 0\n",
    "kernel = cv2.getGaborKernel((ksize, ksize), sigma, theta, lamda, gamma, phi)\n",
    "plt.imshow(kernel)\n",
    "plt.show()\n"
   ]
  },
  {
   "cell_type": "code",
   "execution_count": 159,
   "metadata": {},
   "outputs": [
    {
     "data": {
      "text/plain": [
       "array([2, 4, 6])"
      ]
     },
     "execution_count": 159,
     "metadata": {},
     "output_type": "execute_result"
    }
   ],
   "source": [
    "a = np.array(np.random.randn(100,4))\n",
    "a[:][0]"
   ]
  },
  {
   "cell_type": "code",
   "execution_count": 251,
   "metadata": {},
   "outputs": [
    {
     "name": "stdout",
     "output_type": "stream",
     "text": [
      "True\n"
     ]
    }
   ],
   "source": [
    "if 0<= 2 <= 4:\n",
    "    print(True)"
   ]
  },
  {
   "cell_type": "code",
   "execution_count": null,
   "metadata": {},
   "outputs": [],
   "source": []
  }
 ],
 "metadata": {
  "kernelspec": {
   "display_name": "Python 3",
   "language": "python",
   "name": "python3"
  },
  "language_info": {
   "codemirror_mode": {
    "name": "ipython",
    "version": 3
   },
   "file_extension": ".py",
   "mimetype": "text/x-python",
   "name": "python",
   "nbconvert_exporter": "python",
   "pygments_lexer": "ipython3",
   "version": "3.8.5"
  }
 },
 "nbformat": 4,
 "nbformat_minor": 4
}
