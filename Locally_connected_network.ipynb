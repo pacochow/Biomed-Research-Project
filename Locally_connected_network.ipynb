{
 "cells": [
  {
   "cell_type": "code",
   "execution_count": 81,
   "metadata": {},
   "outputs": [
    {
     "name": "stdout",
     "output_type": "stream",
     "text": [
      "The autoreload extension is already loaded. To reload it, use:\n",
      "  %reload_ext autoreload\n"
     ]
    }
   ],
   "source": [
    "%load_ext autoreload\n",
    "%autoreload 2\n",
    "import LCN_model\n",
    "import numpy as np\n",
    "import matplotlib.pyplot as plt\n",
    "import torch\n",
    "import torch.nn as nn\n",
    "import torch.nn.functional as F\n",
    "import torch.optim as optim\n",
    "import cv2\n",
    "from tqdm import tqdm"
   ]
  },
  {
   "cell_type": "markdown",
   "metadata": {},
   "source": [
    "## Precision test"
   ]
  },
  {
   "cell_type": "code",
   "execution_count": 48,
   "metadata": {},
   "outputs": [
    {
     "name": "stderr",
     "output_type": "stream",
     "text": [
      "  6%|▋         | 125/2000 [00:57<14:29,  2.16it/s]\n"
     ]
    },
    {
     "ename": "KeyboardInterrupt",
     "evalue": "",
     "output_type": "error",
     "traceback": [
      "\u001b[0;31m---------------------------------------------------------------------------\u001b[0m",
      "\u001b[0;31mKeyboardInterrupt\u001b[0m                         Traceback (most recent call last)",
      "\u001b[0;32m<ipython-input-48-91ce2aefa5d6>\u001b[0m in \u001b[0;36m<module>\u001b[0;34m\u001b[0m\n\u001b[1;32m      7\u001b[0m \u001b[0my\u001b[0m \u001b[0;34m=\u001b[0m \u001b[0mnet\u001b[0m\u001b[0;34m.\u001b[0m\u001b[0mdesired_outputting\u001b[0m\u001b[0;34m(\u001b[0m\u001b[0;34m)\u001b[0m\u001b[0;34m\u001b[0m\u001b[0;34m\u001b[0m\u001b[0m\n\u001b[1;32m      8\u001b[0m \u001b[0moptimizer\u001b[0m \u001b[0;34m=\u001b[0m \u001b[0moptim\u001b[0m\u001b[0;34m.\u001b[0m\u001b[0mSGD\u001b[0m\u001b[0;34m(\u001b[0m\u001b[0mnet\u001b[0m\u001b[0;34m.\u001b[0m\u001b[0mparameters\u001b[0m\u001b[0;34m(\u001b[0m\u001b[0;34m)\u001b[0m\u001b[0;34m,\u001b[0m \u001b[0mlr\u001b[0m \u001b[0;34m=\u001b[0m \u001b[0mnet\u001b[0m\u001b[0;34m.\u001b[0m\u001b[0malpha\u001b[0m\u001b[0;34m)\u001b[0m\u001b[0;34m\u001b[0m\u001b[0;34m\u001b[0m\u001b[0m\n\u001b[0;32m----> 9\u001b[0;31m \u001b[0mnet\u001b[0m\u001b[0;34m.\u001b[0m\u001b[0mmean_train\u001b[0m\u001b[0;34m(\u001b[0m\u001b[0;36m2000\u001b[0m\u001b[0;34m,\u001b[0m \u001b[0moptimizer\u001b[0m\u001b[0;34m)\u001b[0m\u001b[0;34m\u001b[0m\u001b[0;34m\u001b[0m\u001b[0m\n\u001b[0m\u001b[1;32m     10\u001b[0m \u001b[0;34m\u001b[0m\u001b[0m\n\u001b[1;32m     11\u001b[0m \u001b[0;31m# net2 = LCN_model.LCN(\u001b[0m\u001b[0;34m\u001b[0m\u001b[0;34m\u001b[0m\u001b[0;34m\u001b[0m\u001b[0m\n",
      "\u001b[0;32m~/paco/Biomed-Research-Project/LCN_model.py\u001b[0m in \u001b[0;36mmean_train\u001b[0;34m(self, iterations, optimizer)\u001b[0m\n\u001b[1;32m    299\u001b[0m             \u001b[0mself\u001b[0m\u001b[0;34m.\u001b[0m\u001b[0mtraining_scores\u001b[0m\u001b[0;34m.\u001b[0m\u001b[0mappend\u001b[0m\u001b[0;34m(\u001b[0m\u001b[0mself\u001b[0m\u001b[0;34m.\u001b[0m\u001b[0mtraining_score\u001b[0m\u001b[0;34m)\u001b[0m\u001b[0;34m\u001b[0m\u001b[0;34m\u001b[0m\u001b[0m\n\u001b[1;32m    300\u001b[0m \u001b[0;34m\u001b[0m\u001b[0m\n\u001b[0;32m--> 301\u001b[0;31m             \u001b[0mself\u001b[0m\u001b[0;34m.\u001b[0m\u001b[0mbefore_v1weights\u001b[0m\u001b[0;34m.\u001b[0m\u001b[0mappend\u001b[0m\u001b[0;34m(\u001b[0m\u001b[0mself\u001b[0m\u001b[0;34m.\u001b[0m\u001b[0mv1_weight_change\u001b[0m\u001b[0;34m(\u001b[0m\u001b[0mself\u001b[0m\u001b[0;34m.\u001b[0m\u001b[0mbefore_v1weight\u001b[0m\u001b[0;34m,\u001b[0m \u001b[0mself\u001b[0m\u001b[0;34m.\u001b[0m\u001b[0msimple_weight\u001b[0m\u001b[0;34m)\u001b[0m\u001b[0;34m)\u001b[0m\u001b[0;34m\u001b[0m\u001b[0;34m\u001b[0m\u001b[0m\n\u001b[0m\u001b[1;32m    302\u001b[0m             \u001b[0mself\u001b[0m\u001b[0;34m.\u001b[0m\u001b[0mbefore_v4weights\u001b[0m\u001b[0;34m.\u001b[0m\u001b[0mappend\u001b[0m\u001b[0;34m(\u001b[0m\u001b[0mself\u001b[0m\u001b[0;34m.\u001b[0m\u001b[0mv4_weight_change\u001b[0m\u001b[0;34m(\u001b[0m\u001b[0mself\u001b[0m\u001b[0;34m.\u001b[0m\u001b[0mbefore_v4weight\u001b[0m\u001b[0;34m,\u001b[0m \u001b[0mself\u001b[0m\u001b[0;34m.\u001b[0m\u001b[0mv4_weight\u001b[0m\u001b[0;34m)\u001b[0m\u001b[0;34m)\u001b[0m\u001b[0;34m\u001b[0m\u001b[0;34m\u001b[0m\u001b[0m\n\u001b[1;32m    303\u001b[0m             \u001b[0mself\u001b[0m\u001b[0;34m.\u001b[0m\u001b[0mbefore_decision_weights\u001b[0m\u001b[0;34m.\u001b[0m\u001b[0mappend\u001b[0m\u001b[0;34m(\u001b[0m\u001b[0mself\u001b[0m\u001b[0;34m.\u001b[0m\u001b[0mdecision_weight_change\u001b[0m\u001b[0;34m(\u001b[0m\u001b[0mself\u001b[0m\u001b[0;34m.\u001b[0m\u001b[0mbefore_decision_weight\u001b[0m\u001b[0;34m,\u001b[0m \u001b[0mself\u001b[0m\u001b[0;34m.\u001b[0m\u001b[0mdecision\u001b[0m\u001b[0;34m.\u001b[0m\u001b[0mweight\u001b[0m\u001b[0;34m)\u001b[0m\u001b[0;34m)\u001b[0m\u001b[0;34m\u001b[0m\u001b[0;34m\u001b[0m\u001b[0m\n",
      "\u001b[0;32m~/paco/Biomed-Research-Project/LCN_model.py\u001b[0m in \u001b[0;36mv1_weight_change\u001b[0;34m(self, before, after)\u001b[0m\n\u001b[1;32m    457\u001b[0m             \u001b[0;32mfor\u001b[0m \u001b[0mj\u001b[0m \u001b[0;32min\u001b[0m \u001b[0mi\u001b[0m\u001b[0;34m.\u001b[0m\u001b[0mview\u001b[0m\u001b[0;34m(\u001b[0m\u001b[0mself\u001b[0m\u001b[0;34m.\u001b[0m\u001b[0mdimensions\u001b[0m\u001b[0;34m,\u001b[0m \u001b[0mself\u001b[0m\u001b[0;34m.\u001b[0m\u001b[0mdimensions\u001b[0m\u001b[0;34m,\u001b[0m \u001b[0mself\u001b[0m\u001b[0;34m.\u001b[0m\u001b[0msimple_size\u001b[0m \u001b[0;34m**\u001b[0m \u001b[0;36m2\u001b[0m\u001b[0;34m)\u001b[0m\u001b[0;34m:\u001b[0m\u001b[0;34m\u001b[0m\u001b[0;34m\u001b[0m\u001b[0m\n\u001b[1;32m    458\u001b[0m                 \u001b[0;32mfor\u001b[0m \u001b[0mk\u001b[0m \u001b[0;32min\u001b[0m \u001b[0mj\u001b[0m\u001b[0;34m:\u001b[0m\u001b[0;34m\u001b[0m\u001b[0;34m\u001b[0m\u001b[0m\n\u001b[0;32m--> 459\u001b[0;31m                     \u001b[0mnet_diff\u001b[0m\u001b[0;34m.\u001b[0m\u001b[0mappend\u001b[0m\u001b[0;34m(\u001b[0m\u001b[0mtorch\u001b[0m\u001b[0;34m.\u001b[0m\u001b[0mlinalg\u001b[0m\u001b[0;34m.\u001b[0m\u001b[0mnorm\u001b[0m\u001b[0;34m(\u001b[0m\u001b[0mk\u001b[0m\u001b[0;34m.\u001b[0m\u001b[0mview\u001b[0m\u001b[0;34m(\u001b[0m\u001b[0mself\u001b[0m\u001b[0;34m.\u001b[0m\u001b[0msimple_size\u001b[0m\u001b[0;34m,\u001b[0m \u001b[0mself\u001b[0m\u001b[0;34m.\u001b[0m\u001b[0msimple_size\u001b[0m\u001b[0;34m)\u001b[0m\u001b[0;34m,\u001b[0m \u001b[0mord\u001b[0m \u001b[0;34m=\u001b[0m \u001b[0;34m'fro'\u001b[0m\u001b[0;34m)\u001b[0m\u001b[0;34m.\u001b[0m\u001b[0mitem\u001b[0m\u001b[0;34m(\u001b[0m\u001b[0;34m)\u001b[0m\u001b[0;34m)\u001b[0m\u001b[0;34m\u001b[0m\u001b[0;34m\u001b[0m\u001b[0m\n\u001b[0m\u001b[1;32m    460\u001b[0m         \u001b[0;32mreturn\u001b[0m \u001b[0mnp\u001b[0m\u001b[0;34m.\u001b[0m\u001b[0mmean\u001b[0m\u001b[0;34m(\u001b[0m\u001b[0mnet_diff\u001b[0m\u001b[0;34m)\u001b[0m\u001b[0;34m\u001b[0m\u001b[0;34m\u001b[0m\u001b[0m\n\u001b[1;32m    461\u001b[0m \u001b[0;34m\u001b[0m\u001b[0m\n",
      "\u001b[0;31mKeyboardInterrupt\u001b[0m: "
     ]
    }
   ],
   "source": [
    "np.random.seed(1)\n",
    "torch.manual_seed(1)\n",
    "net = LCN_model.LCN(\n",
    "    input_size = 33, simple_number = 12, simple_size = 11, v4_size = 11, v4_stride = 6, v4_orientation_number = 6, \n",
    "    phis_sfs = 4, training_size = 2, phis = True, sfs = False, alpha = 0.02)#.to(net.device)\n",
    "x = net.inputting(-np.pi/36, np.pi/36, random_sf = False)\n",
    "y = net.desired_outputting()\n",
    "optimizer = optim.SGD(net.parameters(), lr = net.alpha)\n",
    "net.mean_train(2000, optimizer)\n",
    "\n",
    "# net2 = LCN_model.LCN(\n",
    "#     input_size = 33, simple_number = 6, simple_size = 11, v4_size = 11, v4_stride = 6, v4_orientation_number = 6, \n",
    "#     phis_sfs = 4, training_size = 2, phis = True, sfs = False, alpha = 0.02)\n",
    "# x = net2.inputting(-np.pi/180, np.pi/180, random_sf = False)\n",
    "# y = net2.desired_outputting()\n",
    "# optimizer = optim.SGD(net2.parameters(), lr = net2.alpha)\n",
    "# net2.mean_train(2000, optimizer)"
   ]
  },
  {
   "cell_type": "code",
   "execution_count": null,
   "metadata": {},
   "outputs": [],
   "source": [
    "plt.figure(figsize = [20, 20])\n",
    "plt.subplot(3, 3, 1)\n",
    "net.plot_training_error('red')\n",
    "net2.plot_training_error('blue')\n",
    "plt.legend([\"Low precision task training error\",\n",
    "            \"High precision task training error\"]);\n",
    "plt.title(\"Training eror and performance for networks trained on low and high precision tasks\", loc = \"left\")\n",
    "\n",
    "plt.subplot(3, 3, 2)\n",
    "net.plot_training_performance('red')\n",
    "net2.plot_training_performance('blue')\n",
    "plt.legend([\"Low precision task training performance\",\n",
    "            \"High precision task training performance\"]);\n"
   ]
  },
  {
   "cell_type": "code",
   "execution_count": 2,
   "metadata": {},
   "outputs": [
    {
     "ename": "NameError",
     "evalue": "name 'np' is not defined",
     "output_type": "error",
     "traceback": [
      "\u001b[0;31m---------------------------------------------------------------------------\u001b[0m",
      "\u001b[0;31mNameError\u001b[0m                                 Traceback (most recent call last)",
      "\u001b[0;32m<ipython-input-2-7455d310eed8>\u001b[0m in \u001b[0;36m<module>\u001b[0;34m\u001b[0m\n\u001b[0;32m----> 1\u001b[0;31m \u001b[0mnp\u001b[0m\u001b[0;34m.\u001b[0m\u001b[0mrandom\u001b[0m\u001b[0;34m.\u001b[0m\u001b[0mseed\u001b[0m\u001b[0;34m(\u001b[0m\u001b[0;36m1\u001b[0m\u001b[0;34m)\u001b[0m\u001b[0;34m\u001b[0m\u001b[0;34m\u001b[0m\u001b[0m\n\u001b[0m\u001b[1;32m      2\u001b[0m \u001b[0mtorch\u001b[0m\u001b[0;34m.\u001b[0m\u001b[0mmanual_seed\u001b[0m\u001b[0;34m(\u001b[0m\u001b[0;36m1\u001b[0m\u001b[0;34m)\u001b[0m\u001b[0;34m\u001b[0m\u001b[0;34m\u001b[0m\u001b[0m\n\u001b[1;32m      3\u001b[0m net3 = LCN(\n\u001b[1;32m      4\u001b[0m     \u001b[0minput_size\u001b[0m \u001b[0;34m=\u001b[0m \u001b[0;36m33\u001b[0m\u001b[0;34m,\u001b[0m \u001b[0msimple_number\u001b[0m \u001b[0;34m=\u001b[0m \u001b[0;36m6\u001b[0m\u001b[0;34m,\u001b[0m \u001b[0msimple_size\u001b[0m \u001b[0;34m=\u001b[0m \u001b[0;36m11\u001b[0m\u001b[0;34m,\u001b[0m \u001b[0mv4_size\u001b[0m \u001b[0;34m=\u001b[0m \u001b[0;36m11\u001b[0m\u001b[0;34m,\u001b[0m \u001b[0mv4_stride\u001b[0m \u001b[0;34m=\u001b[0m \u001b[0;36m6\u001b[0m\u001b[0;34m,\u001b[0m \u001b[0mphis_sfs\u001b[0m \u001b[0;34m=\u001b[0m \u001b[0;36m4\u001b[0m\u001b[0;34m,\u001b[0m\u001b[0;34m\u001b[0m\u001b[0;34m\u001b[0m\u001b[0m\n\u001b[1;32m      5\u001b[0m     training_size = 2, phis = True, sfs = False, alpha = 0.02)\n",
      "\u001b[0;31mNameError\u001b[0m: name 'np' is not defined"
     ]
    }
   ],
   "source": [
    "np.random.seed(1)\n",
    "torch.manual_seed(1)\n",
    "net3 = LCN_model.LCN(\n",
    "    input_size = 33, simple_number = 6, simple_size = 11, v4_size = 11, v4_stride = 6, phis_sfs = 4, \n",
    "    training_size = 2, phis = True, sfs = False, alpha = 0.02)\n",
    "optimizer = optim.SGD(net3.parameters(), lr = net3.alpha)\n",
    "net3.double_train(1000, optimizer, np.pi/36, np.pi/180, np.pi/16, 2)"
   ]
  },
  {
   "cell_type": "code",
   "execution_count": null,
   "metadata": {},
   "outputs": [],
   "source": [
    "plt.figure(figsize = [20, 20])\n",
    "plt.subplot(3, 3, 1)\n",
    "net3.plot_training_error('red')\n",
    "net3.plot_generalization_error(\"blue\")\n",
    "plt.axvline(1000, 0, 1, linestyle = 'dashed', color = 'black');\n",
    "plt.legend([\"Training error\", \"Generalization error\"]);\n",
    "plt.title(\"Training and generalization for network trained on sequential curriculum\", loc = \"left\")\n",
    "\n",
    "plt.subplot(3, 3, 2)\n",
    "net3.plot_training_performance('red')\n",
    "net3.plot_generalization_performance(\"blue\")\n",
    "plt.legend([\"Training performance\", \"Generalization performance\"]);\n",
    "plt.axvline(1000, 0, 1, linestyle = 'dashed', color = 'black');\n"
   ]
  },
  {
   "cell_type": "code",
   "execution_count": null,
   "metadata": {},
   "outputs": [],
   "source": [
    "net4 = LCN_model.LCN(\n",
    "    input_size = 33, simple_number = 6, simple_size = 11, v4_size = 11, v4_stride = 6, phis_sfs = 4, training_size = 2, \n",
    "    phis = True, sfs = False, alpha = 0.02)\n",
    "net.plot_angle_performance(40, 'red')\n",
    "net2.plot_angle_performance(40, 'blue')\n",
    "net3.plot_angle_performance(40, 'green')\n",
    "net4.plot_angle_performance(40, 'black')\n",
    "plt.title(\"Angle/performance graph for networks with different training tasks\");\n",
    "plt.legend([\"Low precision task\", \"High precision task\", \"Sequential curriculum\", \"Before training\"]);"
   ]
  },
  {
   "cell_type": "code",
   "execution_count": null,
   "metadata": {},
   "outputs": [],
   "source": [
    "net.plot_weight_change('red', v1 = True)\n",
    "net2.plot_weight_change('blue', v1 = True)\n",
    "net3.plot_weight_change('green', v1 = True)\n",
    "plt.legend([\"Low precision task\", \"High precision task\", \"Sequential curriculum\"]);\n",
    "plt.title(\"Weight changes in V1 during training\");"
   ]
  },
  {
   "cell_type": "code",
   "execution_count": null,
   "metadata": {},
   "outputs": [],
   "source": [
    "net.plot_weight_change('red', v4 = True)\n",
    "net2.plot_weight_change('blue', v4 = True)\n",
    "net3.plot_weight_change('green', v4 = True)\n",
    "plt.legend([\"Low precision task\", \"High precision task\"]);\n",
    "plt.title(\"Weight changes in V4 during training\");"
   ]
  },
  {
   "cell_type": "code",
   "execution_count": null,
   "metadata": {},
   "outputs": [],
   "source": [
    "net.plot_weight_change('red', decision = True)\n",
    "net2.plot_weight_change('blue', decision = True)\n",
    "net3.plot_weight_change('green', decision = True)\n",
    "plt.legend([\"Low precision task\", \"High precision task\", \"Sequential curriculum\"]);\n",
    "plt.title(\"Weight changes in decision layer during training\");"
   ]
  },
  {
   "cell_type": "code",
   "execution_count": null,
   "metadata": {},
   "outputs": [],
   "source": [
    "net.v1_tuning_params(12)\n",
    "net2.v1_tuning_params(12)\n",
    "net3.v1_tuning_params(12)\n",
    "\n",
    "plt.figure(figsize = [20, 20])\n",
    "\n",
    "plt.subplot(3, 3, 1)\n",
    "plt.bar([\"Low precision\", \"High precision\", \"Sequential curriculum\"], [\n",
    "    net.v1_mean_after_amplitude, net2.v1_mean_after_amplitude, net3.v1_mean_after_amplitude], yerr = [\n",
    "    net.v1_std_after_amplitude, net2.v1_std_after_amplitude, net3.v1_std_after_amplitude], color = \"black\");\n",
    "plt.title(\"Mean V1 tuning curve amplitudes\");\n",
    "\n",
    "plt.subplot(3, 3, 2)\n",
    "plt.bar([\"Low precision\", \"High precision\", \"Sequential curriculum\"], [\n",
    "    net.v1_mean_after_bandwidth, net2.v1_mean_after_bandwidth, net3.v1_mean_after_bandwidth], yerr = [\n",
    "    net.v1_std_after_bandwidth, net2.v1_std_after_bandwidth, net3.v1_std_after_bandwidth], color = \"black\");\n",
    "plt.title(\"Mean V1 tuning curve bandwidths\");"
   ]
  },
  {
   "cell_type": "code",
   "execution_count": null,
   "metadata": {},
   "outputs": [],
   "source": [
    "plt.figure(figsize = [40, 40])\n",
    "\n",
    "plt.subplot(4, 4, 1)\n",
    "plt.bar([\"Low precision\", \"High precision\", \"Sequential curriculum\"], [\n",
    "    net.v1_amplitude_difference, net2.v1_amplitude_difference, net3.v1_amplitude_difference], color = \"black\");\n",
    "plt.ylabel(\"% increase of amplitude\");\n",
    "plt.title(\"Change in amplitude for V1 tuning curves of networks trained on different curriculum\");\n",
    "\n",
    "plt.subplot(4, 4, 2)\n",
    "plt.bar([\"Low precision\", \"High precision\", \"Sequential curriculum\"], [\n",
    "    net.v1_bandwidth_difference, net2.v1_bandwidth_difference, net3.v1_bandwidth_difference], color = \"black\");\n",
    "plt.ylabel(\"% increase of bandwidth\");\n",
    "plt.title(\"Change in bandwidth for V1 tuning curves of networks trained on different curriculum\");"
   ]
  },
  {
   "cell_type": "code",
   "execution_count": null,
   "metadata": {},
   "outputs": [],
   "source": [
    "plt.figure(figsize = [20, 20])\n",
    "plt.subplot(3, 3, 1)\n",
    "net.plot_v4_tuning_curve(position = 1, differences = True)\n",
    "# plt.title(\"Difference in tuning curves selective for different orientations\", loc = 'center');\n",
    "\n",
    "plt.subplot(3, 3, 2)\n",
    "net2.plot_v4_tuning_curve(position = 1, differences = True)\n",
    "# plt.title(\"Difference in tuning curves selective for different orientations\", loc = 'center');"
   ]
  },
  {
   "cell_type": "code",
   "execution_count": null,
   "metadata": {},
   "outputs": [],
   "source": [
    "net.v4_tuning_params(1)\n",
    "net2.v4_tuning_params(1)\n",
    "net3.v4_tuning_params(1)\n",
    "\n",
    "plt.figure(figsize = [20, 20])\n",
    "\n",
    "plt.subplot(3, 3, 1)\n",
    "plt.bar([\"Low precision\", \"High precision\", \"Sequential curriculum\"], [\n",
    "    net.v4_mean_after_amplitude, net2.v4_mean_after_amplitude, net3.v4_mean_after_amplitude], yerr = [\n",
    "    net.v4_std_after_amplitude, net2.v4_std_after_amplitude, net3.v4_std_after_amplitude], color = \"black\");\n",
    "plt.title(\"Mean V4 tuning curve amplitudes\");\n",
    "\n",
    "plt.subplot(3, 3, 2)\n",
    "plt.bar([\"Low precision\", \"High precision\", \"Sequential curriculum\"], [\n",
    "    net.v4_mean_after_bandwidth, net2.v4_mean_after_bandwidth, net3.v4_mean_after_bandwidth], yerr = [\n",
    "    net.v4_std_after_bandwidth, net2.v4_std_after_bandwidth, net3.v4_std_after_bandwidth], color = \"black\");\n",
    "plt.title(\"Mean V4 tuning curve bandwidths\");"
   ]
  },
  {
   "cell_type": "code",
   "execution_count": null,
   "metadata": {},
   "outputs": [],
   "source": [
    "plt.figure(figsize = [40, 40])\n",
    "\n",
    "plt.subplot(4, 4, 1)\n",
    "plt.bar([\"Low precision\", \"High precision\", \"Sequential curriculum\"], [\n",
    "    net.v4_amplitude_difference, net2.v4_amplitude_difference, net3.v4_amplitude_difference], color = \"black\");\n",
    "plt.ylabel(\"% increase of amplitude\");\n",
    "plt.title(\"Change in amplitude for V4 tuning curves of networks trained on different curriculum\");\n",
    "\n",
    "plt.subplot(4, 4, 2)\n",
    "plt.bar([\"Low precision\", \"High precision\", \"Sequential curriculum\"], [\n",
    "    net.v4_bandwidth_difference, net2.v4_bandwidth_difference, net3.v4_bandwidth_difference], color = \"black\");\n",
    "plt.ylabel(\"% increase of bandwidth\");\n",
    "plt.title(\"Change in bandwidth for V4 tuning curves of networks trained on different curriculum\");"
   ]
  },
  {
   "cell_type": "markdown",
   "metadata": {},
   "source": [
    "## Schoups vs Ghose – Phase pooling"
   ]
  },
  {
   "cell_type": "code",
   "execution_count": 83,
   "metadata": {},
   "outputs": [
    {
     "name": "stderr",
     "output_type": "stream",
     "text": [
      "\r",
      "  0%|          | 0/100 [00:00<?, ?it/s]"
     ]
    },
    {
     "name": "stdout",
     "output_type": "stream",
     "text": [
      "torch.Size([1, 1, 1, 23, 23, 121])\n",
      "torch.Size([1, 48, 1, 23, 23, 121])\n",
      "torch.Size([1, 48, 1, 23, 23, 121])\n",
      "torch.Size([12, 1, 3, 3, 121])\n",
      "torch.Size([12, 1, 3, 3, 121])\n",
      "torch.Size([12, 1, 3, 3, 121])\n",
      "torch.Size([12, 1, 3, 3, 121])\n",
      "torch.Size([12, 1, 3, 3, 121])\n",
      "torch.Size([12, 1, 3, 3, 121])\n",
      "torch.Size([1, 1, 1, 23, 23, 121])\n",
      "torch.Size([1, 48, 1, 23, 23, 121])\n",
      "torch.Size([1, 48, 1, 23, 23, 121])\n",
      "torch.Size([12, 1, 3, 3, 121])\n",
      "torch.Size([12, 1, 3, 3, 121])\n",
      "torch.Size([12, 1, 3, 3, 121])\n",
      "torch.Size([12, 1, 3, 3, 121])\n",
      "torch.Size([12, 1, 3, 3, 121])\n",
      "torch.Size([12, 1, 3, 3, 121])\n"
     ]
    },
    {
     "name": "stderr",
     "output_type": "stream",
     "text": [
      "\r",
      "  1%|          | 1/100 [00:00<00:45,  2.17it/s]"
     ]
    },
    {
     "name": "stdout",
     "output_type": "stream",
     "text": [
      "torch.Size([1, 1, 1, 23, 23, 121])\n",
      "torch.Size([1, 48, 1, 23, 23, 121])\n",
      "torch.Size([1, 48, 1, 23, 23, 121])\n",
      "torch.Size([12, 1, 3, 3, 121])\n",
      "torch.Size([12, 1, 3, 3, 121])\n",
      "torch.Size([12, 1, 3, 3, 121])\n",
      "torch.Size([12, 1, 3, 3, 121])\n",
      "torch.Size([12, 1, 3, 3, 121])\n",
      "torch.Size([12, 1, 3, 3, 121])\n",
      "torch.Size([1, 1, 1, 23, 23, 121])\n",
      "torch.Size([1, 48, 1, 23, 23, 121])\n",
      "torch.Size([1, 48, 1, 23, 23, 121])\n",
      "torch.Size([12, 1, 3, 3, 121])\n",
      "torch.Size([12, 1, 3, 3, 121])\n",
      "torch.Size([12, 1, 3, 3, 121])\n",
      "torch.Size([12, 1, 3, 3, 121])\n",
      "torch.Size([12, 1, 3, 3, 121])\n",
      "torch.Size([12, 1, 3, 3, 121])\n"
     ]
    },
    {
     "name": "stderr",
     "output_type": "stream",
     "text": [
      "\r",
      "  2%|▏         | 2/100 [00:00<00:45,  2.15it/s]"
     ]
    },
    {
     "name": "stdout",
     "output_type": "stream",
     "text": [
      "torch.Size([1, 1, 1, 23, 23, 121])\n",
      "torch.Size([1, 48, 1, 23, 23, 121])\n",
      "torch.Size([1, 48, 1, 23, 23, 121])\n",
      "torch.Size([12, 1, 3, 3, 121])\n",
      "torch.Size([12, 1, 3, 3, 121])\n",
      "torch.Size([12, 1, 3, 3, 121])\n",
      "torch.Size([12, 1, 3, 3, 121])\n",
      "torch.Size([12, 1, 3, 3, 121])\n",
      "torch.Size([12, 1, 3, 3, 121])\n",
      "torch.Size([1, 1, 1, 23, 23, 121])\n",
      "torch.Size([1, 48, 1, 23, 23, 121])\n",
      "torch.Size([1, 48, 1, 23, 23, 121])\n",
      "torch.Size([12, 1, 3, 3, 121])\n",
      "torch.Size([12, 1, 3, 3, 121])\n",
      "torch.Size([12, 1, 3, 3, 121])\n",
      "torch.Size([12, 1, 3, 3, 121])\n",
      "torch.Size([12, 1, 3, 3, 121])\n",
      "torch.Size([12, 1, 3, 3, 121])\n"
     ]
    },
    {
     "name": "stderr",
     "output_type": "stream",
     "text": [
      "\r",
      "  3%|▎         | 3/100 [00:01<00:45,  2.14it/s]"
     ]
    },
    {
     "name": "stdout",
     "output_type": "stream",
     "text": [
      "torch.Size([1, 1, 1, 23, 23, 121])\n",
      "torch.Size([1, 48, 1, 23, 23, 121])\n",
      "torch.Size([1, 48, 1, 23, 23, 121])\n",
      "torch.Size([12, 1, 3, 3, 121])\n",
      "torch.Size([12, 1, 3, 3, 121])\n",
      "torch.Size([12, 1, 3, 3, 121])\n",
      "torch.Size([12, 1, 3, 3, 121])\n",
      "torch.Size([12, 1, 3, 3, 121])\n",
      "torch.Size([12, 1, 3, 3, 121])\n",
      "torch.Size([1, 1, 1, 23, 23, 121])\n",
      "torch.Size([1, 48, 1, 23, 23, 121])\n",
      "torch.Size([1, 48, 1, 23, 23, 121])\n",
      "torch.Size([12, 1, 3, 3, 121])\n",
      "torch.Size([12, 1, 3, 3, 121])\n",
      "torch.Size([12, 1, 3, 3, 121])\n",
      "torch.Size([12, 1, 3, 3, 121])\n",
      "torch.Size([12, 1, 3, 3, 121])\n",
      "torch.Size([12, 1, 3, 3, 121])\n"
     ]
    },
    {
     "name": "stderr",
     "output_type": "stream",
     "text": [
      "\r",
      "  4%|▍         | 4/100 [00:01<00:44,  2.13it/s]"
     ]
    },
    {
     "name": "stdout",
     "output_type": "stream",
     "text": [
      "torch.Size([1, 1, 1, 23, 23, 121])\n",
      "torch.Size([1, 48, 1, 23, 23, 121])\n",
      "torch.Size([1, 48, 1, 23, 23, 121])\n",
      "torch.Size([12, 1, 3, 3, 121])\n",
      "torch.Size([12, 1, 3, 3, 121])\n",
      "torch.Size([12, 1, 3, 3, 121])\n",
      "torch.Size([12, 1, 3, 3, 121])\n",
      "torch.Size([12, 1, 3, 3, 121])\n",
      "torch.Size([12, 1, 3, 3, 121])\n",
      "torch.Size([1, 1, 1, 23, 23, 121])\n",
      "torch.Size([1, 48, 1, 23, 23, 121])\n",
      "torch.Size([1, 48, 1, 23, 23, 121])\n",
      "torch.Size([12, 1, 3, 3, 121])\n",
      "torch.Size([12, 1, 3, 3, 121])\n",
      "torch.Size([12, 1, 3, 3, 121])\n",
      "torch.Size([12, 1, 3, 3, 121])\n",
      "torch.Size([12, 1, 3, 3, 121])\n",
      "torch.Size([12, 1, 3, 3, 121])\n"
     ]
    },
    {
     "name": "stderr",
     "output_type": "stream",
     "text": [
      "\r",
      "  5%|▌         | 5/100 [00:02<00:44,  2.14it/s]"
     ]
    },
    {
     "name": "stdout",
     "output_type": "stream",
     "text": [
      "torch.Size([1, 1, 1, 23, 23, 121])\n",
      "torch.Size([1, 48, 1, 23, 23, 121])\n",
      "torch.Size([1, 48, 1, 23, 23, 121])\n",
      "torch.Size([12, 1, 3, 3, 121])\n",
      "torch.Size([12, 1, 3, 3, 121])\n",
      "torch.Size([12, 1, 3, 3, 121])\n",
      "torch.Size([12, 1, 3, 3, 121])\n",
      "torch.Size([12, 1, 3, 3, 121])\n",
      "torch.Size([12, 1, 3, 3, 121])\n",
      "torch.Size([1, 1, 1, 23, 23, 121])\n",
      "torch.Size([1, 48, 1, 23, 23, 121])\n",
      "torch.Size([1, 48, 1, 23, 23, 121])\n",
      "torch.Size([12, 1, 3, 3, 121])\n",
      "torch.Size([12, 1, 3, 3, 121])\n",
      "torch.Size([12, 1, 3, 3, 121])\n",
      "torch.Size([12, 1, 3, 3, 121])\n",
      "torch.Size([12, 1, 3, 3, 121])\n",
      "torch.Size([12, 1, 3, 3, 121])\n"
     ]
    },
    {
     "name": "stderr",
     "output_type": "stream",
     "text": [
      "\r",
      "  6%|▌         | 6/100 [00:02<00:44,  2.13it/s]"
     ]
    },
    {
     "name": "stdout",
     "output_type": "stream",
     "text": [
      "torch.Size([1, 1, 1, 23, 23, 121])\n",
      "torch.Size([1, 48, 1, 23, 23, 121])\n",
      "torch.Size([1, 48, 1, 23, 23, 121])\n",
      "torch.Size([12, 1, 3, 3, 121])\n",
      "torch.Size([12, 1, 3, 3, 121])\n",
      "torch.Size([12, 1, 3, 3, 121])\n",
      "torch.Size([12, 1, 3, 3, 121])\n",
      "torch.Size([12, 1, 3, 3, 121])\n",
      "torch.Size([12, 1, 3, 3, 121])\n",
      "torch.Size([1, 1, 1, 23, 23, 121])\n",
      "torch.Size([1, 48, 1, 23, 23, 121])\n",
      "torch.Size([1, 48, 1, 23, 23, 121])\n",
      "torch.Size([12, 1, 3, 3, 121])\n",
      "torch.Size([12, 1, 3, 3, 121])\n",
      "torch.Size([12, 1, 3, 3, 121])\n",
      "torch.Size([12, 1, 3, 3, 121])\n",
      "torch.Size([12, 1, 3, 3, 121])\n",
      "torch.Size([12, 1, 3, 3, 121])\n"
     ]
    },
    {
     "name": "stderr",
     "output_type": "stream",
     "text": [
      "\r",
      "  7%|▋         | 7/100 [00:03<00:43,  2.12it/s]"
     ]
    },
    {
     "name": "stdout",
     "output_type": "stream",
     "text": [
      "torch.Size([1, 1, 1, 23, 23, 121])\n",
      "torch.Size([1, 48, 1, 23, 23, 121])\n",
      "torch.Size([1, 48, 1, 23, 23, 121])\n",
      "torch.Size([12, 1, 3, 3, 121])\n",
      "torch.Size([12, 1, 3, 3, 121])\n",
      "torch.Size([12, 1, 3, 3, 121])\n",
      "torch.Size([12, 1, 3, 3, 121])\n",
      "torch.Size([12, 1, 3, 3, 121])\n",
      "torch.Size([12, 1, 3, 3, 121])\n",
      "torch.Size([1, 1, 1, 23, 23, 121])\n",
      "torch.Size([1, 48, 1, 23, 23, 121])\n",
      "torch.Size([1, 48, 1, 23, 23, 121])\n",
      "torch.Size([12, 1, 3, 3, 121])\n",
      "torch.Size([12, 1, 3, 3, 121])\n",
      "torch.Size([12, 1, 3, 3, 121])\n",
      "torch.Size([12, 1, 3, 3, 121])\n",
      "torch.Size([12, 1, 3, 3, 121])\n",
      "torch.Size([12, 1, 3, 3, 121])\n"
     ]
    },
    {
     "name": "stderr",
     "output_type": "stream",
     "text": [
      "\r",
      "  8%|▊         | 8/100 [00:03<00:43,  2.12it/s]"
     ]
    },
    {
     "name": "stdout",
     "output_type": "stream",
     "text": [
      "torch.Size([1, 1, 1, 23, 23, 121])\n",
      "torch.Size([1, 48, 1, 23, 23, 121])\n",
      "torch.Size([1, 48, 1, 23, 23, 121])\n",
      "torch.Size([12, 1, 3, 3, 121])\n",
      "torch.Size([12, 1, 3, 3, 121])\n",
      "torch.Size([12, 1, 3, 3, 121])\n",
      "torch.Size([12, 1, 3, 3, 121])\n",
      "torch.Size([12, 1, 3, 3, 121])\n",
      "torch.Size([12, 1, 3, 3, 121])\n",
      "torch.Size([1, 1, 1, 23, 23, 121])\n",
      "torch.Size([1, 48, 1, 23, 23, 121])\n",
      "torch.Size([1, 48, 1, 23, 23, 121])\n",
      "torch.Size([12, 1, 3, 3, 121])\n",
      "torch.Size([12, 1, 3, 3, 121])\n",
      "torch.Size([12, 1, 3, 3, 121])\n",
      "torch.Size([12, 1, 3, 3, 121])\n",
      "torch.Size([12, 1, 3, 3, 121])\n",
      "torch.Size([12, 1, 3, 3, 121])\n"
     ]
    },
    {
     "name": "stderr",
     "output_type": "stream",
     "text": [
      "\r",
      "  9%|▉         | 9/100 [00:04<00:43,  2.11it/s]"
     ]
    },
    {
     "name": "stdout",
     "output_type": "stream",
     "text": [
      "torch.Size([1, 1, 1, 23, 23, 121])\n",
      "torch.Size([1, 48, 1, 23, 23, 121])\n",
      "torch.Size([1, 48, 1, 23, 23, 121])\n",
      "torch.Size([12, 1, 3, 3, 121])\n",
      "torch.Size([12, 1, 3, 3, 121])\n",
      "torch.Size([12, 1, 3, 3, 121])\n",
      "torch.Size([12, 1, 3, 3, 121])\n",
      "torch.Size([12, 1, 3, 3, 121])\n",
      "torch.Size([12, 1, 3, 3, 121])\n",
      "torch.Size([1, 1, 1, 23, 23, 121])\n",
      "torch.Size([1, 48, 1, 23, 23, 121])\n",
      "torch.Size([1, 48, 1, 23, 23, 121])\n",
      "torch.Size([12, 1, 3, 3, 121])\n",
      "torch.Size([12, 1, 3, 3, 121])\n",
      "torch.Size([12, 1, 3, 3, 121])\n",
      "torch.Size([12, 1, 3, 3, 121])\n",
      "torch.Size([12, 1, 3, 3, 121])\n",
      "torch.Size([12, 1, 3, 3, 121])\n"
     ]
    },
    {
     "name": "stderr",
     "output_type": "stream",
     "text": [
      "\r",
      " 10%|█         | 10/100 [00:04<00:42,  2.11it/s]"
     ]
    },
    {
     "name": "stdout",
     "output_type": "stream",
     "text": [
      "torch.Size([1, 1, 1, 23, 23, 121])\n",
      "torch.Size([1, 48, 1, 23, 23, 121])\n",
      "torch.Size([1, 48, 1, 23, 23, 121])\n",
      "torch.Size([12, 1, 3, 3, 121])\n",
      "torch.Size([12, 1, 3, 3, 121])\n",
      "torch.Size([12, 1, 3, 3, 121])\n",
      "torch.Size([12, 1, 3, 3, 121])\n",
      "torch.Size([12, 1, 3, 3, 121])\n",
      "torch.Size([12, 1, 3, 3, 121])\n",
      "torch.Size([1, 1, 1, 23, 23, 121])\n",
      "torch.Size([1, 48, 1, 23, 23, 121])\n",
      "torch.Size([1, 48, 1, 23, 23, 121])\n",
      "torch.Size([12, 1, 3, 3, 121])\n",
      "torch.Size([12, 1, 3, 3, 121])\n",
      "torch.Size([12, 1, 3, 3, 121])\n",
      "torch.Size([12, 1, 3, 3, 121])\n",
      "torch.Size([12, 1, 3, 3, 121])\n",
      "torch.Size([12, 1, 3, 3, 121])\n"
     ]
    },
    {
     "name": "stderr",
     "output_type": "stream",
     "text": [
      "\r",
      " 11%|█         | 11/100 [00:05<00:42,  2.11it/s]"
     ]
    },
    {
     "name": "stdout",
     "output_type": "stream",
     "text": [
      "torch.Size([1, 1, 1, 23, 23, 121])\n",
      "torch.Size([1, 48, 1, 23, 23, 121])\n",
      "torch.Size([1, 48, 1, 23, 23, 121])\n",
      "torch.Size([12, 1, 3, 3, 121])\n",
      "torch.Size([12, 1, 3, 3, 121])\n",
      "torch.Size([12, 1, 3, 3, 121])\n",
      "torch.Size([12, 1, 3, 3, 121])\n",
      "torch.Size([12, 1, 3, 3, 121])\n",
      "torch.Size([12, 1, 3, 3, 121])\n",
      "torch.Size([1, 1, 1, 23, 23, 121])\n",
      "torch.Size([1, 48, 1, 23, 23, 121])\n",
      "torch.Size([1, 48, 1, 23, 23, 121])\n",
      "torch.Size([12, 1, 3, 3, 121])\n",
      "torch.Size([12, 1, 3, 3, 121])\n",
      "torch.Size([12, 1, 3, 3, 121])\n",
      "torch.Size([12, 1, 3, 3, 121])\n",
      "torch.Size([12, 1, 3, 3, 121])\n",
      "torch.Size([12, 1, 3, 3, 121])\n"
     ]
    },
    {
     "name": "stderr",
     "output_type": "stream",
     "text": [
      "\r",
      " 12%|█▏        | 12/100 [00:05<00:41,  2.11it/s]"
     ]
    },
    {
     "name": "stdout",
     "output_type": "stream",
     "text": [
      "torch.Size([1, 1, 1, 23, 23, 121])\n",
      "torch.Size([1, 48, 1, 23, 23, 121])\n",
      "torch.Size([1, 48, 1, 23, 23, 121])\n",
      "torch.Size([12, 1, 3, 3, 121])\n",
      "torch.Size([12, 1, 3, 3, 121])\n",
      "torch.Size([12, 1, 3, 3, 121])\n",
      "torch.Size([12, 1, 3, 3, 121])\n",
      "torch.Size([12, 1, 3, 3, 121])\n",
      "torch.Size([12, 1, 3, 3, 121])\n",
      "torch.Size([1, 1, 1, 23, 23, 121])\n",
      "torch.Size([1, 48, 1, 23, 23, 121])\n",
      "torch.Size([1, 48, 1, 23, 23, 121])\n",
      "torch.Size([12, 1, 3, 3, 121])\n",
      "torch.Size([12, 1, 3, 3, 121])\n",
      "torch.Size([12, 1, 3, 3, 121])\n",
      "torch.Size([12, 1, 3, 3, 121])\n",
      "torch.Size([12, 1, 3, 3, 121])\n",
      "torch.Size([12, 1, 3, 3, 121])\n"
     ]
    },
    {
     "name": "stderr",
     "output_type": "stream",
     "text": [
      "\r",
      " 13%|█▎        | 13/100 [00:06<00:41,  2.11it/s]"
     ]
    },
    {
     "name": "stdout",
     "output_type": "stream",
     "text": [
      "torch.Size([1, 1, 1, 23, 23, 121])\n",
      "torch.Size([1, 48, 1, 23, 23, 121])\n",
      "torch.Size([1, 48, 1, 23, 23, 121])\n",
      "torch.Size([12, 1, 3, 3, 121])\n",
      "torch.Size([12, 1, 3, 3, 121])\n",
      "torch.Size([12, 1, 3, 3, 121])\n",
      "torch.Size([12, 1, 3, 3, 121])\n",
      "torch.Size([12, 1, 3, 3, 121])\n",
      "torch.Size([12, 1, 3, 3, 121])\n",
      "torch.Size([1, 1, 1, 23, 23, 121])\n",
      "torch.Size([1, 48, 1, 23, 23, 121])\n",
      "torch.Size([1, 48, 1, 23, 23, 121])\n",
      "torch.Size([12, 1, 3, 3, 121])\n",
      "torch.Size([12, 1, 3, 3, 121])\n",
      "torch.Size([12, 1, 3, 3, 121])\n",
      "torch.Size([12, 1, 3, 3, 121])\n",
      "torch.Size([12, 1, 3, 3, 121])\n",
      "torch.Size([12, 1, 3, 3, 121])\n"
     ]
    },
    {
     "name": "stderr",
     "output_type": "stream",
     "text": [
      "\r",
      " 14%|█▍        | 14/100 [00:06<00:40,  2.11it/s]"
     ]
    },
    {
     "name": "stdout",
     "output_type": "stream",
     "text": [
      "torch.Size([1, 1, 1, 23, 23, 121])\n",
      "torch.Size([1, 48, 1, 23, 23, 121])\n",
      "torch.Size([1, 48, 1, 23, 23, 121])\n",
      "torch.Size([12, 1, 3, 3, 121])\n",
      "torch.Size([12, 1, 3, 3, 121])\n",
      "torch.Size([12, 1, 3, 3, 121])\n",
      "torch.Size([12, 1, 3, 3, 121])\n",
      "torch.Size([12, 1, 3, 3, 121])\n",
      "torch.Size([12, 1, 3, 3, 121])\n",
      "torch.Size([1, 1, 1, 23, 23, 121])\n",
      "torch.Size([1, 48, 1, 23, 23, 121])\n",
      "torch.Size([1, 48, 1, 23, 23, 121])\n",
      "torch.Size([12, 1, 3, 3, 121])\n",
      "torch.Size([12, 1, 3, 3, 121])\n",
      "torch.Size([12, 1, 3, 3, 121])\n",
      "torch.Size([12, 1, 3, 3, 121])\n",
      "torch.Size([12, 1, 3, 3, 121])\n",
      "torch.Size([12, 1, 3, 3, 121])\n"
     ]
    },
    {
     "name": "stderr",
     "output_type": "stream",
     "text": [
      "\r",
      " 15%|█▌        | 15/100 [00:07<00:40,  2.12it/s]"
     ]
    },
    {
     "name": "stdout",
     "output_type": "stream",
     "text": [
      "torch.Size([1, 1, 1, 23, 23, 121])\n",
      "torch.Size([1, 48, 1, 23, 23, 121])\n",
      "torch.Size([1, 48, 1, 23, 23, 121])\n",
      "torch.Size([12, 1, 3, 3, 121])\n",
      "torch.Size([12, 1, 3, 3, 121])\n",
      "torch.Size([12, 1, 3, 3, 121])\n",
      "torch.Size([12, 1, 3, 3, 121])\n",
      "torch.Size([12, 1, 3, 3, 121])\n",
      "torch.Size([12, 1, 3, 3, 121])\n",
      "torch.Size([1, 1, 1, 23, 23, 121])\n",
      "torch.Size([1, 48, 1, 23, 23, 121])\n",
      "torch.Size([1, 48, 1, 23, 23, 121])\n",
      "torch.Size([12, 1, 3, 3, 121])\n",
      "torch.Size([12, 1, 3, 3, 121])\n",
      "torch.Size([12, 1, 3, 3, 121])\n",
      "torch.Size([12, 1, 3, 3, 121])\n",
      "torch.Size([12, 1, 3, 3, 121])\n",
      "torch.Size([12, 1, 3, 3, 121])\n"
     ]
    },
    {
     "name": "stderr",
     "output_type": "stream",
     "text": [
      "\r",
      " 16%|█▌        | 16/100 [00:07<00:39,  2.11it/s]"
     ]
    },
    {
     "name": "stdout",
     "output_type": "stream",
     "text": [
      "torch.Size([1, 1, 1, 23, 23, 121])\n",
      "torch.Size([1, 48, 1, 23, 23, 121])\n",
      "torch.Size([1, 48, 1, 23, 23, 121])\n",
      "torch.Size([12, 1, 3, 3, 121])\n",
      "torch.Size([12, 1, 3, 3, 121])\n",
      "torch.Size([12, 1, 3, 3, 121])\n",
      "torch.Size([12, 1, 3, 3, 121])\n",
      "torch.Size([12, 1, 3, 3, 121])\n",
      "torch.Size([12, 1, 3, 3, 121])\n",
      "torch.Size([1, 1, 1, 23, 23, 121])\n",
      "torch.Size([1, 48, 1, 23, 23, 121])\n",
      "torch.Size([1, 48, 1, 23, 23, 121])\n",
      "torch.Size([12, 1, 3, 3, 121])\n",
      "torch.Size([12, 1, 3, 3, 121])\n",
      "torch.Size([12, 1, 3, 3, 121])\n",
      "torch.Size([12, 1, 3, 3, 121])\n",
      "torch.Size([12, 1, 3, 3, 121])\n",
      "torch.Size([12, 1, 3, 3, 121])\n"
     ]
    },
    {
     "name": "stderr",
     "output_type": "stream",
     "text": [
      "\r",
      " 17%|█▋        | 17/100 [00:08<00:39,  2.11it/s]"
     ]
    },
    {
     "name": "stdout",
     "output_type": "stream",
     "text": [
      "torch.Size([1, 1, 1, 23, 23, 121])\n",
      "torch.Size([1, 48, 1, 23, 23, 121])\n",
      "torch.Size([1, 48, 1, 23, 23, 121])\n",
      "torch.Size([12, 1, 3, 3, 121])\n",
      "torch.Size([12, 1, 3, 3, 121])\n",
      "torch.Size([12, 1, 3, 3, 121])\n",
      "torch.Size([12, 1, 3, 3, 121])\n",
      "torch.Size([12, 1, 3, 3, 121])\n",
      "torch.Size([12, 1, 3, 3, 121])\n",
      "torch.Size([1, 1, 1, 23, 23, 121])\n",
      "torch.Size([1, 48, 1, 23, 23, 121])\n",
      "torch.Size([1, 48, 1, 23, 23, 121])\n",
      "torch.Size([12, 1, 3, 3, 121])\n",
      "torch.Size([12, 1, 3, 3, 121])\n",
      "torch.Size([12, 1, 3, 3, 121])\n",
      "torch.Size([12, 1, 3, 3, 121])\n",
      "torch.Size([12, 1, 3, 3, 121])\n",
      "torch.Size([12, 1, 3, 3, 121])\n"
     ]
    },
    {
     "name": "stderr",
     "output_type": "stream",
     "text": [
      "\r",
      " 18%|█▊        | 18/100 [00:08<00:38,  2.10it/s]"
     ]
    },
    {
     "name": "stdout",
     "output_type": "stream",
     "text": [
      "torch.Size([1, 1, 1, 23, 23, 121])\n",
      "torch.Size([1, 48, 1, 23, 23, 121])\n",
      "torch.Size([1, 48, 1, 23, 23, 121])\n",
      "torch.Size([12, 1, 3, 3, 121])\n",
      "torch.Size([12, 1, 3, 3, 121])\n",
      "torch.Size([12, 1, 3, 3, 121])\n",
      "torch.Size([12, 1, 3, 3, 121])\n",
      "torch.Size([12, 1, 3, 3, 121])\n",
      "torch.Size([12, 1, 3, 3, 121])\n",
      "torch.Size([1, 1, 1, 23, 23, 121])\n",
      "torch.Size([1, 48, 1, 23, 23, 121])\n",
      "torch.Size([1, 48, 1, 23, 23, 121])\n",
      "torch.Size([12, 1, 3, 3, 121])\n",
      "torch.Size([12, 1, 3, 3, 121])\n",
      "torch.Size([12, 1, 3, 3, 121])\n",
      "torch.Size([12, 1, 3, 3, 121])\n",
      "torch.Size([12, 1, 3, 3, 121])\n",
      "torch.Size([12, 1, 3, 3, 121])\n"
     ]
    },
    {
     "name": "stderr",
     "output_type": "stream",
     "text": [
      "\r",
      " 19%|█▉        | 19/100 [00:08<00:38,  2.10it/s]"
     ]
    },
    {
     "name": "stdout",
     "output_type": "stream",
     "text": [
      "torch.Size([1, 1, 1, 23, 23, 121])\n",
      "torch.Size([1, 48, 1, 23, 23, 121])\n",
      "torch.Size([1, 48, 1, 23, 23, 121])\n",
      "torch.Size([12, 1, 3, 3, 121])\n",
      "torch.Size([12, 1, 3, 3, 121])\n",
      "torch.Size([12, 1, 3, 3, 121])\n",
      "torch.Size([12, 1, 3, 3, 121])\n",
      "torch.Size([12, 1, 3, 3, 121])\n",
      "torch.Size([12, 1, 3, 3, 121])\n",
      "torch.Size([1, 1, 1, 23, 23, 121])\n",
      "torch.Size([1, 48, 1, 23, 23, 121])\n",
      "torch.Size([1, 48, 1, 23, 23, 121])\n",
      "torch.Size([12, 1, 3, 3, 121])\n",
      "torch.Size([12, 1, 3, 3, 121])\n",
      "torch.Size([12, 1, 3, 3, 121])\n",
      "torch.Size([12, 1, 3, 3, 121])\n",
      "torch.Size([12, 1, 3, 3, 121])\n",
      "torch.Size([12, 1, 3, 3, 121])\n"
     ]
    },
    {
     "name": "stderr",
     "output_type": "stream",
     "text": [
      "\r",
      " 20%|██        | 20/100 [00:09<00:37,  2.11it/s]"
     ]
    },
    {
     "name": "stdout",
     "output_type": "stream",
     "text": [
      "torch.Size([1, 1, 1, 23, 23, 121])\n",
      "torch.Size([1, 48, 1, 23, 23, 121])\n",
      "torch.Size([1, 48, 1, 23, 23, 121])\n",
      "torch.Size([12, 1, 3, 3, 121])\n",
      "torch.Size([12, 1, 3, 3, 121])\n",
      "torch.Size([12, 1, 3, 3, 121])\n",
      "torch.Size([12, 1, 3, 3, 121])\n",
      "torch.Size([12, 1, 3, 3, 121])\n",
      "torch.Size([12, 1, 3, 3, 121])\n",
      "torch.Size([1, 1, 1, 23, 23, 121])\n",
      "torch.Size([1, 48, 1, 23, 23, 121])\n",
      "torch.Size([1, 48, 1, 23, 23, 121])\n",
      "torch.Size([12, 1, 3, 3, 121])\n",
      "torch.Size([12, 1, 3, 3, 121])\n",
      "torch.Size([12, 1, 3, 3, 121])\n",
      "torch.Size([12, 1, 3, 3, 121])\n",
      "torch.Size([12, 1, 3, 3, 121])\n",
      "torch.Size([12, 1, 3, 3, 121])\n"
     ]
    },
    {
     "name": "stderr",
     "output_type": "stream",
     "text": [
      "\r",
      " 21%|██        | 21/100 [00:09<00:37,  2.10it/s]"
     ]
    },
    {
     "name": "stdout",
     "output_type": "stream",
     "text": [
      "torch.Size([1, 1, 1, 23, 23, 121])\n",
      "torch.Size([1, 48, 1, 23, 23, 121])\n",
      "torch.Size([1, 48, 1, 23, 23, 121])\n",
      "torch.Size([12, 1, 3, 3, 121])\n",
      "torch.Size([12, 1, 3, 3, 121])\n",
      "torch.Size([12, 1, 3, 3, 121])\n",
      "torch.Size([12, 1, 3, 3, 121])\n",
      "torch.Size([12, 1, 3, 3, 121])\n",
      "torch.Size([12, 1, 3, 3, 121])\n",
      "torch.Size([1, 1, 1, 23, 23, 121])\n",
      "torch.Size([1, 48, 1, 23, 23, 121])\n",
      "torch.Size([1, 48, 1, 23, 23, 121])\n",
      "torch.Size([12, 1, 3, 3, 121])\n",
      "torch.Size([12, 1, 3, 3, 121])\n",
      "torch.Size([12, 1, 3, 3, 121])\n",
      "torch.Size([12, 1, 3, 3, 121])\n",
      "torch.Size([12, 1, 3, 3, 121])\n",
      "torch.Size([12, 1, 3, 3, 121])\n"
     ]
    },
    {
     "name": "stderr",
     "output_type": "stream",
     "text": [
      "\r",
      " 22%|██▏       | 22/100 [00:10<00:37,  2.10it/s]"
     ]
    },
    {
     "name": "stdout",
     "output_type": "stream",
     "text": [
      "torch.Size([1, 1, 1, 23, 23, 121])\n",
      "torch.Size([1, 48, 1, 23, 23, 121])\n",
      "torch.Size([1, 48, 1, 23, 23, 121])\n",
      "torch.Size([12, 1, 3, 3, 121])\n",
      "torch.Size([12, 1, 3, 3, 121])\n",
      "torch.Size([12, 1, 3, 3, 121])\n",
      "torch.Size([12, 1, 3, 3, 121])\n",
      "torch.Size([12, 1, 3, 3, 121])\n",
      "torch.Size([12, 1, 3, 3, 121])\n",
      "torch.Size([1, 1, 1, 23, 23, 121])\n",
      "torch.Size([1, 48, 1, 23, 23, 121])\n",
      "torch.Size([1, 48, 1, 23, 23, 121])\n",
      "torch.Size([12, 1, 3, 3, 121])\n",
      "torch.Size([12, 1, 3, 3, 121])\n",
      "torch.Size([12, 1, 3, 3, 121])\n",
      "torch.Size([12, 1, 3, 3, 121])\n",
      "torch.Size([12, 1, 3, 3, 121])\n",
      "torch.Size([12, 1, 3, 3, 121])\n"
     ]
    },
    {
     "name": "stderr",
     "output_type": "stream",
     "text": [
      "\r",
      " 23%|██▎       | 23/100 [00:10<00:36,  2.09it/s]"
     ]
    },
    {
     "name": "stdout",
     "output_type": "stream",
     "text": [
      "torch.Size([1, 1, 1, 23, 23, 121])\n",
      "torch.Size([1, 48, 1, 23, 23, 121])\n",
      "torch.Size([1, 48, 1, 23, 23, 121])\n",
      "torch.Size([12, 1, 3, 3, 121])\n",
      "torch.Size([12, 1, 3, 3, 121])\n",
      "torch.Size([12, 1, 3, 3, 121])\n",
      "torch.Size([12, 1, 3, 3, 121])\n",
      "torch.Size([12, 1, 3, 3, 121])\n",
      "torch.Size([12, 1, 3, 3, 121])\n",
      "torch.Size([1, 1, 1, 23, 23, 121])\n",
      "torch.Size([1, 48, 1, 23, 23, 121])\n",
      "torch.Size([1, 48, 1, 23, 23, 121])\n",
      "torch.Size([12, 1, 3, 3, 121])\n",
      "torch.Size([12, 1, 3, 3, 121])\n",
      "torch.Size([12, 1, 3, 3, 121])\n",
      "torch.Size([12, 1, 3, 3, 121])\n",
      "torch.Size([12, 1, 3, 3, 121])\n",
      "torch.Size([12, 1, 3, 3, 121])\n"
     ]
    },
    {
     "name": "stderr",
     "output_type": "stream",
     "text": [
      "\r",
      " 24%|██▍       | 24/100 [00:11<00:36,  2.10it/s]"
     ]
    },
    {
     "name": "stdout",
     "output_type": "stream",
     "text": [
      "torch.Size([1, 1, 1, 23, 23, 121])\n",
      "torch.Size([1, 48, 1, 23, 23, 121])\n",
      "torch.Size([1, 48, 1, 23, 23, 121])\n",
      "torch.Size([12, 1, 3, 3, 121])\n",
      "torch.Size([12, 1, 3, 3, 121])\n",
      "torch.Size([12, 1, 3, 3, 121])\n",
      "torch.Size([12, 1, 3, 3, 121])\n",
      "torch.Size([12, 1, 3, 3, 121])\n",
      "torch.Size([12, 1, 3, 3, 121])\n",
      "torch.Size([1, 1, 1, 23, 23, 121])\n",
      "torch.Size([1, 48, 1, 23, 23, 121])\n",
      "torch.Size([1, 48, 1, 23, 23, 121])\n",
      "torch.Size([12, 1, 3, 3, 121])\n",
      "torch.Size([12, 1, 3, 3, 121])\n",
      "torch.Size([12, 1, 3, 3, 121])\n",
      "torch.Size([12, 1, 3, 3, 121])\n",
      "torch.Size([12, 1, 3, 3, 121])\n",
      "torch.Size([12, 1, 3, 3, 121])\n"
     ]
    },
    {
     "name": "stderr",
     "output_type": "stream",
     "text": [
      "\r",
      " 25%|██▌       | 25/100 [00:11<00:35,  2.10it/s]"
     ]
    },
    {
     "name": "stdout",
     "output_type": "stream",
     "text": [
      "torch.Size([1, 1, 1, 23, 23, 121])\n",
      "torch.Size([1, 48, 1, 23, 23, 121])\n",
      "torch.Size([1, 48, 1, 23, 23, 121])\n",
      "torch.Size([12, 1, 3, 3, 121])\n",
      "torch.Size([12, 1, 3, 3, 121])\n",
      "torch.Size([12, 1, 3, 3, 121])\n",
      "torch.Size([12, 1, 3, 3, 121])\n",
      "torch.Size([12, 1, 3, 3, 121])\n",
      "torch.Size([12, 1, 3, 3, 121])\n",
      "torch.Size([1, 1, 1, 23, 23, 121])\n",
      "torch.Size([1, 48, 1, 23, 23, 121])\n",
      "torch.Size([1, 48, 1, 23, 23, 121])\n",
      "torch.Size([12, 1, 3, 3, 121])\n",
      "torch.Size([12, 1, 3, 3, 121])\n",
      "torch.Size([12, 1, 3, 3, 121])\n",
      "torch.Size([12, 1, 3, 3, 121])\n",
      "torch.Size([12, 1, 3, 3, 121])\n",
      "torch.Size([12, 1, 3, 3, 121])\n"
     ]
    },
    {
     "name": "stderr",
     "output_type": "stream",
     "text": [
      "\r",
      " 26%|██▌       | 26/100 [00:12<00:35,  2.10it/s]"
     ]
    },
    {
     "name": "stdout",
     "output_type": "stream",
     "text": [
      "torch.Size([1, 1, 1, 23, 23, 121])\n",
      "torch.Size([1, 48, 1, 23, 23, 121])\n",
      "torch.Size([1, 48, 1, 23, 23, 121])\n",
      "torch.Size([12, 1, 3, 3, 121])\n",
      "torch.Size([12, 1, 3, 3, 121])\n",
      "torch.Size([12, 1, 3, 3, 121])\n",
      "torch.Size([12, 1, 3, 3, 121])\n",
      "torch.Size([12, 1, 3, 3, 121])\n",
      "torch.Size([12, 1, 3, 3, 121])\n",
      "torch.Size([1, 1, 1, 23, 23, 121])\n",
      "torch.Size([1, 48, 1, 23, 23, 121])\n",
      "torch.Size([1, 48, 1, 23, 23, 121])\n",
      "torch.Size([12, 1, 3, 3, 121])\n",
      "torch.Size([12, 1, 3, 3, 121])\n",
      "torch.Size([12, 1, 3, 3, 121])\n",
      "torch.Size([12, 1, 3, 3, 121])\n",
      "torch.Size([12, 1, 3, 3, 121])\n",
      "torch.Size([12, 1, 3, 3, 121])\n"
     ]
    },
    {
     "name": "stderr",
     "output_type": "stream",
     "text": [
      "\r",
      " 27%|██▋       | 27/100 [00:12<00:34,  2.10it/s]"
     ]
    },
    {
     "name": "stdout",
     "output_type": "stream",
     "text": [
      "torch.Size([1, 1, 1, 23, 23, 121])\n",
      "torch.Size([1, 48, 1, 23, 23, 121])\n",
      "torch.Size([1, 48, 1, 23, 23, 121])\n",
      "torch.Size([12, 1, 3, 3, 121])\n",
      "torch.Size([12, 1, 3, 3, 121])\n",
      "torch.Size([12, 1, 3, 3, 121])\n",
      "torch.Size([12, 1, 3, 3, 121])\n",
      "torch.Size([12, 1, 3, 3, 121])\n",
      "torch.Size([12, 1, 3, 3, 121])\n",
      "torch.Size([1, 1, 1, 23, 23, 121])\n",
      "torch.Size([1, 48, 1, 23, 23, 121])\n",
      "torch.Size([1, 48, 1, 23, 23, 121])\n",
      "torch.Size([12, 1, 3, 3, 121])\n",
      "torch.Size([12, 1, 3, 3, 121])\n",
      "torch.Size([12, 1, 3, 3, 121])\n",
      "torch.Size([12, 1, 3, 3, 121])\n",
      "torch.Size([12, 1, 3, 3, 121])\n",
      "torch.Size([12, 1, 3, 3, 121])\n"
     ]
    },
    {
     "name": "stderr",
     "output_type": "stream",
     "text": [
      "\r",
      " 28%|██▊       | 28/100 [00:13<00:35,  2.05it/s]"
     ]
    },
    {
     "name": "stdout",
     "output_type": "stream",
     "text": [
      "torch.Size([1, 1, 1, 23, 23, 121])\n",
      "torch.Size([1, 48, 1, 23, 23, 121])\n",
      "torch.Size([1, 48, 1, 23, 23, 121])\n",
      "torch.Size([12, 1, 3, 3, 121])\n",
      "torch.Size([12, 1, 3, 3, 121])\n",
      "torch.Size([12, 1, 3, 3, 121])\n",
      "torch.Size([12, 1, 3, 3, 121])\n",
      "torch.Size([12, 1, 3, 3, 121])\n",
      "torch.Size([12, 1, 3, 3, 121])\n",
      "torch.Size([1, 1, 1, 23, 23, 121])\n",
      "torch.Size([1, 48, 1, 23, 23, 121])\n",
      "torch.Size([1, 48, 1, 23, 23, 121])\n",
      "torch.Size([12, 1, 3, 3, 121])\n",
      "torch.Size([12, 1, 3, 3, 121])\n",
      "torch.Size([12, 1, 3, 3, 121])\n",
      "torch.Size([12, 1, 3, 3, 121])\n",
      "torch.Size([12, 1, 3, 3, 121])\n",
      "torch.Size([12, 1, 3, 3, 121])\n"
     ]
    },
    {
     "name": "stderr",
     "output_type": "stream",
     "text": [
      "\r",
      " 29%|██▉       | 29/100 [00:13<00:34,  2.07it/s]"
     ]
    },
    {
     "name": "stdout",
     "output_type": "stream",
     "text": [
      "torch.Size([1, 1, 1, 23, 23, 121])\n",
      "torch.Size([1, 48, 1, 23, 23, 121])\n",
      "torch.Size([1, 48, 1, 23, 23, 121])\n",
      "torch.Size([12, 1, 3, 3, 121])\n",
      "torch.Size([12, 1, 3, 3, 121])\n",
      "torch.Size([12, 1, 3, 3, 121])\n",
      "torch.Size([12, 1, 3, 3, 121])\n",
      "torch.Size([12, 1, 3, 3, 121])\n",
      "torch.Size([12, 1, 3, 3, 121])\n",
      "torch.Size([1, 1, 1, 23, 23, 121])\n",
      "torch.Size([1, 48, 1, 23, 23, 121])\n",
      "torch.Size([1, 48, 1, 23, 23, 121])\n",
      "torch.Size([12, 1, 3, 3, 121])\n",
      "torch.Size([12, 1, 3, 3, 121])\n",
      "torch.Size([12, 1, 3, 3, 121])\n",
      "torch.Size([12, 1, 3, 3, 121])\n",
      "torch.Size([12, 1, 3, 3, 121])\n",
      "torch.Size([12, 1, 3, 3, 121])\n"
     ]
    },
    {
     "name": "stderr",
     "output_type": "stream",
     "text": [
      "\r",
      " 30%|███       | 30/100 [00:14<00:33,  2.09it/s]"
     ]
    },
    {
     "name": "stdout",
     "output_type": "stream",
     "text": [
      "torch.Size([1, 1, 1, 23, 23, 121])\n",
      "torch.Size([1, 48, 1, 23, 23, 121])\n",
      "torch.Size([1, 48, 1, 23, 23, 121])\n",
      "torch.Size([12, 1, 3, 3, 121])\n",
      "torch.Size([12, 1, 3, 3, 121])\n",
      "torch.Size([12, 1, 3, 3, 121])\n",
      "torch.Size([12, 1, 3, 3, 121])\n",
      "torch.Size([12, 1, 3, 3, 121])\n",
      "torch.Size([12, 1, 3, 3, 121])\n",
      "torch.Size([1, 1, 1, 23, 23, 121])\n",
      "torch.Size([1, 48, 1, 23, 23, 121])\n",
      "torch.Size([1, 48, 1, 23, 23, 121])\n",
      "torch.Size([12, 1, 3, 3, 121])\n",
      "torch.Size([12, 1, 3, 3, 121])\n",
      "torch.Size([12, 1, 3, 3, 121])\n",
      "torch.Size([12, 1, 3, 3, 121])\n",
      "torch.Size([12, 1, 3, 3, 121])\n",
      "torch.Size([12, 1, 3, 3, 121])\n"
     ]
    },
    {
     "name": "stderr",
     "output_type": "stream",
     "text": [
      "\r",
      " 31%|███       | 31/100 [00:14<00:32,  2.10it/s]"
     ]
    },
    {
     "name": "stdout",
     "output_type": "stream",
     "text": [
      "torch.Size([1, 1, 1, 23, 23, 121])\n",
      "torch.Size([1, 48, 1, 23, 23, 121])\n",
      "torch.Size([1, 48, 1, 23, 23, 121])\n",
      "torch.Size([12, 1, 3, 3, 121])\n",
      "torch.Size([12, 1, 3, 3, 121])\n",
      "torch.Size([12, 1, 3, 3, 121])\n",
      "torch.Size([12, 1, 3, 3, 121])\n",
      "torch.Size([12, 1, 3, 3, 121])\n",
      "torch.Size([12, 1, 3, 3, 121])\n",
      "torch.Size([1, 1, 1, 23, 23, 121])\n",
      "torch.Size([1, 48, 1, 23, 23, 121])\n",
      "torch.Size([1, 48, 1, 23, 23, 121])\n",
      "torch.Size([12, 1, 3, 3, 121])\n",
      "torch.Size([12, 1, 3, 3, 121])\n",
      "torch.Size([12, 1, 3, 3, 121])\n",
      "torch.Size([12, 1, 3, 3, 121])\n",
      "torch.Size([12, 1, 3, 3, 121])\n",
      "torch.Size([12, 1, 3, 3, 121])\n"
     ]
    },
    {
     "name": "stderr",
     "output_type": "stream",
     "text": [
      "\r",
      " 32%|███▏      | 32/100 [00:15<00:32,  2.10it/s]"
     ]
    },
    {
     "name": "stdout",
     "output_type": "stream",
     "text": [
      "torch.Size([1, 1, 1, 23, 23, 121])\n",
      "torch.Size([1, 48, 1, 23, 23, 121])\n",
      "torch.Size([1, 48, 1, 23, 23, 121])\n",
      "torch.Size([12, 1, 3, 3, 121])\n",
      "torch.Size([12, 1, 3, 3, 121])\n",
      "torch.Size([12, 1, 3, 3, 121])\n",
      "torch.Size([12, 1, 3, 3, 121])\n",
      "torch.Size([12, 1, 3, 3, 121])\n",
      "torch.Size([12, 1, 3, 3, 121])\n",
      "torch.Size([1, 1, 1, 23, 23, 121])\n",
      "torch.Size([1, 48, 1, 23, 23, 121])\n",
      "torch.Size([1, 48, 1, 23, 23, 121])\n",
      "torch.Size([12, 1, 3, 3, 121])\n",
      "torch.Size([12, 1, 3, 3, 121])\n",
      "torch.Size([12, 1, 3, 3, 121])\n",
      "torch.Size([12, 1, 3, 3, 121])\n",
      "torch.Size([12, 1, 3, 3, 121])\n",
      "torch.Size([12, 1, 3, 3, 121])\n"
     ]
    },
    {
     "name": "stderr",
     "output_type": "stream",
     "text": [
      "\r",
      " 33%|███▎      | 33/100 [00:15<00:31,  2.09it/s]"
     ]
    },
    {
     "name": "stdout",
     "output_type": "stream",
     "text": [
      "torch.Size([1, 1, 1, 23, 23, 121])\n",
      "torch.Size([1, 48, 1, 23, 23, 121])\n",
      "torch.Size([1, 48, 1, 23, 23, 121])\n",
      "torch.Size([12, 1, 3, 3, 121])\n",
      "torch.Size([12, 1, 3, 3, 121])\n",
      "torch.Size([12, 1, 3, 3, 121])\n",
      "torch.Size([12, 1, 3, 3, 121])\n",
      "torch.Size([12, 1, 3, 3, 121])\n",
      "torch.Size([12, 1, 3, 3, 121])\n",
      "torch.Size([1, 1, 1, 23, 23, 121])\n",
      "torch.Size([1, 48, 1, 23, 23, 121])\n",
      "torch.Size([1, 48, 1, 23, 23, 121])\n",
      "torch.Size([12, 1, 3, 3, 121])\n",
      "torch.Size([12, 1, 3, 3, 121])\n",
      "torch.Size([12, 1, 3, 3, 121])\n",
      "torch.Size([12, 1, 3, 3, 121])\n",
      "torch.Size([12, 1, 3, 3, 121])\n",
      "torch.Size([12, 1, 3, 3, 121])\n"
     ]
    },
    {
     "name": "stderr",
     "output_type": "stream",
     "text": [
      "\r",
      " 34%|███▍      | 34/100 [00:16<00:31,  2.11it/s]"
     ]
    },
    {
     "name": "stdout",
     "output_type": "stream",
     "text": [
      "torch.Size([1, 1, 1, 23, 23, 121])\n",
      "torch.Size([1, 48, 1, 23, 23, 121])\n",
      "torch.Size([1, 48, 1, 23, 23, 121])\n",
      "torch.Size([12, 1, 3, 3, 121])\n",
      "torch.Size([12, 1, 3, 3, 121])\n",
      "torch.Size([12, 1, 3, 3, 121])\n",
      "torch.Size([12, 1, 3, 3, 121])\n",
      "torch.Size([12, 1, 3, 3, 121])\n",
      "torch.Size([12, 1, 3, 3, 121])\n",
      "torch.Size([1, 1, 1, 23, 23, 121])\n",
      "torch.Size([1, 48, 1, 23, 23, 121])\n",
      "torch.Size([1, 48, 1, 23, 23, 121])\n",
      "torch.Size([12, 1, 3, 3, 121])\n",
      "torch.Size([12, 1, 3, 3, 121])\n",
      "torch.Size([12, 1, 3, 3, 121])\n",
      "torch.Size([12, 1, 3, 3, 121])\n",
      "torch.Size([12, 1, 3, 3, 121])\n",
      "torch.Size([12, 1, 3, 3, 121])\n"
     ]
    },
    {
     "name": "stderr",
     "output_type": "stream",
     "text": [
      "\r",
      " 35%|███▌      | 35/100 [00:16<00:30,  2.10it/s]"
     ]
    },
    {
     "name": "stdout",
     "output_type": "stream",
     "text": [
      "torch.Size([1, 1, 1, 23, 23, 121])\n",
      "torch.Size([1, 48, 1, 23, 23, 121])\n",
      "torch.Size([1, 48, 1, 23, 23, 121])\n",
      "torch.Size([12, 1, 3, 3, 121])\n",
      "torch.Size([12, 1, 3, 3, 121])\n",
      "torch.Size([12, 1, 3, 3, 121])\n",
      "torch.Size([12, 1, 3, 3, 121])\n",
      "torch.Size([12, 1, 3, 3, 121])\n",
      "torch.Size([12, 1, 3, 3, 121])\n",
      "torch.Size([1, 1, 1, 23, 23, 121])\n",
      "torch.Size([1, 48, 1, 23, 23, 121])\n",
      "torch.Size([1, 48, 1, 23, 23, 121])\n",
      "torch.Size([12, 1, 3, 3, 121])\n",
      "torch.Size([12, 1, 3, 3, 121])\n",
      "torch.Size([12, 1, 3, 3, 121])\n",
      "torch.Size([12, 1, 3, 3, 121])\n",
      "torch.Size([12, 1, 3, 3, 121])\n",
      "torch.Size([12, 1, 3, 3, 121])\n"
     ]
    },
    {
     "name": "stderr",
     "output_type": "stream",
     "text": [
      "\r",
      " 36%|███▌      | 36/100 [00:17<00:30,  2.11it/s]"
     ]
    },
    {
     "name": "stdout",
     "output_type": "stream",
     "text": [
      "torch.Size([1, 1, 1, 23, 23, 121])\n",
      "torch.Size([1, 48, 1, 23, 23, 121])\n",
      "torch.Size([1, 48, 1, 23, 23, 121])\n",
      "torch.Size([12, 1, 3, 3, 121])\n",
      "torch.Size([12, 1, 3, 3, 121])\n",
      "torch.Size([12, 1, 3, 3, 121])\n",
      "torch.Size([12, 1, 3, 3, 121])\n",
      "torch.Size([12, 1, 3, 3, 121])\n",
      "torch.Size([12, 1, 3, 3, 121])\n",
      "torch.Size([1, 1, 1, 23, 23, 121])\n",
      "torch.Size([1, 48, 1, 23, 23, 121])\n",
      "torch.Size([1, 48, 1, 23, 23, 121])\n",
      "torch.Size([12, 1, 3, 3, 121])\n",
      "torch.Size([12, 1, 3, 3, 121])\n",
      "torch.Size([12, 1, 3, 3, 121])\n",
      "torch.Size([12, 1, 3, 3, 121])\n",
      "torch.Size([12, 1, 3, 3, 121])\n",
      "torch.Size([12, 1, 3, 3, 121])\n"
     ]
    },
    {
     "name": "stderr",
     "output_type": "stream",
     "text": [
      "\r",
      " 37%|███▋      | 37/100 [00:17<00:29,  2.11it/s]"
     ]
    },
    {
     "name": "stdout",
     "output_type": "stream",
     "text": [
      "torch.Size([1, 1, 1, 23, 23, 121])\n",
      "torch.Size([1, 48, 1, 23, 23, 121])\n",
      "torch.Size([1, 48, 1, 23, 23, 121])\n",
      "torch.Size([12, 1, 3, 3, 121])\n",
      "torch.Size([12, 1, 3, 3, 121])\n",
      "torch.Size([12, 1, 3, 3, 121])\n",
      "torch.Size([12, 1, 3, 3, 121])\n",
      "torch.Size([12, 1, 3, 3, 121])\n",
      "torch.Size([12, 1, 3, 3, 121])\n",
      "torch.Size([1, 1, 1, 23, 23, 121])\n",
      "torch.Size([1, 48, 1, 23, 23, 121])\n",
      "torch.Size([1, 48, 1, 23, 23, 121])\n",
      "torch.Size([12, 1, 3, 3, 121])\n",
      "torch.Size([12, 1, 3, 3, 121])\n",
      "torch.Size([12, 1, 3, 3, 121])\n",
      "torch.Size([12, 1, 3, 3, 121])\n",
      "torch.Size([12, 1, 3, 3, 121])\n",
      "torch.Size([12, 1, 3, 3, 121])\n"
     ]
    },
    {
     "name": "stderr",
     "output_type": "stream",
     "text": [
      "\r",
      " 38%|███▊      | 38/100 [00:18<00:29,  2.12it/s]"
     ]
    },
    {
     "name": "stdout",
     "output_type": "stream",
     "text": [
      "torch.Size([1, 1, 1, 23, 23, 121])\n",
      "torch.Size([1, 48, 1, 23, 23, 121])\n",
      "torch.Size([1, 48, 1, 23, 23, 121])\n",
      "torch.Size([12, 1, 3, 3, 121])\n",
      "torch.Size([12, 1, 3, 3, 121])\n",
      "torch.Size([12, 1, 3, 3, 121])\n",
      "torch.Size([12, 1, 3, 3, 121])\n",
      "torch.Size([12, 1, 3, 3, 121])\n",
      "torch.Size([12, 1, 3, 3, 121])\n",
      "torch.Size([1, 1, 1, 23, 23, 121])\n",
      "torch.Size([1, 48, 1, 23, 23, 121])\n",
      "torch.Size([1, 48, 1, 23, 23, 121])\n",
      "torch.Size([12, 1, 3, 3, 121])\n",
      "torch.Size([12, 1, 3, 3, 121])\n",
      "torch.Size([12, 1, 3, 3, 121])\n",
      "torch.Size([12, 1, 3, 3, 121])\n",
      "torch.Size([12, 1, 3, 3, 121])\n",
      "torch.Size([12, 1, 3, 3, 121])\n"
     ]
    },
    {
     "name": "stderr",
     "output_type": "stream",
     "text": [
      "\r",
      " 39%|███▉      | 39/100 [00:18<00:28,  2.12it/s]"
     ]
    },
    {
     "name": "stdout",
     "output_type": "stream",
     "text": [
      "torch.Size([1, 1, 1, 23, 23, 121])\n",
      "torch.Size([1, 48, 1, 23, 23, 121])\n",
      "torch.Size([1, 48, 1, 23, 23, 121])\n",
      "torch.Size([12, 1, 3, 3, 121])\n",
      "torch.Size([12, 1, 3, 3, 121])\n",
      "torch.Size([12, 1, 3, 3, 121])\n",
      "torch.Size([12, 1, 3, 3, 121])\n",
      "torch.Size([12, 1, 3, 3, 121])\n",
      "torch.Size([12, 1, 3, 3, 121])\n",
      "torch.Size([1, 1, 1, 23, 23, 121])\n",
      "torch.Size([1, 48, 1, 23, 23, 121])\n",
      "torch.Size([1, 48, 1, 23, 23, 121])\n",
      "torch.Size([12, 1, 3, 3, 121])\n",
      "torch.Size([12, 1, 3, 3, 121])\n",
      "torch.Size([12, 1, 3, 3, 121])\n",
      "torch.Size([12, 1, 3, 3, 121])\n",
      "torch.Size([12, 1, 3, 3, 121])\n",
      "torch.Size([12, 1, 3, 3, 121])\n"
     ]
    },
    {
     "name": "stderr",
     "output_type": "stream",
     "text": [
      "\r",
      " 40%|████      | 40/100 [00:18<00:28,  2.12it/s]"
     ]
    },
    {
     "name": "stdout",
     "output_type": "stream",
     "text": [
      "torch.Size([1, 1, 1, 23, 23, 121])\n",
      "torch.Size([1, 48, 1, 23, 23, 121])\n",
      "torch.Size([1, 48, 1, 23, 23, 121])\n",
      "torch.Size([12, 1, 3, 3, 121])\n",
      "torch.Size([12, 1, 3, 3, 121])\n",
      "torch.Size([12, 1, 3, 3, 121])\n",
      "torch.Size([12, 1, 3, 3, 121])\n",
      "torch.Size([12, 1, 3, 3, 121])\n",
      "torch.Size([12, 1, 3, 3, 121])\n",
      "torch.Size([1, 1, 1, 23, 23, 121])\n",
      "torch.Size([1, 48, 1, 23, 23, 121])\n",
      "torch.Size([1, 48, 1, 23, 23, 121])\n",
      "torch.Size([12, 1, 3, 3, 121])\n",
      "torch.Size([12, 1, 3, 3, 121])\n",
      "torch.Size([12, 1, 3, 3, 121])\n",
      "torch.Size([12, 1, 3, 3, 121])\n",
      "torch.Size([12, 1, 3, 3, 121])\n",
      "torch.Size([12, 1, 3, 3, 121])\n"
     ]
    },
    {
     "name": "stderr",
     "output_type": "stream",
     "text": [
      "\r",
      " 41%|████      | 41/100 [00:19<00:27,  2.13it/s]"
     ]
    },
    {
     "name": "stdout",
     "output_type": "stream",
     "text": [
      "torch.Size([1, 1, 1, 23, 23, 121])\n",
      "torch.Size([1, 48, 1, 23, 23, 121])\n",
      "torch.Size([1, 48, 1, 23, 23, 121])\n",
      "torch.Size([12, 1, 3, 3, 121])\n",
      "torch.Size([12, 1, 3, 3, 121])\n",
      "torch.Size([12, 1, 3, 3, 121])\n",
      "torch.Size([12, 1, 3, 3, 121])\n",
      "torch.Size([12, 1, 3, 3, 121])\n",
      "torch.Size([12, 1, 3, 3, 121])\n",
      "torch.Size([1, 1, 1, 23, 23, 121])\n",
      "torch.Size([1, 48, 1, 23, 23, 121])\n",
      "torch.Size([1, 48, 1, 23, 23, 121])\n",
      "torch.Size([12, 1, 3, 3, 121])\n",
      "torch.Size([12, 1, 3, 3, 121])\n",
      "torch.Size([12, 1, 3, 3, 121])\n",
      "torch.Size([12, 1, 3, 3, 121])\n",
      "torch.Size([12, 1, 3, 3, 121])\n",
      "torch.Size([12, 1, 3, 3, 121])\n"
     ]
    },
    {
     "name": "stderr",
     "output_type": "stream",
     "text": [
      "\r",
      " 42%|████▏     | 42/100 [00:19<00:27,  2.13it/s]"
     ]
    },
    {
     "name": "stdout",
     "output_type": "stream",
     "text": [
      "torch.Size([1, 1, 1, 23, 23, 121])\n",
      "torch.Size([1, 48, 1, 23, 23, 121])\n",
      "torch.Size([1, 48, 1, 23, 23, 121])\n",
      "torch.Size([12, 1, 3, 3, 121])\n",
      "torch.Size([12, 1, 3, 3, 121])\n",
      "torch.Size([12, 1, 3, 3, 121])\n",
      "torch.Size([12, 1, 3, 3, 121])\n",
      "torch.Size([12, 1, 3, 3, 121])\n",
      "torch.Size([12, 1, 3, 3, 121])\n",
      "torch.Size([1, 1, 1, 23, 23, 121])\n",
      "torch.Size([1, 48, 1, 23, 23, 121])\n",
      "torch.Size([1, 48, 1, 23, 23, 121])\n",
      "torch.Size([12, 1, 3, 3, 121])\n",
      "torch.Size([12, 1, 3, 3, 121])\n",
      "torch.Size([12, 1, 3, 3, 121])\n",
      "torch.Size([12, 1, 3, 3, 121])\n",
      "torch.Size([12, 1, 3, 3, 121])\n",
      "torch.Size([12, 1, 3, 3, 121])\n"
     ]
    },
    {
     "name": "stderr",
     "output_type": "stream",
     "text": [
      "\r",
      " 43%|████▎     | 43/100 [00:20<00:26,  2.13it/s]"
     ]
    },
    {
     "name": "stdout",
     "output_type": "stream",
     "text": [
      "torch.Size([1, 1, 1, 23, 23, 121])\n",
      "torch.Size([1, 48, 1, 23, 23, 121])\n",
      "torch.Size([1, 48, 1, 23, 23, 121])\n",
      "torch.Size([12, 1, 3, 3, 121])\n",
      "torch.Size([12, 1, 3, 3, 121])\n",
      "torch.Size([12, 1, 3, 3, 121])\n",
      "torch.Size([12, 1, 3, 3, 121])\n",
      "torch.Size([12, 1, 3, 3, 121])\n",
      "torch.Size([12, 1, 3, 3, 121])\n",
      "torch.Size([1, 1, 1, 23, 23, 121])\n",
      "torch.Size([1, 48, 1, 23, 23, 121])\n",
      "torch.Size([1, 48, 1, 23, 23, 121])\n",
      "torch.Size([12, 1, 3, 3, 121])\n",
      "torch.Size([12, 1, 3, 3, 121])\n",
      "torch.Size([12, 1, 3, 3, 121])\n",
      "torch.Size([12, 1, 3, 3, 121])\n",
      "torch.Size([12, 1, 3, 3, 121])\n",
      "torch.Size([12, 1, 3, 3, 121])\n"
     ]
    },
    {
     "name": "stderr",
     "output_type": "stream",
     "text": [
      " 43%|████▎     | 43/100 [00:20<00:27,  2.08it/s]\n"
     ]
    },
    {
     "ename": "KeyboardInterrupt",
     "evalue": "",
     "output_type": "error",
     "traceback": [
      "\u001b[0;31m---------------------------------------------------------------------------\u001b[0m",
      "\u001b[0;31mKeyboardInterrupt\u001b[0m                         Traceback (most recent call last)",
      "\u001b[0;32m<ipython-input-83-500d1020f451>\u001b[0m in \u001b[0;36m<module>\u001b[0;34m\u001b[0m\n\u001b[1;32m      8\u001b[0m \u001b[0my\u001b[0m \u001b[0;34m=\u001b[0m \u001b[0mschoups_net\u001b[0m\u001b[0;34m.\u001b[0m\u001b[0mdesired_outputting\u001b[0m\u001b[0;34m(\u001b[0m\u001b[0;34m)\u001b[0m\u001b[0;34m\u001b[0m\u001b[0;34m\u001b[0m\u001b[0m\n\u001b[1;32m      9\u001b[0m \u001b[0moptimizer\u001b[0m \u001b[0;34m=\u001b[0m \u001b[0moptim\u001b[0m\u001b[0;34m.\u001b[0m\u001b[0mSGD\u001b[0m\u001b[0;34m(\u001b[0m\u001b[0mschoups_net\u001b[0m\u001b[0;34m.\u001b[0m\u001b[0mparameters\u001b[0m\u001b[0;34m(\u001b[0m\u001b[0;34m)\u001b[0m\u001b[0;34m,\u001b[0m \u001b[0mlr\u001b[0m \u001b[0;34m=\u001b[0m \u001b[0mschoups_net\u001b[0m\u001b[0;34m.\u001b[0m\u001b[0malpha\u001b[0m\u001b[0;34m)\u001b[0m\u001b[0;34m\u001b[0m\u001b[0;34m\u001b[0m\u001b[0m\n\u001b[0;32m---> 10\u001b[0;31m \u001b[0mschoups_net\u001b[0m\u001b[0;34m.\u001b[0m\u001b[0mmean_train\u001b[0m\u001b[0;34m(\u001b[0m\u001b[0;36m100\u001b[0m\u001b[0;34m,\u001b[0m \u001b[0moptimizer\u001b[0m\u001b[0;34m)\u001b[0m\u001b[0;34m\u001b[0m\u001b[0;34m\u001b[0m\u001b[0m\n\u001b[0m\u001b[1;32m     11\u001b[0m \u001b[0;34m\u001b[0m\u001b[0m\n\u001b[1;32m     12\u001b[0m ghose_net = LCN_model.LCN(\n",
      "\u001b[0;32m~/paco/Biomed-Research-Project/LCN_model.py\u001b[0m in \u001b[0;36mmean_train\u001b[0;34m(self, iterations, optimizer)\u001b[0m\n\u001b[1;32m    312\u001b[0m             \u001b[0mself\u001b[0m\u001b[0;34m.\u001b[0m\u001b[0mtraining_scores\u001b[0m\u001b[0;34m.\u001b[0m\u001b[0mappend\u001b[0m\u001b[0;34m(\u001b[0m\u001b[0mself\u001b[0m\u001b[0;34m.\u001b[0m\u001b[0mtraining_score\u001b[0m\u001b[0;34m)\u001b[0m\u001b[0;34m\u001b[0m\u001b[0;34m\u001b[0m\u001b[0m\n\u001b[1;32m    313\u001b[0m \u001b[0;34m\u001b[0m\u001b[0m\n\u001b[0;32m--> 314\u001b[0;31m             \u001b[0mself\u001b[0m\u001b[0;34m.\u001b[0m\u001b[0mbefore_v1weights\u001b[0m\u001b[0;34m.\u001b[0m\u001b[0mappend\u001b[0m\u001b[0;34m(\u001b[0m\u001b[0mself\u001b[0m\u001b[0;34m.\u001b[0m\u001b[0mv1_weight_change\u001b[0m\u001b[0;34m(\u001b[0m\u001b[0mself\u001b[0m\u001b[0;34m.\u001b[0m\u001b[0mbefore_v1weight\u001b[0m\u001b[0;34m,\u001b[0m \u001b[0mself\u001b[0m\u001b[0;34m.\u001b[0m\u001b[0msimple_weight\u001b[0m\u001b[0;34m)\u001b[0m\u001b[0;34m)\u001b[0m\u001b[0;34m\u001b[0m\u001b[0;34m\u001b[0m\u001b[0m\n\u001b[0m\u001b[1;32m    315\u001b[0m             \u001b[0mself\u001b[0m\u001b[0;34m.\u001b[0m\u001b[0mbefore_v4weights\u001b[0m\u001b[0;34m.\u001b[0m\u001b[0mappend\u001b[0m\u001b[0;34m(\u001b[0m\u001b[0mself\u001b[0m\u001b[0;34m.\u001b[0m\u001b[0mv4_weight_change\u001b[0m\u001b[0;34m(\u001b[0m\u001b[0mself\u001b[0m\u001b[0;34m.\u001b[0m\u001b[0mbefore_v4weight\u001b[0m\u001b[0;34m,\u001b[0m \u001b[0mself\u001b[0m\u001b[0;34m.\u001b[0m\u001b[0mv4_weight\u001b[0m\u001b[0;34m)\u001b[0m\u001b[0;34m)\u001b[0m\u001b[0;34m\u001b[0m\u001b[0;34m\u001b[0m\u001b[0m\n\u001b[1;32m    316\u001b[0m             \u001b[0mself\u001b[0m\u001b[0;34m.\u001b[0m\u001b[0mbefore_decision_weights\u001b[0m\u001b[0;34m.\u001b[0m\u001b[0mappend\u001b[0m\u001b[0;34m(\u001b[0m\u001b[0mself\u001b[0m\u001b[0;34m.\u001b[0m\u001b[0mdecision_weight_change\u001b[0m\u001b[0;34m(\u001b[0m\u001b[0mself\u001b[0m\u001b[0;34m.\u001b[0m\u001b[0mbefore_decision_weight\u001b[0m\u001b[0;34m,\u001b[0m \u001b[0mself\u001b[0m\u001b[0;34m.\u001b[0m\u001b[0mdecision\u001b[0m\u001b[0;34m.\u001b[0m\u001b[0mweight\u001b[0m\u001b[0;34m)\u001b[0m\u001b[0;34m)\u001b[0m\u001b[0;34m\u001b[0m\u001b[0;34m\u001b[0m\u001b[0m\n",
      "\u001b[0;32m~/paco/Biomed-Research-Project/LCN_model.py\u001b[0m in \u001b[0;36mv1_weight_change\u001b[0;34m(self, before, after)\u001b[0m\n\u001b[1;32m    470\u001b[0m             \u001b[0;32mfor\u001b[0m \u001b[0mj\u001b[0m \u001b[0;32min\u001b[0m \u001b[0mi\u001b[0m\u001b[0;34m.\u001b[0m\u001b[0mview\u001b[0m\u001b[0;34m(\u001b[0m\u001b[0mself\u001b[0m\u001b[0;34m.\u001b[0m\u001b[0mdimensions\u001b[0m\u001b[0;34m,\u001b[0m \u001b[0mself\u001b[0m\u001b[0;34m.\u001b[0m\u001b[0mdimensions\u001b[0m\u001b[0;34m,\u001b[0m \u001b[0mself\u001b[0m\u001b[0;34m.\u001b[0m\u001b[0msimple_size\u001b[0m \u001b[0;34m**\u001b[0m \u001b[0;36m2\u001b[0m\u001b[0;34m)\u001b[0m\u001b[0;34m:\u001b[0m\u001b[0;34m\u001b[0m\u001b[0;34m\u001b[0m\u001b[0m\n\u001b[1;32m    471\u001b[0m                 \u001b[0;32mfor\u001b[0m \u001b[0mk\u001b[0m \u001b[0;32min\u001b[0m \u001b[0mj\u001b[0m\u001b[0;34m:\u001b[0m\u001b[0;34m\u001b[0m\u001b[0;34m\u001b[0m\u001b[0m\n\u001b[0;32m--> 472\u001b[0;31m                     \u001b[0mnet_diff\u001b[0m\u001b[0;34m.\u001b[0m\u001b[0mappend\u001b[0m\u001b[0;34m(\u001b[0m\u001b[0mtorch\u001b[0m\u001b[0;34m.\u001b[0m\u001b[0mlinalg\u001b[0m\u001b[0;34m.\u001b[0m\u001b[0mnorm\u001b[0m\u001b[0;34m(\u001b[0m\u001b[0mk\u001b[0m\u001b[0;34m.\u001b[0m\u001b[0mview\u001b[0m\u001b[0;34m(\u001b[0m\u001b[0mself\u001b[0m\u001b[0;34m.\u001b[0m\u001b[0msimple_size\u001b[0m\u001b[0;34m,\u001b[0m \u001b[0mself\u001b[0m\u001b[0;34m.\u001b[0m\u001b[0msimple_size\u001b[0m\u001b[0;34m)\u001b[0m\u001b[0;34m,\u001b[0m \u001b[0mord\u001b[0m \u001b[0;34m=\u001b[0m \u001b[0;34m'fro'\u001b[0m\u001b[0;34m)\u001b[0m\u001b[0;34m.\u001b[0m\u001b[0mitem\u001b[0m\u001b[0;34m(\u001b[0m\u001b[0;34m)\u001b[0m\u001b[0;34m)\u001b[0m\u001b[0;34m\u001b[0m\u001b[0;34m\u001b[0m\u001b[0m\n\u001b[0m\u001b[1;32m    473\u001b[0m         \u001b[0;32mreturn\u001b[0m \u001b[0mnp\u001b[0m\u001b[0;34m.\u001b[0m\u001b[0mmean\u001b[0m\u001b[0;34m(\u001b[0m\u001b[0mnet_diff\u001b[0m\u001b[0;34m)\u001b[0m\u001b[0;34m\u001b[0m\u001b[0;34m\u001b[0m\u001b[0m\n\u001b[1;32m    474\u001b[0m \u001b[0;34m\u001b[0m\u001b[0m\n",
      "\u001b[0;31mKeyboardInterrupt\u001b[0m: "
     ]
    }
   ],
   "source": [
    "np.random.seed(2)\n",
    "torch.manual_seed(2)\n",
    "\n",
    "schoups_net = LCN_model.LCN(\n",
    "    input_size = 33, simple_number = 12, simple_size = 11, v4_size = 11, v4_stride = 6, v4_orientation_number = 6, \n",
    "    phis_sfs = 4, training_size = 2, phis = True, sfs = False, alpha = 0.01)\n",
    "x = schoups_net.inputting(-np.pi/180, np.pi/180, random_sf = False)\n",
    "y = schoups_net.desired_outputting()\n",
    "optimizer = optim.SGD(schoups_net.parameters(), lr = schoups_net.alpha)\n",
    "schoups_net.mean_train(100, optimizer)\n",
    "\n",
    "ghose_net = LCN_model.LCN(\n",
    "    input_size = 33, simple_number = 12, simple_size = 11, v4_size = 11, v4_stride = 6, v4_orientation_number = 6, \n",
    "    phis_sfs = 4, training_size = 2, phis = True, sfs = False, alpha = 0.01)\n",
    "x = ghose_net.inputting(-np.pi/36, np.pi/36, random_sf = True)\n",
    "y = ghose_net.desired_outputting()\n",
    "optimizer = optim.SGD(ghose_net.parameters(), lr = ghose_net.alpha)\n",
    "ghose_net.mean_train(100, optimizer)"
   ]
  },
  {
   "cell_type": "code",
   "execution_count": null,
   "metadata": {},
   "outputs": [],
   "source": [
    "plt.figure(figsize = [20, 20])\n",
    "plt.subplot(3, 3, 1)\n",
    "schoups_net.plot_training_error('red')\n",
    "ghose_net.plot_training_error('blue')\n",
    "plt.legend([\"Fixed SF training error\", \"Randomized SF training error\"]);\n",
    "plt.title(\"Training and generalization for networks trained on fixed and randomized SF\", loc = \"left\")\n",
    "\n",
    "plt.subplot(3, 3, 2)\n",
    "schoups_net.plot_training_performance('red')\n",
    "ghose_net.plot_training_performance('blue')\n",
    "plt.legend([\"Fixed SF training performance\", \"Randomized SF training performance\"]);\n"
   ]
  },
  {
   "cell_type": "code",
   "execution_count": 68,
   "metadata": {
    "scrolled": true
   },
   "outputs": [
    {
     "data": {
      "image/png": "[encoded data removed]",
      "text/plain": [
       "<Figure size 432x288 with 1 Axes>"
      ]
     },
     "metadata": {
      "needs_background": "light"
     },
     "output_type": "display_data"
    }
   ],
   "source": [
    "schoups_net.plot_weight_change('red', v1 = True)\n",
    "ghose_net.plot_weight_change('blue', v1 = True)\n",
    "plt.legend([\"Fixed SF\", \"Randomized SF\"]);\n",
    "plt.title(\"Weight changes in V1 during training\");"
   ]
  },
  {
   "cell_type": "code",
   "execution_count": 69,
   "metadata": {},
   "outputs": [
    {
     "data": {
      "image/png": "[encoded data removed]",
      "text/plain": [
       "<Figure size 432x288 with 1 Axes>"
      ]
     },
     "metadata": {
      "needs_background": "light"
     },
     "output_type": "display_data"
    }
   ],
   "source": [
    "schoups_net.plot_weight_change('red', v4 = True)\n",
    "ghose_net.plot_weight_change('blue', v4 = True)\n",
    "plt.legend([\"Fixed SF\", \"Randomized SF\"]);\n",
    "plt.title(\"Weight changes in V4 during training\");"
   ]
  },
  {
   "cell_type": "code",
   "execution_count": 70,
   "metadata": {},
   "outputs": [
    {
     "data": {
      "image/png": "[encoded data removed]",
      "text/plain": [
       "<Figure size 432x288 with 1 Axes>"
      ]
     },
     "metadata": {
      "needs_background": "light"
     },
     "output_type": "display_data"
    }
   ],
   "source": [
    "schoups_net.plot_weight_change('red', decision = True)\n",
    "ghose_net.plot_weight_change('blue', decision = True)\n",
    "plt.legend([\"Fixed SF\", \"Randomized SF\"]);\n",
    "plt.title(\"Weight changes in decision layer during training\");"
   ]
  },
  {
   "cell_type": "code",
   "execution_count": 80,
   "metadata": {},
   "outputs": [],
   "source": [
    "torch.save(schoups_net.state_dict(), \"Schoups_12_orientations_model.pt\")\n",
    "torch.save(ghose_net.state_dict(), \"Ghose_12_orientations_model.pt\")"
   ]
  },
  {
   "cell_type": "code",
   "execution_count": 84,
   "metadata": {},
   "outputs": [
    {
     "name": "stderr",
     "output_type": "stream",
     "text": [
      "100%|██████████| 100/100 [02:02<00:00,  1.23s/it]\n",
      "100%|██████████| 100/100 [02:01<00:00,  1.21s/it]\n"
     ]
    }
   ],
   "source": [
    "schoups_net = LCN_model.LCN(\n",
    "    input_size = 33, simple_number = 12, simple_size = 11, v4_size = 11, v4_stride = 6, v4_orientation_number = 6,\n",
    "    phis_sfs = 4, training_size = 2, phis = True, sfs = False, alpha = 0.02)\n",
    "schoups_net.load_state_dict(torch.load(\"Schoups_12_orientations_model.pt\"))\n",
    "schoups_net.v1_tuning_curve()\n",
    "schoups_net.v4_tuning_curve()\n",
    "\n",
    "ghose_net = LCN_model.LCN(\n",
    "    input_size = 33, simple_number = 12, simple_size = 11, v4_size = 11, v4_stride = 6, v4_orientation_number = 6, \n",
    "    phis_sfs = 4, training_size = 2, phis = True, sfs = False, alpha = 0.02)\n",
    "ghose_net.load_state_dict(torch.load(\"Ghose_12_orientations_model.pt\"))\n",
    "ghose_net.v1_tuning_curve()\n",
    "ghose_net.v4_tuning_curve()"
   ]
  },
  {
   "cell_type": "code",
   "execution_count": 3,
   "metadata": {},
   "outputs": [
    {
     "data": {
      "image/png": "[encoded data removed]",
      "text/plain": [
       "<Figure size 1440x1440 with 2 Axes>"
      ]
     },
     "metadata": {
      "needs_background": "light"
     },
     "output_type": "display_data"
    }
   ],
   "source": [
    "plt.figure(figsize = [20, 20])\n",
    "plt.subplot(3, 3, 1)\n",
    "schoups_net.plot_v1_tuning_curve(orientation = 3, phi_sf = 0, position = 12, orientations = True, differences = False)\n",
    "plt.title(\"Difference in tuning curves selective for different orientations\", loc = 'center');\n",
    "\n",
    "plt.subplot(3, 3, 2)\n",
    "ghose_net.plot_v1_tuning_curve(orientation = 3, phi_sf = 0, position = 12, orientations = True, differences = False)\n",
    "plt.title(\"Difference in tuning curves selective for different orientations\", loc = 'center');"
   ]
  },
  {
   "cell_type": "code",
   "execution_count": 4,
   "metadata": {},
   "outputs": [
    {
     "data": {
      "image/png": "[encoded data removed]",
      "text/plain": [
       "<Figure size 1440x1440 with 2 Axes>"
      ]
     },
     "metadata": {
      "needs_background": "light"
     },
     "output_type": "display_data"
    }
   ],
   "source": [
    "schoups_net.v1_tuning_params(12)\n",
    "ghose_net.v1_tuning_params(12)\n",
    "\n",
    "plt.figure(figsize = [20, 20])\n",
    "\n",
    "plt.subplot(3, 3, 1)\n",
    "plt.bar([\"Fixed net\", \"Random net\"], [schoups_net.v1_mean_after_amplitude, ghose_net.v1_mean_after_amplitude], yerr = [\n",
    "    ghose_net.v1_std_after_amplitude, ghose_net.v1_std_after_amplitude], color = \"black\");\n",
    "plt.title(\"Mean tuning curve amplitudes\");\n",
    "\n",
    "plt.subplot(3, 3, 2)\n",
    "plt.bar([\"Fixed net\", \"Random net\"], [schoups_net.v1_mean_after_bandwidth, ghose_net.v1_mean_after_bandwidth], yerr = [\n",
    "    schoups_net.v1_std_after_bandwidth, ghose_net.v1_std_after_bandwidth], color = \"black\");\n",
    "plt.title(\"Mean tuning curve bandwidths\");"
   ]
  },
  {
   "cell_type": "code",
   "execution_count": 5,
   "metadata": {},
   "outputs": [
    {
     "data": {
      "image/png": "[encoded data removed]",
      "text/plain": [
       "<Figure size 2880x2880 with 2 Axes>"
      ]
     },
     "metadata": {
      "needs_background": "light"
     },
     "output_type": "display_data"
    }
   ],
   "source": [
    "plt.figure(figsize = [40, 40])\n",
    "\n",
    "plt.subplot(4, 4, 1)\n",
    "plt.bar([\"Fixed SF\", \"Random SF\"], [schoups_net.v1_amplitude_difference, ghose_net.v1_amplitude_difference], color = \"black\");\n",
    "plt.ylabel(\"% increase of amplitude\");\n",
    "plt.title(\"Change in amplitude for V1 tuning curves of networks trained on fixed and random SF\");\n",
    "\n",
    "plt.subplot(4, 4, 2)\n",
    "plt.bar([\"Fixed SF\", \"Random SF\"], [schoups_net.v1_bandwidth_difference, ghose_net.v1_bandwidth_difference], color = \"black\");\n",
    "plt.ylabel(\"% increase of bandwidth\");\n",
    "plt.title(\"Change in bandwidth for V1 tuning curves of networks trained on fixed and random SF\");"
   ]
  },
  {
   "cell_type": "code",
   "execution_count": 90,
   "metadata": {},
   "outputs": [
    {
     "data": {
      "image/png": "[encoded data removed]",
      "text/plain": [
       "<Figure size 1440x1440 with 2 Axes>"
      ]
     },
     "metadata": {
      "needs_background": "light"
     },
     "output_type": "display_data"
    }
   ],
   "source": [
    "plt.figure(figsize = [20, 20])\n",
    "plt.subplot(3, 3, 1)\n",
    "schoups_net.plot_v4_tuning_curve(position = 1, differences = False)\n",
    "plt.title(\"V4 tuning curves selective for different orientations\", loc = 'center');\n",
    "\n",
    "plt.subplot(3, 3, 2)\n",
    "ghose_net.plot_v4_tuning_curve(position = 1, differences = False)\n",
    "plt.title(\"V4 tuning curves selective for different orientations\", loc = 'center');"
   ]
  },
  {
   "cell_type": "code",
   "execution_count": 12,
   "metadata": {},
   "outputs": [
    {
     "data": {
      "image/png": "[encoded data removed]",
      "text/plain": [
       "<Figure size 1440x1440 with 2 Axes>"
      ]
     },
     "metadata": {
      "needs_background": "light"
     },
     "output_type": "display_data"
    }
   ],
   "source": [
    "schoups_net.v4_tuning_params(1)\n",
    "ghose_net.v4_tuning_params(1)\n",
    "\n",
    "plt.figure(figsize = [20, 20])\n",
    "\n",
    "plt.subplot(3, 3, 1)\n",
    "plt.bar([\"Fixed SF\", \"Random SF\"], [\n",
    "    schoups_net.v4_mean_after_amplitude, ghose_net.v4_mean_after_amplitude], yerr = [\n",
    "    schoups_net.v4_std_after_amplitude, ghose_net.v4_std_after_amplitude], color = \"black\");\n",
    "plt.title(\"Mean V4 tuning curve amplitudes\");\n",
    "\n",
    "plt.subplot(3, 3, 2)\n",
    "plt.bar([\"Fixed SF\", \"Random SF\"], [\n",
    "    schoups_net.v4_mean_after_bandwidth, ghose_net.v4_mean_after_bandwidth], yerr = [\n",
    "    schoups_net.v4_std_after_bandwidth, ghose_net.v4_std_after_bandwidth], color = \"black\");\n",
    "plt.title(\"Mean V4 tuning curve bandwidths\");"
   ]
  },
  {
   "cell_type": "code",
   "execution_count": 13,
   "metadata": {},
   "outputs": [
    {
     "data": {
      "image/png": "[encoded data removed]",
      "text/plain": [
       "<Figure size 2880x2880 with 2 Axes>"
      ]
     },
     "metadata": {
      "needs_background": "light"
     },
     "output_type": "display_data"
    }
   ],
   "source": [
    "plt.figure(figsize = [40, 40])\n",
    "\n",
    "plt.subplot(4, 4, 1)\n",
    "plt.bar([\"Fixed SF\", \"Random SF\"], [\n",
    "    schoups_net.v4_amplitude_difference, ghose_net.v4_amplitude_difference], color = \"black\");\n",
    "plt.ylabel(\"% increase of amplitude\");\n",
    "plt.title(\"Change in amplitude for V4 tuning curves of networks trained on different curriculum\");\n",
    "\n",
    "plt.subplot(4, 4, 2)\n",
    "plt.bar([\"Fixed SF\", \"Random SF\"], [\n",
    "    schoups_net.v4_bandwidth_difference, ghose_net.v4_bandwidth_difference], color = \"black\");\n",
    "plt.ylabel(\"% increase of bandwidth\");\n",
    "plt.title(\"Change in bandwidth for V4 tuning curves of networks trained on different curriculum\");"
   ]
  },
  {
   "cell_type": "code",
   "execution_count": 14,
   "metadata": {},
   "outputs": [
    {
     "data": {
      "image/png": "[encoded data removed]",
      "text/plain": [
       "<Figure size 432x288 with 1 Axes>"
      ]
     },
     "metadata": {
      "needs_background": "light"
     },
     "output_type": "display_data"
    }
   ],
   "source": [
    "schoups_net.otc_curve(np.pi/180, v1_position = 12, v4_position = 1)\n",
    "schoups_net.plot_otc_curve()\n"
   ]
  },
  {
   "cell_type": "code",
   "execution_count": 15,
   "metadata": {},
   "outputs": [
    {
     "data": {
      "image/png": "[encoded data removed]",
      "text/plain": [
       "<Figure size 432x288 with 1 Axes>"
      ]
     },
     "metadata": {
      "needs_background": "light"
     },
     "output_type": "display_data"
    }
   ],
   "source": [
    "ghose_net.otc_curve(np.pi/36, v1_position = 12, v4_position = 1)\n",
    "ghose_net.plot_otc_curve()\n"
   ]
  },
  {
   "cell_type": "markdown",
   "metadata": {},
   "source": [
    "## Fixed vs random SF"
   ]
  },
  {
   "cell_type": "code",
   "execution_count": null,
   "metadata": {},
   "outputs": [],
   "source": [
    "np.random.seed(2)\n",
    "torch.manual_seed(2)\n",
    "\n",
    "fixed_net = LCN_model.LCN(\n",
    "    input_size = 33, simple_number = 6, simple_size = 11, v4_size = 11, v4_stride = 6, phis_sfs = 4, \n",
    "    training_size = 2, phis = True, sfs = False, alpha = 0.02)\n",
    "x = fixed_net.inputting(-np.pi/180, np.pi/180, random_sf = False)\n",
    "y = fixed_net.desired_outputting()\n",
    "optimizer = optim.SGD(fixed_net.parameters(), lr = fixed_net.alpha)\n",
    "fixed_net.mean_train(3000, optimizer)\n",
    "\n",
    "\n",
    "random_net = LCN_model.LCN(\n",
    "    input_size = 33, simple_number = 6, simple_size = 11, v4_size = 11, v4_stride = 6, phis_sfs = 4, \n",
    "    training_size = 2, phis = True, sfs = False, alpha = 0.02)\n",
    "x = random_net.inputting(-np.pi/180, np.pi/180, random_sf = True)\n",
    "y = random_net.desired_outputting()\n",
    "optimizer = optim.SGD(random_net.parameters(), lr = random_net.alpha)\n",
    "random_net.mean_train(3000, optimizer)"
   ]
  },
  {
   "cell_type": "code",
   "execution_count": null,
   "metadata": {},
   "outputs": [],
   "source": [
    "plt.figure(figsize = [20, 20])\n",
    "plt.subplot(3, 3, 1)\n",
    "fixed_net.plot_training_error('red')\n",
    "random_net.plot_training_error('blue')\n",
    "plt.legend([\"Fixed SF training error\", \"Randomized SF training error\"]);\n",
    "plt.title(\"Training and generalization for networks trained on fixed and randomized SF\", loc = \"left\")\n",
    "\n",
    "plt.subplot(3, 3, 2)\n",
    "fixed_net.plot_training_performance('red')\n",
    "random_net.plot_training_performance('blue')\n",
    "plt.legend([\"Fixed SF training performance\", \"Randomized SF training performance\"]);\n"
   ]
  },
  {
   "cell_type": "code",
   "execution_count": null,
   "metadata": {},
   "outputs": [],
   "source": [
    "fixed_net.plot_weight_change('red', v1 = True)\n",
    "random_net.plot_weight_change('blue', v1 = True)\n",
    "plt.legend([\"Fixed SF\", \"Randomized SF\"]);\n",
    "plt.title(\"Weight changes in V1 during training\");"
   ]
  },
  {
   "cell_type": "code",
   "execution_count": null,
   "metadata": {},
   "outputs": [],
   "source": [
    "fixed_net.plot_weight_change('red', v4 = True)\n",
    "random_net.plot_weight_change('blue', v4 = True)\n",
    "plt.legend([\"Fixed SF\", \"Randomized SF\"]);\n",
    "plt.title(\"Weight changes in V4 during training\");"
   ]
  },
  {
   "cell_type": "code",
   "execution_count": null,
   "metadata": {},
   "outputs": [],
   "source": [
    "fixed_net.plot_weight_change('red', decision = True)\n",
    "random_net.plot_weight_change('blue', decision = True)\n",
    "plt.legend([\"Fixed SF\", \"Randomized SF\"]);\n",
    "plt.title(\"Weight changes in decision layer during training\");"
   ]
  },
  {
   "cell_type": "code",
   "execution_count": null,
   "metadata": {},
   "outputs": [],
   "source": [
    "torch.save(fixed_net.state_dict(), \"Fixed_sf_high_precision_phase_pool_model.pt\")\n",
    "torch.save(random_net.state_dict(), \"Random_sf_high_precision_phase_pool_model.pt\")"
   ]
  },
  {
   "cell_type": "code",
   "execution_count": null,
   "metadata": {},
   "outputs": [],
   "source": [
    "fixed_net = LCN_model.LCN(\n",
    "    input_size = 33, simple_number = 6, simple_size = 11, v4_size = 11, v4_stride = 6, phis_sfs = 4, training_size = 2, \n",
    "    phis = True, sfs = False, alpha = 0.02)\n",
    "fixed_net.load_state_dict(torch.load(\"Fixed_sf_high_precision_sf_pool_model.pt\"))\n",
    "fixed_net.v1_tuning_curve()\n",
    "fixed_net.v4_tuning_curve()\n",
    "\n",
    "random_net = LCN_model.LCN(\n",
    "    input_size = 33, simple_number = 6, simple_size = 11, v4_size = 11, v4_stride = 6, phis_sfs = 4, training_size = 2, \n",
    "    phis = True, sfs = False, alpha = 0.02)\n",
    "random_net.load_state_dict(torch.load(\"Random_sf_high_precision_sf_pool_model.pt\"))\n",
    "random_net.v1_tuning_curve()\n",
    "random_net.v4_tuning_curve()"
   ]
  },
  {
   "cell_type": "code",
   "execution_count": null,
   "metadata": {},
   "outputs": [],
   "source": [
    "plt.figure(figsize = [20, 20])\n",
    "plt.subplot(3, 3, 1)\n",
    "fixed_net.plot_v1_tuning_curve(orientation = 4, phi_sf = 0, position = 12, orientations = True, differences = True)\n",
    "plt.title(\"Tuning curves selective for different spatial frequencies\", loc = 'center');\n",
    "\n",
    "plt.subplot(3, 3, 2)\n",
    "random_net.plot_v1_tuning_curve(orientation = 4, phi_sf = 0, position = 12, orientations = True, differences = True)\n",
    "plt.title(\"Difference in tuning curves selective for different orientations\", loc = 'center');"
   ]
  },
  {
   "cell_type": "code",
   "execution_count": null,
   "metadata": {},
   "outputs": [],
   "source": [
    "fixed_net.v1_tuning_params(12)\n",
    "random_net.v1_tuning_params(12)\n",
    "\n",
    "plt.figure(figsize = [20, 20])\n",
    "\n",
    "plt.subplot(3, 3, 1)\n",
    "plt.bar([\"Fixed net\", \"Random net\"], [fixed_net.v1_mean_after_amplitude, random_net.v1_mean_after_amplitude], yerr = [\n",
    "    fixed_net.v1_std_after_amplitude, random_net.v1_std_after_amplitude], color = \"black\");\n",
    "plt.title(\"Mean tuning curve amplitudes\");\n",
    "\n",
    "plt.subplot(3, 3, 2)\n",
    "plt.bar([\"Fixed net\", \"Random net\"], [fixed_net.v1_mean_after_bandwidth, random_net.v1_mean_after_bandwidth], yerr = [\n",
    "    fixed_net.v1_std_after_bandwidth, random_net.v1_std_after_bandwidth], color = \"black\");\n",
    "plt.title(\"Mean tuning curve bandwidths\");"
   ]
  },
  {
   "cell_type": "code",
   "execution_count": null,
   "metadata": {},
   "outputs": [],
   "source": [
    "plt.figure(figsize = [40, 40])\n",
    "\n",
    "plt.subplot(4, 4, 1)\n",
    "plt.bar([\"Fixed SF\", \"Random SF\"], [fixed_net.v1_amplitude_difference, random_net.v1_amplitude_difference], color = \"black\");\n",
    "plt.ylabel(\"% increase of amplitude\");\n",
    "plt.title(\"Change in amplitude for V1 tuning curves of networks trained on fixed and random SF\");\n",
    "\n",
    "plt.subplot(4, 4, 2)\n",
    "plt.bar([\"Fixed SF\", \"Random SF\"], [fixed_net.v1_bandwidth_difference, random_net.v1_bandwidth_difference], color = \"black\");\n",
    "plt.ylabel(\"% increase of bandwidth\");\n",
    "plt.title(\"Change in bandwidth for V1 tuning curves of networks trained on fixed and random SF\");"
   ]
  },
  {
   "cell_type": "code",
   "execution_count": null,
   "metadata": {},
   "outputs": [],
   "source": [
    "plt.figure(figsize = [20, 20])\n",
    "plt.subplot(3, 3, 1)\n",
    "fixed_net.plot_v4_tuning_curve(position = 1, differences = True)\n",
    "plt.title(\"Difference in tuning curves selective for different orientations\", loc = 'center');\n",
    "\n",
    "plt.subplot(3, 3, 2)\n",
    "random_net.plot_v4_tuning_curve(position = 1, differences = True)\n",
    "plt.title(\"Difference in tuning curves selective for different orientations\", loc = 'center');"
   ]
  },
  {
   "cell_type": "code",
   "execution_count": null,
   "metadata": {},
   "outputs": [],
   "source": [
    "fixed_net.v4_tuning_params(1)\n",
    "random_net.v4_tuning_params(1)\n",
    "\n",
    "plt.figure(figsize = [20, 20])\n",
    "\n",
    "plt.subplot(3, 3, 1)\n",
    "plt.bar([\"Fixed SF\", \"Random SF\"], [\n",
    "    fixed_net.v4_mean_after_amplitude, random_net.v4_mean_after_amplitude], yerr = [\n",
    "    fixed_net.v4_std_after_amplitude, random_net.v4_std_after_amplitude], color = \"black\");\n",
    "plt.title(\"Mean V4 tuning curve amplitudes\");\n",
    "\n",
    "plt.subplot(3, 3, 2)\n",
    "plt.bar([\"Fixed SF\", \"Random SF\"], [\n",
    "    fixed_net.v4_mean_after_bandwidth, random_net.v4_mean_after_bandwidth], yerr = [\n",
    "    fixed_net.v4_std_after_bandwidth, random_net.v4_std_after_bandwidth], color = \"black\");\n",
    "plt.title(\"Mean V4 tuning curve bandwidths\");"
   ]
  },
  {
   "cell_type": "code",
   "execution_count": null,
   "metadata": {},
   "outputs": [],
   "source": [
    "plt.figure(figsize = [40, 40])\n",
    "\n",
    "plt.subplot(4, 4, 1)\n",
    "plt.bar([\"Fixed SF\", \"Random SF\"], [\n",
    "    fixed_net.v4_amplitude_difference, random_net.v4_amplitude_difference], color = \"black\");\n",
    "plt.ylabel(\"% increase of amplitude\");\n",
    "plt.title(\"Change in amplitude for V4 tuning curves of networks trained on different curriculum\");\n",
    "\n",
    "plt.subplot(4, 4, 2)\n",
    "plt.bar([\"Fixed SF\", \"Random SF\"], [\n",
    "    fixed_net.v4_bandwidth_difference, random_net.v4_bandwidth_difference], color = \"black\");\n",
    "plt.ylabel(\"% increase of bandwidth\");\n",
    "plt.title(\"Change in bandwidth for V4 tuning curves of networks trained on different curriculum\");"
   ]
  },
  {
   "cell_type": "markdown",
   "metadata": {},
   "source": [
    "## Random"
   ]
  },
  {
   "cell_type": "code",
   "execution_count": null,
   "metadata": {},
   "outputs": [],
   "source": [
    "curve = fixed_net.results[1, 0, 12, 12, :]\n",
    "initial_params = fixed_net.initial_tuning_curves[1, 0, 12, 12, :]\n",
    "plt.plot(curve)\n",
    "plt.plot(initial_params)\n",
    "\n",
    "x = np.linspace(0, np.pi, 100)\n",
    "x = (x * 180) / np.pi\n",
    "\n",
    "def find_nearest(tensor, value):\n",
    "        idx = (torch.abs(tensor - value)).argmin()\n",
    "        return idx.item()\n",
    "\n",
    "    \n",
    "halfmax_amplitude = torch.abs(curve.max()) - torch.abs(curve.min())\n",
    "halfmax = halfmax_amplitude/2\n",
    "halfmax_index1 = find_nearest(curve, halfmax)\n",
    "temporary = torch.cat([curve[0:halfmax_index1], curve[halfmax_index1+1:]])\n",
    "halfmax_index2 = find_nearest(temporary, halfmax)\n",
    "add = 0\n",
    "while halfmax_index1-2 <= halfmax_index2 <= halfmax_index1+2:\n",
    "                    temporary = torch.cat([temporary[0:halfmax_index2], temporary[halfmax_index2+1:]])\n",
    "                    halfmax_index2 = find_nearest(temporary, halfmax)\n",
    "                    add += 1\n",
    "\n",
    "if halfmax_index1 < halfmax_index2:\n",
    "    halfmax_index2 += 1\n",
    "try1 = np.abs(x[halfmax_index1] - x[halfmax_index2])\n",
    "try2 = 180 - np.abs(x[halfmax_index1] - x[halfmax_index2])\n",
    "if try1 < try2:\n",
    "    bandwidth = try1\n",
    "else:\n",
    "    bandwidth = try2\n",
    "\n",
    "\n",
    "\n",
    "halfmax2_amplitude2 = torch.abs(initial_params.max()) - torch.abs(initial_params.min())\n",
    "halfmax2 = halfmax2_amplitude2/2\n",
    "halfmax2_index1 = find_nearest(initial_params, halfmax2)\n",
    "temporary2 = torch.cat([initial_params[0:halfmax2_index1], initial_params[halfmax2_index1+1:]])\n",
    "halfmax2_index2 = find_nearest(temporary2, halfmax2)\n",
    "add = 0\n",
    "while halfmax2_index1-2 <= halfmax2_index2 <= halfmax2_index1+2:\n",
    "                    temporary = torch.cat([temporary[0:halfmax2_index2], temporary[halfmax2_index2+1:]])\n",
    "                    halfmax2_index2 = find_nearest(temporary, halfmax2)\n",
    "                    add += 1\n",
    "if halfmax2_index1 < halfmax2_index2:\n",
    "    halfmax2_index2 += 1\n",
    "try1 = np.abs(x[halfmax2_index1] - x[halfmax2_index2])\n",
    "try2 = 180 - np.abs(x[halfmax2_index1] - x[halfmax2_index2])\n",
    "if try1 < try2:\n",
    "    bandwidth2 = try1\n",
    "else:\n",
    "    bandwidth2 = try2\n",
    "\n",
    "bandwidth, bandwidth2\n",
    "halfmax, halfmax_index1, halfmax_index2, halfmax2_index1\n"
   ]
  },
  {
   "cell_type": "code",
   "execution_count": null,
   "metadata": {},
   "outputs": [],
   "source": [
    "print(fixed_net.before_bandwidths == fixed_net.after_bandwidths)"
   ]
  },
  {
   "cell_type": "code",
   "execution_count": null,
   "metadata": {},
   "outputs": [],
   "source": [
    "print(fixed_net.initial_tuning_curves[0][0][12][12][:]) \n",
    "print(random_net.initial_tuning_curves[0][0][12][12][:])"
   ]
  },
  {
   "cell_type": "code",
   "execution_count": null,
   "metadata": {},
   "outputs": [],
   "source": [
    "for i in fixed_net.parameters():\n",
    "    print(i)"
   ]
  },
  {
   "cell_type": "code",
   "execution_count": null,
   "metadata": {},
   "outputs": [],
   "source": []
  },
  {
   "cell_type": "code",
   "execution_count": null,
   "metadata": {},
   "outputs": [],
   "source": []
  },
  {
   "cell_type": "code",
   "execution_count": null,
   "metadata": {},
   "outputs": [],
   "source": []
  },
  {
   "cell_type": "code",
   "execution_count": null,
   "metadata": {},
   "outputs": [],
   "source": []
  },
  {
   "cell_type": "code",
   "execution_count": null,
   "metadata": {},
   "outputs": [],
   "source": [
    "input = torch.rand(1, 1, 5, 5)\n",
    "weight = torch.randn(1, 4, 1, 4, 4, 2**2)\n",
    "input"
   ]
  },
  {
   "cell_type": "code",
   "execution_count": null,
   "metadata": {},
   "outputs": [],
   "source": [
    "weight.shape"
   ]
  },
  {
   "cell_type": "code",
   "execution_count": null,
   "metadata": {},
   "outputs": [],
   "source": [
    "output = input.unfold(2, 2, 2).unfold(3, 2, 2)\n",
    "output2 = output.contiguous().view(*output.size()[:-2],-1)\n",
    "output2"
   ]
  },
  {
   "cell_type": "code",
   "execution_count": null,
   "metadata": {},
   "outputs": [],
   "source": [
    "out = (output2.unsqueeze(1) * weight).sum([2,-1])\n",
    "a = []\n",
    "for i in range(0, 4, 2):\n",
    "    a.append(torch.sum(out[0][i:i+2] ** 2, dim = 0))\n",
    "out, torch.stack(a).view(2, 4, 4)"
   ]
  },
  {
   "cell_type": "code",
   "execution_count": null,
   "metadata": {},
   "outputs": [],
   "source": [
    "weight.sum([2,-1])"
   ]
  },
  {
   "cell_type": "code",
   "execution_count": null,
   "metadata": {},
   "outputs": [],
   "source": [
    "def generate_gabor(size, theta):\n",
    "    ksize = size\n",
    "    sigma = 3\n",
    "    lamda = 5\n",
    "    gamma = 0.5\n",
    "    phi = 0\n",
    "    kernel = cv2.getGaborKernel((ksize, ksize), sigma, theta, lamda, gamma, phi)\n",
    "    return torch.tensor(kernel).view(1, 1, size, size).float()\n",
    "\n",
    "angles = np.linspace(0, np.pi, 6)\n",
    "weights = []\n",
    "for i in range(6):\n",
    "    for j in range(49):\n",
    "        theta = angles[i]\n",
    "        kernel = generate_gabor(5, theta)\n",
    "        weights.append(kernel)\n",
    "weight = torch.stack(weights).view(1, 6, 1, 7, 7, 25)\n",
    "weights"
   ]
  },
  {
   "cell_type": "code",
   "execution_count": null,
   "metadata": {},
   "outputs": [],
   "source": [
    "\n",
    "inputs = []\n",
    "\n",
    "x = np.linspace(0, np.pi, 10)\n",
    "\n",
    "for i in range(1):\n",
    "    theta = x[i]\n",
    "    kernel = generate_gabor(11, theta)\n",
    "    inputs.append(kernel)\n",
    "\n",
    "input = torch.stack(inputs).view(1, 1, 11, 11)\n",
    "output = input.unfold(2, 5, 1).unfold(3, 5, 1)\n",
    "output2 = output.contiguous().view(*output.size()[:-2],-1)\n",
    "out = (output2.unsqueeze(1) * weight).sum([2,-1])\n",
    "output2.shape"
   ]
  },
  {
   "cell_type": "code",
   "execution_count": null,
   "metadata": {},
   "outputs": [],
   "source": [
    "x = np.linspace(0, 7, 6)\n",
    "np.delete(x, -1)\n",
    "x"
   ]
  },
  {
   "cell_type": "code",
   "execution_count": null,
   "metadata": {},
   "outputs": [],
   "source": [
    "np.linspace(0, np.pi, 3), np.pi/2"
   ]
  },
  {
   "cell_type": "code",
   "execution_count": null,
   "metadata": {},
   "outputs": [],
   "source": []
  },
  {
   "cell_type": "code",
   "execution_count": null,
   "metadata": {},
   "outputs": [],
   "source": [
    "m = nn.MaxPool2d((2,2), stride = (2,2))\n",
    "input = torch.rand(1, 1, 5, 5)\n",
    "input, m(input)"
   ]
  },
  {
   "cell_type": "code",
   "execution_count": null,
   "metadata": {},
   "outputs": [],
   "source": [
    "for i in range(0, 10, 2):\n",
    "    print(i)"
   ]
  },
  {
   "cell_type": "code",
   "execution_count": null,
   "metadata": {},
   "outputs": [],
   "source": [
    "fig, [ax1, ax2] = plt.subplots(1, 2)\n",
    "ksize = 33\n",
    "sigma = 3\n",
    "lamda = 10\n",
    "gamma = 0.5\n",
    "phi = 0\n",
    "theta = np.pi/4\n",
    "kernel = cv2.getGaborKernel((ksize, ksize), sigma, theta, lamda, gamma, phi)\n",
    "kernel = torch.tensor(kernel)\n",
    "noise = torch.normal(0, 0.05, (33,33))\n",
    "kernel = kernel+ noise\n",
    "\n",
    "ax1.imshow(kernel, 'gray')\n",
    "\n",
    "\n",
    "ksize = 33\n",
    "sigma = 3\n",
    "lamda = 10\n",
    "gamma = 0.5\n",
    "phi = 0\n",
    "theta = np.pi/4\n",
    "kernel = cv2.getGaborKernel((ksize, ksize), sigma, theta, lamda, gamma, phi)\n",
    "kernel = torch.tensor(kernel)\n",
    "noise = torch.normal(0, 0.1, (33,33))\n",
    "kernel = kernel+ noise\n",
    "ax2.imshow(kernel, 'gray')\n"
   ]
  },
  {
   "cell_type": "code",
   "execution_count": null,
   "metadata": {},
   "outputs": [],
   "source": []
  },
  {
   "cell_type": "code",
   "execution_count": 55,
   "metadata": {},
   "outputs": [
    {
     "data": {
      "text/plain": [
       "torch.Size([5, 11, 11])"
      ]
     },
     "execution_count": 55,
     "metadata": {},
     "output_type": "execute_result"
    }
   ],
   "source": [
    "def gaussian(M, std):\n",
    "    n = torch.arange(0, M) - (M - 1.0) / 2.0\n",
    "    sig2 = 2 * std * std\n",
    "    w = torch.exp(-n ** 2 / sig2)\n",
    "    return w\n",
    "\n",
    "def gkern(kernlen=256, std=128):\n",
    "    \"\"\"Returns a 2D Gaussian kernel array.\"\"\"\n",
    "    gkern1d = gaussian(kernlen, std=std).reshape(kernlen)\n",
    "    gkern2d = torch.outer(gkern1d, gkern1d)\n",
    "    return gkern2d\n",
    "\n",
    "def gkern_1d(kernlen=256, std=128):\n",
    "    \"\"\"Returns a 1D Gaussian kernel array.\"\"\"\n",
    "    gkern1d = gaussian(kernlen, std=std).reshape(kernlen)\n",
    "    return gkern1d\n",
    "\n",
    "# # Test plot\n",
    "# plt.figure()\n",
    "# plt.imshow(gkern(11, std=2), 'gray')\n",
    "# plt.show()\n",
    "a = (gkern(11, 2),)*5\n",
    "b = torch.stack(a)\n",
    "scale = gkern_1d(5, 2)\n",
    "scales = torch.empty(5, 11, 11)\n",
    "for i in range(5):\n",
    "    scales[i] = b[i] * scale[i]\n",
    "scales.shape"
   ]
  },
  {
   "cell_type": "code",
   "execution_count": 56,
   "metadata": {},
   "outputs": [
    {
     "data": {
      "text/plain": [
       "torch.Size([1, 2, 2])"
      ]
     },
     "execution_count": 56,
     "metadata": {},
     "output_type": "execute_result"
    }
   ],
   "source": [
    "# input number: 1, input size: 3x3, weight size: 2x2, weight number 2\n",
    "x = torch.rand(1, 3, 3)\n",
    "weight = torch.rand(1, 2, 2, 4)\n",
    "y = x.unfold(1, 2, 1).unfold(2, 2, 1)\n",
    "z = y.contiguous().view(*y.size()[:-2], -1)\n",
    "out = (z.unsqueeze(1)*weight).sum([1, -1])\n",
    "out.shape"
   ]
  },
  {
   "cell_type": "code",
   "execution_count": null,
   "metadata": {},
   "outputs": [],
   "source": [
    "\n",
    "def random():\n",
    "    \n",
    "    x = np.random.rand(1)\n",
    "    y = torch.rand(1)\n",
    "    return x, y\n"
   ]
  },
  {
   "cell_type": "code",
   "execution_count": null,
   "metadata": {},
   "outputs": [],
   "source": [
    "np.random.seed(0)\n",
    "torch.manual_seed(0)\n",
    "random()"
   ]
  },
  {
   "cell_type": "code",
   "execution_count": null,
   "metadata": {},
   "outputs": [],
   "source": [
    "device = torch.device('cuda')\n",
    "device"
   ]
  },
  {
   "cell_type": "code",
   "execution_count": null,
   "metadata": {},
   "outputs": [],
   "source": [
    "torch.manual_seed(0)\n",
    "x = torch.rand(11)\n",
    "halfmax = x.max()/2\n",
    "\n",
    "def find_nearest(tensor, value):\n",
    "    idx = (torch.abs(tensor - value)).argmin()\n",
    "    return idx\n",
    "a = find_nearest(x, halfmax)\n",
    "temporary = torch.cat([x[0:a], x[a+1:]])\n",
    "x[a], x[find_nearest(temporary, halfmax)]"
   ]
  },
  {
   "cell_type": "code",
   "execution_count": null,
   "metadata": {},
   "outputs": [],
   "source": [
    "torch.cuda.is_available()"
   ]
  },
  {
   "cell_type": "code",
   "execution_count": null,
   "metadata": {},
   "outputs": [],
   "source": [
    "device = torch.device(\"cuda:0\")\n",
    "device"
   ]
  },
  {
   "cell_type": "code",
   "execution_count": null,
   "metadata": {},
   "outputs": [],
   "source": [
    "torch.cuda.device_count()"
   ]
  },
  {
   "cell_type": "code",
   "execution_count": null,
   "metadata": {},
   "outputs": [],
   "source": [
    "print(torch.cuda.get_device_name(torch.cuda.current_device()))"
   ]
  },
  {
   "cell_type": "code",
   "execution_count": null,
   "metadata": {},
   "outputs": [],
   "source": [
    "a = np.random.rand(5)\n",
    "b = range(5)\n",
    "plt.plot(a)\n",
    "plt.errorbar(b, a, xerr = a.std(), yerr = a.std())\n",
    "a.mean()"
   ]
  },
  {
   "cell_type": "code",
   "execution_count": null,
   "metadata": {},
   "outputs": [],
   "source": [
    "a = torch.tensor([-1.2, -2, -3, -4, 0.2, 0.3])\n",
    "(torch.abs(a.max())-torch.abs(a.min()))/2"
   ]
  },
  {
   "cell_type": "code",
   "execution_count": null,
   "metadata": {},
   "outputs": [],
   "source": [
    "torch.manual_seed(0)\n",
    "x = torch.empty((6, 3, 3, 100))\n",
    "for i in range(100):\n",
    "    y = torch.rand((6, 3, 3))\n",
    "    x[:, :, :, i] = y\n",
    "x"
   ]
  },
  {
   "cell_type": "code",
   "execution_count": null,
   "metadata": {},
   "outputs": [],
   "source": [
    "F.relu(torch.tensor(-2))"
   ]
  },
  {
   "cell_type": "code",
   "execution_count": null,
   "metadata": {},
   "outputs": [],
   "source": [
    "x = [1, 2, 3, 4]\n",
    "y = torch.tensor(x)\n",
    "y"
   ]
  },
  {
   "cell_type": "code",
   "execution_count": null,
   "metadata": {},
   "outputs": [],
   "source": []
  },
  {
   "cell_type": "code",
   "execution_count": 46,
   "metadata": {},
   "outputs": [
    {
     "data": {
      "text/plain": [
       "<matplotlib.lines.Line2D at 0x7f902e22efd0>"
      ]
     },
     "execution_count": 46,
     "metadata": {},
     "output_type": "execute_result"
    },
    {
     "data": {
      "image/png": "[encoded data removed]",
      "text/plain": [
       "<Figure size 432x288 with 1 Axes>"
      ]
     },
     "metadata": {
      "needs_background": "light"
     },
     "output_type": "display_data"
    }
   ],
   "source": [
    "M = 12\n",
    "mean = 0\n",
    "std = 0.5\n",
    "n = torch.linspace(-np.pi/2, np.pi/2, M) - mean\n",
    "sig2 = 2 * std * std\n",
    "w = torch.exp(-n ** 2 / sig2)\n",
    "plt.plot(np.linspace(-np.pi/2, np.pi/2, M), w);\n",
    "plt.axvline(0)"
   ]
  },
  {
   "cell_type": "code",
   "execution_count": 23,
   "metadata": {},
   "outputs": [
    {
     "data": {
      "text/plain": [
       "torch.Size([12, 3, 3, 121])"
      ]
     },
     "execution_count": 23,
     "metadata": {},
     "output_type": "execute_result"
    }
   ],
   "source": [
    "v4_weight = torch.rand(12, 3, 3, 12, 121)\n",
    "pools = torch.rand(12, 23, 23)\n",
    "out = pools.unfold(1, 11, 6).unfold(2, 11, 6)\n",
    "out = out.contiguous().view(*out.size()[:-2], -1)\n",
    "# out = (out.unsqueeze(1)*v4_weight).sum([1, -1])\n",
    "out.shape"
   ]
  },
  {
   "cell_type": "code",
   "execution_count": 45,
   "metadata": {},
   "outputs": [
    {
     "data": {
      "text/plain": [
       "<matplotlib.colorbar.Colorbar at 0x7feb7c431710>"
      ]
     },
     "execution_count": 45,
     "metadata": {},
     "output_type": "execute_result"
    },
    {
     "data": {
      "image/png": "[encoded data removed]",
      "text/plain": [
       "<Figure size 432x288 with 2 Axes>"
      ]
     },
     "metadata": {
      "needs_background": "light"
     },
     "output_type": "display_data"
    }
   ],
   "source": [
    "plt.imshow(schoups_net.generate_3d_gaussian(-np.pi/2, 0.5)[10], 'gray')\n",
    "plt.colorbar()"
   ]
  },
  {
   "cell_type": "code",
   "execution_count": 67,
   "metadata": {},
   "outputs": [
    {
     "data": {
      "text/plain": [
       "tensor(True)"
      ]
     },
     "execution_count": 67,
     "metadata": {},
     "output_type": "execute_result"
    }
   ],
   "source": [
    "a = torch.rand(3, 2, 2)\n",
    "a, a.sum(1), a.sum([1, -1])\n",
    "c = a.sum([1, -1]).sum(0)\n",
    "d = a.sum([1, -1, 0])\n",
    "c==d"
   ]
  },
  {
   "cell_type": "code",
   "execution_count": 76,
   "metadata": {},
   "outputs": [
    {
     "data": {
      "text/plain": [
       "(tensor([[[[[0.1206, 0.1730, 0.1067, 0.3099, 0.2835, 0.7641],\n",
       "            [0.1191, 0.5831, 0.0121, 0.0385, 0.8917, 0.0929],\n",
       "            [0.8891, 0.1876, 0.2011, 0.3396, 0.8272, 0.7525]],\n",
       " \n",
       "           [[0.3720, 0.2546, 0.1567, 0.4739, 0.4136, 0.1782],\n",
       "            [0.3074, 0.5037, 0.6242, 0.1007, 0.3446, 0.5486],\n",
       "            [0.7189, 0.4050, 0.6605, 0.3974, 0.9037, 0.5927]],\n",
       " \n",
       "           [[0.8303, 0.4727, 0.7806, 0.1067, 0.4121, 0.8867],\n",
       "            [0.8961, 0.6261, 0.3349, 0.2441, 0.6209, 0.3306],\n",
       "            [0.2619, 0.3712, 0.8269, 0.8975, 0.4457, 0.9060]]]],\n",
       " \n",
       " \n",
       " \n",
       "         [[[[0.8815, 0.0934, 0.4066, 0.4608, 0.8875, 0.1020],\n",
       "            [0.2339, 0.2426, 0.5514, 0.0736, 0.6340, 0.2395],\n",
       "            [0.3268, 0.2621, 0.0305, 0.3861, 0.6307, 0.9711]],\n",
       " \n",
       "           [[0.8817, 0.3731, 0.9159, 0.1443, 0.4958, 0.0305],\n",
       "            [0.7569, 0.8030, 0.9021, 0.2351, 0.4226, 0.8776],\n",
       "            [0.4875, 0.4022, 0.2659, 0.0255, 0.8092, 0.3308]],\n",
       " \n",
       "           [[0.6482, 0.9709, 0.1122, 0.0594, 0.3181, 0.0350],\n",
       "            [0.2054, 0.9318, 0.8967, 0.6202, 0.8952, 0.1407],\n",
       "            [0.0297, 0.5038, 0.0049, 0.8385, 0.7706, 0.4362]]]],\n",
       " \n",
       " \n",
       " \n",
       "         [[[[0.6235, 0.7521, 0.8269, 0.1244, 0.1821, 0.4616],\n",
       "            [0.9216, 0.8485, 0.3084, 0.0303, 0.4393, 0.2172],\n",
       "            [0.3948, 0.5656, 0.5838, 0.2331, 0.4835, 0.0906]],\n",
       " \n",
       "           [[0.4849, 0.3275, 0.7789, 0.9301, 0.8189, 0.8315],\n",
       "            [0.5304, 0.2220, 0.6515, 0.5365, 0.1055, 0.0207],\n",
       "            [0.8632, 0.7163, 0.2698, 0.0991, 0.2610, 0.7407]],\n",
       " \n",
       "           [[0.4489, 0.8792, 0.6216, 0.4877, 0.9043, 0.1964],\n",
       "            [0.6496, 0.1620, 0.0346, 0.7785, 0.8946, 0.2427],\n",
       "            [0.7904, 0.0683, 0.9282, 0.8110, 0.5274, 0.4962]]]],\n",
       " \n",
       " \n",
       " \n",
       "         [[[[0.6502, 0.0280, 0.8958, 0.8356, 0.6715, 0.5115],\n",
       "            [0.6890, 0.1056, 0.1102, 0.0279, 0.8736, 0.2569],\n",
       "            [0.5072, 0.1873, 0.5302, 0.0651, 0.8927, 0.8346]],\n",
       " \n",
       "           [[0.0835, 0.4411, 0.2132, 0.0785, 0.4946, 0.2747],\n",
       "            [0.8882, 0.5413, 0.7003, 0.4134, 0.8799, 0.8807],\n",
       "            [0.6324, 0.7653, 0.6707, 0.8706, 0.6065, 0.5756]],\n",
       " \n",
       "           [[0.5385, 0.2348, 0.8179, 0.8043, 0.2851, 0.6819],\n",
       "            [0.7582, 0.7745, 0.5151, 0.6629, 0.5796, 0.0326],\n",
       "            [0.2453, 0.9706, 0.8215, 0.0019, 0.4898, 0.5803]]]],\n",
       " \n",
       " \n",
       " \n",
       "         [[[[0.4795, 0.7832, 0.1014, 0.5503, 0.7136, 0.6125],\n",
       "            [0.8418, 0.2372, 0.9904, 0.3854, 0.0043, 0.2007],\n",
       "            [0.5294, 0.1547, 0.1049, 0.9611, 0.5944, 0.8078]],\n",
       " \n",
       "           [[0.4947, 0.4986, 0.2965, 0.5472, 0.2431, 0.5476],\n",
       "            [0.4982, 0.5645, 0.3958, 0.9344, 0.5403, 0.8288],\n",
       "            [0.0319, 0.4778, 0.9966, 0.8852, 0.3627, 0.6414]],\n",
       " \n",
       "           [[0.8117, 0.8953, 0.1437, 0.6567, 0.5497, 0.3882],\n",
       "            [0.2746, 0.5367, 0.5235, 0.6543, 0.3198, 0.2929],\n",
       "            [0.6582, 0.4078, 0.4590, 0.5577, 0.6329, 0.6924]]]]]),\n",
       " tensor([[[[0.0504, 0.3821, 0.9825, 0.4158, 0.5163, 0.9967],\n",
       "           [0.9463, 0.4684, 0.0515, 0.4214, 0.4490, 0.9602],\n",
       "           [0.2452, 0.1108, 0.3714, 0.9713, 0.1591, 0.7999]],\n",
       " \n",
       "          [[0.4717, 0.5734, 0.2794, 0.4059, 0.0250, 0.2777],\n",
       "           [0.1803, 0.7746, 0.6185, 0.8323, 0.6416, 0.4333],\n",
       "           [0.6267, 0.6704, 0.2389, 0.0271, 0.2608, 0.8091]],\n",
       " \n",
       "          [[0.7789, 0.2041, 0.1525, 0.2064, 0.3943, 0.6983],\n",
       "           [0.3823, 0.0984, 0.2971, 0.0245, 0.4366, 0.7347],\n",
       "           [0.4357, 0.8406, 0.0765, 0.0810, 0.2498, 0.9944]]],\n",
       " \n",
       " \n",
       "         [[[0.4230, 0.0438, 0.1637, 0.7723, 0.7884, 0.2584],\n",
       "           [0.6341, 0.4066, 0.9056, 0.2582, 0.8263, 0.0346],\n",
       "           [0.3463, 0.0106, 0.8625, 0.2956, 0.0805, 0.2377]],\n",
       " \n",
       "          [[0.4889, 0.8954, 0.9121, 0.2741, 0.9432, 0.2650],\n",
       "           [0.6438, 0.1005, 0.5796, 0.6661, 0.0863, 0.8356],\n",
       "           [0.5465, 0.5767, 0.3078, 0.7298, 0.5571, 0.0062]],\n",
       " \n",
       "          [[0.9554, 0.0427, 0.2817, 0.6429, 0.2006, 0.6869],\n",
       "           [0.7311, 0.5730, 0.5497, 0.1341, 0.9790, 0.4821],\n",
       "           [0.2972, 0.3395, 0.8167, 0.4398, 0.5221, 0.4707]]],\n",
       " \n",
       " \n",
       "         [[[0.8229, 0.8057, 0.0711, 0.4334, 0.5749, 0.1559],\n",
       "           [0.6739, 0.2642, 0.6879, 0.0302, 0.4916, 0.9758],\n",
       "           [0.0996, 0.9881, 0.0021, 0.6658, 0.2288, 0.2892]],\n",
       " \n",
       "          [[0.3762, 0.5923, 0.4172, 0.8648, 0.8601, 0.9813],\n",
       "           [0.4274, 0.7928, 0.5552, 0.4625, 0.4527, 0.0373],\n",
       "           [0.5108, 0.8391, 0.0794, 0.0671, 0.9448, 0.5910]],\n",
       " \n",
       "          [[0.8756, 0.7888, 0.6682, 0.1246, 0.7394, 0.7095],\n",
       "           [0.0174, 0.1913, 0.9064, 0.3516, 0.6144, 0.5735],\n",
       "           [0.2590, 0.1286, 0.4046, 0.5580, 0.5894, 0.7328]]],\n",
       " \n",
       " \n",
       "         [[[0.1595, 0.2600, 0.7970, 0.6644, 0.6326, 0.9151],\n",
       "           [0.4580, 0.1606, 0.4836, 0.4996, 0.0235, 0.4510],\n",
       "           [0.8967, 0.4149, 0.3542, 0.0533, 0.2210, 0.4497]],\n",
       " \n",
       "          [[0.2088, 0.1944, 0.7725, 0.2919, 0.6783, 0.6999],\n",
       "           [0.4878, 0.3614, 0.1777, 0.0420, 0.2246, 0.8214],\n",
       "           [0.1785, 0.9971, 0.7693, 0.1445, 0.7530, 0.3548]],\n",
       " \n",
       "          [[0.4203, 0.1576, 0.7965, 0.4467, 0.6660, 0.1915],\n",
       "           [0.1783, 0.5979, 0.1783, 0.8999, 0.2157, 0.4389],\n",
       "           [0.4150, 0.5573, 0.5043, 0.2879, 0.8228, 0.0227]]],\n",
       " \n",
       " \n",
       "         [[[0.8048, 0.7022, 0.6181, 0.3982, 0.8010, 0.6848],\n",
       "           [0.8949, 0.6255, 0.3382, 0.9120, 0.4978, 0.5466],\n",
       "           [0.9608, 0.8944, 0.9567, 0.5405, 0.8424, 0.0858]],\n",
       " \n",
       "          [[0.0597, 0.7129, 0.7976, 0.8681, 0.9132, 0.6233],\n",
       "           [0.2066, 0.0719, 0.7359, 0.1252, 0.1868, 0.5286],\n",
       "           [0.3919, 0.0228, 0.4707, 0.4915, 0.6239, 0.2353]],\n",
       " \n",
       "          [[0.9798, 0.3311, 0.7980, 0.1026, 0.0735, 0.3031],\n",
       "           [0.2439, 0.6597, 0.8768, 0.6359, 0.7051, 0.2392],\n",
       "           [0.7540, 0.7914, 0.2337, 0.0411, 0.9088, 0.1177]]]]),\n",
       " tensor([[[[[6.0783e-03, 6.6115e-02, 1.0478e-01, 1.2887e-01, 1.4636e-01,\n",
       "             7.6160e-01],\n",
       "            [1.1273e-01, 2.7311e-01, 6.2243e-04, 1.6237e-02, 4.0040e-01,\n",
       "             8.9170e-02],\n",
       "            [2.1800e-01, 2.0784e-02, 7.4703e-02, 3.2991e-01, 1.3163e-01,\n",
       "             6.0197e-01]],\n",
       " \n",
       "           [[1.7545e-01, 1.4598e-01, 4.3775e-02, 1.9235e-01, 1.0349e-02,\n",
       "             4.9478e-02],\n",
       "            [5.5432e-02, 3.9017e-01, 3.8609e-01, 8.3797e-02, 2.2109e-01,\n",
       "             2.3772e-01],\n",
       "            [4.5050e-01, 2.7149e-01, 1.5781e-01, 1.0752e-02, 2.3569e-01,\n",
       "             4.7956e-01]],\n",
       " \n",
       "           [[6.4673e-01, 9.6487e-02, 1.1903e-01, 2.2032e-02, 1.6246e-01,\n",
       "             6.1918e-01],\n",
       "            [3.4256e-01, 6.1632e-02, 9.9506e-02, 5.9822e-03, 2.7112e-01,\n",
       "             2.4292e-01],\n",
       "            [1.1409e-01, 3.1206e-01, 6.3248e-02, 7.2667e-02, 1.1132e-01,\n",
       "             9.0090e-01]]],\n",
       " \n",
       " \n",
       "          [[[5.1009e-02, 7.5750e-03, 1.7464e-02, 2.3935e-01, 2.2350e-01,\n",
       "             1.9747e-01],\n",
       "            [7.5540e-02, 2.3708e-01, 1.0934e-02, 9.9495e-03, 7.3680e-01,\n",
       "             3.2132e-03],\n",
       "            [3.0786e-01, 1.9979e-03, 1.7347e-01, 1.0040e-01, 6.6576e-02,\n",
       "             1.7891e-01]],\n",
       " \n",
       "           [[1.8185e-01, 2.2794e-01, 1.4292e-01, 1.2990e-01, 3.9014e-01,\n",
       "             4.7218e-02],\n",
       "            [1.9788e-01, 5.0625e-02, 3.6179e-01, 6.7063e-02, 2.9730e-02,\n",
       "             4.5839e-01],\n",
       "            [3.9284e-01, 2.3355e-01, 2.0332e-01, 2.9006e-01, 5.0339e-01,\n",
       "             3.6625e-03]],\n",
       " \n",
       "           [[7.9326e-01, 2.0179e-02, 2.1992e-01, 6.8626e-02, 8.2660e-02,\n",
       "             6.0910e-01],\n",
       "            [6.5514e-01, 3.5874e-01, 1.8411e-01, 3.2725e-02, 6.0788e-01,\n",
       "             1.5938e-01],\n",
       "            [7.7842e-02, 1.2604e-01, 6.7531e-01, 3.9475e-01, 2.3273e-01,\n",
       "             4.2643e-01]]],\n",
       " \n",
       " \n",
       "          [[[9.9236e-02, 1.3941e-01, 7.5786e-03, 1.3431e-01, 1.6298e-01,\n",
       "             1.1912e-01],\n",
       "            [8.0283e-02, 1.5405e-01, 8.3058e-03, 1.1639e-03, 4.3837e-01,\n",
       "             9.0615e-02],\n",
       "            [8.8558e-02, 1.8542e-01, 4.1484e-04, 2.2612e-01, 1.8923e-01,\n",
       "             2.1761e-01]],\n",
       " \n",
       "           [[1.3994e-01, 1.5079e-01, 6.5374e-02, 4.0984e-01, 3.5575e-01,\n",
       "             1.7485e-01],\n",
       "            [1.3137e-01, 3.9936e-01, 3.4656e-01, 4.6564e-02, 1.5601e-01,\n",
       "             2.0473e-02],\n",
       "            [3.6723e-01, 3.3983e-01, 5.2462e-02, 2.6656e-02, 8.5377e-01,\n",
       "             3.5029e-01]],\n",
       " \n",
       "           [[7.2703e-01, 3.7288e-01, 5.2158e-01, 1.3305e-02, 3.0468e-01,\n",
       "             6.2916e-01],\n",
       "            [1.5555e-02, 1.1979e-01, 3.0357e-01, 8.5827e-02, 3.8150e-01,\n",
       "             1.8962e-01],\n",
       "            [6.7825e-02, 4.7728e-02, 3.3458e-01, 5.0080e-01, 2.6270e-01,\n",
       "             6.6390e-01]]],\n",
       " \n",
       " \n",
       "          [[[1.9230e-02, 4.4986e-02, 8.5003e-02, 2.0590e-01, 1.7933e-01,\n",
       "             6.9921e-01],\n",
       "            [5.4559e-02, 9.3630e-02, 5.8391e-03, 1.9249e-02, 2.0980e-02,\n",
       "             4.1885e-02],\n",
       "            [7.9723e-01, 7.7848e-02, 7.1235e-02, 1.8096e-02, 1.8284e-01,\n",
       "             3.3843e-01]],\n",
       " \n",
       "           [[7.7674e-02, 4.9481e-02, 1.2104e-01, 1.3832e-01, 2.8058e-01,\n",
       "             1.2472e-01],\n",
       "            [1.4992e-01, 1.8203e-01, 1.1091e-01, 4.2297e-03, 7.7415e-02,\n",
       "             4.5061e-01],\n",
       "            [1.2835e-01, 4.0383e-01, 5.0815e-01, 5.7424e-02, 6.8043e-01,\n",
       "             2.1028e-01]],\n",
       " \n",
       "           [[3.4898e-01, 7.4519e-02, 6.2171e-01, 4.7683e-02, 2.7442e-01,\n",
       "             1.6985e-01],\n",
       "            [1.5978e-01, 3.7434e-01, 5.9719e-02, 2.1964e-01, 1.3391e-01,\n",
       "             1.4512e-01],\n",
       "            [1.0868e-01, 2.0688e-01, 4.1704e-01, 2.5842e-01, 3.6676e-01,\n",
       "             2.0579e-02]]],\n",
       " \n",
       " \n",
       "          [[[9.7057e-02, 1.2149e-01, 6.5918e-02, 1.2340e-01, 2.2708e-01,\n",
       "             5.2330e-01],\n",
       "            [1.0660e-01, 3.6475e-01, 4.0831e-03, 3.5137e-02, 4.4384e-01,\n",
       "             5.0763e-02],\n",
       "            [8.5427e-01, 1.6784e-01, 1.9242e-01, 1.8359e-01, 6.9677e-01,\n",
       "             6.4551e-02]],\n",
       " \n",
       "           [[2.2214e-02, 1.8147e-01, 1.2498e-01, 4.1144e-01, 3.7773e-01,\n",
       "             1.1106e-01],\n",
       "            [6.3489e-02, 3.6217e-02, 4.5933e-01, 1.2608e-02, 6.4380e-02,\n",
       "             2.8998e-01],\n",
       "            [2.8173e-01, 9.2492e-03, 3.1092e-01, 1.9535e-01, 5.6377e-01,\n",
       "             1.3945e-01]],\n",
       " \n",
       "           [[8.1356e-01, 1.5651e-01, 6.2288e-01, 1.0951e-02, 3.0288e-02,\n",
       "             2.6878e-01],\n",
       "            [2.1859e-01, 4.1304e-01, 2.9366e-01, 1.5520e-01, 4.3783e-01,\n",
       "             7.9068e-02],\n",
       "            [1.9747e-01, 2.9377e-01, 1.9325e-01, 3.6885e-02, 4.0508e-01,\n",
       "             1.0666e-01]]]],\n",
       " \n",
       " \n",
       " \n",
       "         [[[[4.4427e-02, 3.5703e-02, 3.9949e-01, 1.9161e-01, 4.5817e-01,\n",
       "             1.0166e-01],\n",
       "            [2.2134e-01, 1.1362e-01, 2.8426e-02, 3.1017e-02, 2.8471e-01,\n",
       "             2.2994e-01],\n",
       "            [8.0129e-02, 2.9030e-02, 1.1325e-02, 3.7501e-01, 1.0036e-01,\n",
       "             7.7686e-01]],\n",
       " \n",
       "           [[4.1588e-01, 2.1396e-01, 2.5587e-01, 5.8580e-02, 1.2404e-02,\n",
       "             8.4754e-03],\n",
       "            [1.3649e-01, 6.2196e-01, 5.5799e-01, 1.9564e-01, 2.7111e-01,\n",
       "             3.8030e-01],\n",
       "            [3.0548e-01, 2.6963e-01, 6.3519e-02, 6.9051e-04, 2.1105e-01,\n",
       "             2.6760e-01]],\n",
       " \n",
       "           [[5.0490e-01, 1.9815e-01, 1.7107e-02, 1.2255e-02, 1.2539e-01,\n",
       "             2.4429e-02],\n",
       "            [7.8519e-02, 9.1727e-02, 2.6639e-01, 1.5200e-02, 3.9088e-01,\n",
       "             1.0341e-01],\n",
       "            [1.2924e-02, 4.2352e-01, 3.7185e-04, 6.7894e-02, 1.9246e-01,\n",
       "             4.3379e-01]]],\n",
       " \n",
       " \n",
       "          [[[3.7284e-01, 4.0906e-03, 6.6581e-02, 3.5590e-01, 6.9964e-01,\n",
       "             2.6359e-02],\n",
       "            [1.4832e-01, 9.8636e-02, 4.9937e-01, 1.9006e-02, 5.2393e-01,\n",
       "             8.2858e-03],\n",
       "            [1.1316e-01, 2.7906e-03, 2.6298e-02, 1.1413e-01, 5.0760e-02,\n",
       "             2.3088e-01]],\n",
       " \n",
       "           [[4.3105e-01, 3.3409e-01, 8.3540e-01, 3.9562e-02, 4.6761e-01,\n",
       "             8.0882e-03],\n",
       "            [4.8726e-01, 8.0700e-02, 5.2288e-01, 1.5657e-01, 3.6455e-02,\n",
       "             7.3332e-01],\n",
       "            [2.6638e-01, 2.3195e-01, 8.1837e-02, 1.8628e-02, 4.5077e-01,\n",
       "             2.0438e-03]],\n",
       " \n",
       "           [[6.1929e-01, 4.1441e-02, 3.1606e-02, 3.8173e-02, 6.3800e-02,\n",
       "             2.4031e-02],\n",
       "            [1.5017e-01, 5.3390e-01, 4.9289e-01, 8.3150e-02, 8.7638e-01,\n",
       "             6.7849e-02],\n",
       "            [8.8178e-03, 1.7106e-01, 3.9703e-03, 3.6882e-01, 4.0237e-01,\n",
       "             2.0533e-01]]],\n",
       " \n",
       " \n",
       "          [[[7.2534e-01, 7.5282e-02, 2.8893e-02, 1.9971e-01, 5.1018e-01,\n",
       "             1.5902e-02],\n",
       "            [1.5763e-01, 6.4091e-02, 3.7932e-01, 2.2234e-03, 3.1171e-01,\n",
       "             2.3367e-01],\n",
       "            [3.2550e-02, 2.5899e-01, 6.2890e-05, 2.5703e-01, 1.4427e-01,\n",
       "             2.8084e-01]],\n",
       " \n",
       "           [[3.3170e-01, 2.2102e-01, 3.8212e-01, 1.2482e-01, 4.2640e-01,\n",
       "             2.9951e-02],\n",
       "            [3.2349e-01, 6.3661e-01, 5.0086e-01, 1.0871e-01, 1.9130e-01,\n",
       "             3.2752e-02],\n",
       "            [2.4902e-01, 3.3751e-01, 2.1115e-02, 1.7119e-03, 7.6451e-01,\n",
       "             1.9547e-01]],\n",
       " \n",
       "           [[5.6759e-01, 7.6579e-01, 7.4959e-02, 7.4006e-03, 2.3516e-01,\n",
       "             2.4823e-02],\n",
       "            [3.5655e-03, 1.7828e-01, 8.1270e-01, 2.1808e-01, 5.5001e-01,\n",
       "             8.0724e-02],\n",
       "            [7.6831e-03, 6.4775e-02, 1.9671e-03, 4.6790e-01, 4.5418e-01,\n",
       "             3.1967e-01]]],\n",
       " \n",
       " \n",
       "          [[[1.4055e-01, 2.4293e-02, 3.2407e-01, 3.0616e-01, 5.6138e-01,\n",
       "             9.3337e-02],\n",
       "            [1.0712e-01, 3.8954e-02, 2.6667e-01, 3.6770e-02, 1.4918e-02,\n",
       "             1.0801e-01],\n",
       "            [2.9303e-01, 1.0874e-01, 1.0799e-02, 2.0570e-02, 1.3941e-01,\n",
       "             4.3676e-01]],\n",
       " \n",
       "           [[1.8411e-01, 7.2525e-02, 7.0749e-01, 4.2126e-02, 3.3630e-01,\n",
       "             2.1364e-02],\n",
       "            [3.6916e-01, 2.9018e-01, 1.6029e-01, 9.8752e-03, 9.4926e-02,\n",
       "             7.2089e-01],\n",
       "            [8.7034e-02, 4.0107e-01, 2.0453e-01, 3.6877e-03, 6.0929e-01,\n",
       "             1.1734e-01]],\n",
       " \n",
       "           [[2.7245e-01, 1.5304e-01, 8.9349e-02, 2.6524e-02, 2.1181e-01,\n",
       "             6.7012e-03],\n",
       "            [3.6623e-02, 5.5713e-01, 1.5987e-01, 5.5807e-01, 1.9306e-01,\n",
       "             6.1779e-02],\n",
       "            [1.2311e-02, 2.8077e-01, 2.4519e-03, 2.4144e-01, 6.3408e-01,\n",
       "             9.9087e-03]]],\n",
       " \n",
       " \n",
       "          [[[7.0941e-01, 6.5607e-02, 2.5131e-01, 1.8349e-01, 7.1086e-01,\n",
       "             6.9855e-02],\n",
       "            [2.0931e-01, 1.5175e-01, 1.8647e-01, 6.7120e-02, 3.1561e-01,\n",
       "             1.3090e-01],\n",
       "            [3.1400e-01, 2.3443e-01, 2.9171e-02, 2.0868e-01, 5.3125e-01,\n",
       "             8.3305e-02]],\n",
       " \n",
       "           [[5.2654e-02, 2.6598e-01, 7.3050e-01, 1.2530e-01, 4.5274e-01,\n",
       "             1.9025e-02],\n",
       "            [1.5633e-01, 5.7733e-02, 6.6385e-01, 2.9436e-02, 7.8944e-02,\n",
       "             4.6390e-01],\n",
       "            [1.9104e-01, 9.1859e-03, 1.2514e-01, 1.2546e-02, 5.0483e-01,\n",
       "             7.7814e-02]],\n",
       " \n",
       "           [[6.3514e-01, 3.2143e-01, 8.9518e-02, 6.0916e-03, 2.3377e-02,\n",
       "             1.0604e-02],\n",
       "            [5.0103e-02, 6.1472e-01, 7.8614e-01, 3.9435e-01, 6.3122e-01,\n",
       "             3.3660e-02],\n",
       "            [2.2369e-02, 3.9870e-01, 1.1362e-03, 3.4462e-02, 7.0033e-01,\n",
       "             5.1355e-02]]]],\n",
       " \n",
       " \n",
       " \n",
       "         [[[[3.1425e-02, 2.8740e-01, 8.1240e-01, 5.1713e-02, 9.3991e-02,\n",
       "             4.6003e-01],\n",
       "            [8.7216e-01, 3.9741e-01, 1.5896e-02, 1.2762e-02, 1.9728e-01,\n",
       "             2.0852e-01],\n",
       "            [9.6800e-02, 6.2651e-02, 2.1684e-01, 2.2638e-01, 7.6944e-02,\n",
       "             7.2491e-02]],\n",
       " \n",
       "           [[2.2871e-01, 1.8779e-01, 2.1761e-01, 3.7751e-01, 2.0488e-02,\n",
       "             2.3088e-01],\n",
       "            [9.5650e-02, 1.7192e-01, 4.0296e-01, 4.4658e-01, 6.7672e-02,\n",
       "             8.9706e-03],\n",
       "            [5.4096e-01, 4.8017e-01, 6.4464e-02, 2.6816e-03, 6.8084e-02,\n",
       "             5.9927e-01]],\n",
       " \n",
       "           [[3.4963e-01, 1.7943e-01, 9.4791e-02, 1.0066e-01, 3.5651e-01,\n",
       "             1.3716e-01],\n",
       "            [2.4834e-01, 1.5942e-02, 1.0280e-02, 1.9081e-02, 3.9064e-01,\n",
       "             1.7834e-01],\n",
       "            [3.4437e-01, 5.7374e-02, 7.0997e-02, 6.5665e-02, 1.3171e-01,\n",
       "             4.9340e-01]]],\n",
       " \n",
       " \n",
       "          [[[2.6372e-01, 3.2928e-02, 1.3540e-01, 9.6052e-02, 1.4353e-01,\n",
       "             1.1928e-01],\n",
       "            [5.8444e-01, 3.4499e-01, 2.7924e-01, 7.8199e-03, 3.6304e-01,\n",
       "             7.5140e-03],\n",
       "            [1.3670e-01, 6.0224e-03, 5.0353e-01, 6.8894e-02, 3.8916e-02,\n",
       "             2.1544e-02]],\n",
       " \n",
       "           [[2.3705e-01, 2.9323e-01, 7.1049e-01, 2.5495e-01, 7.7238e-01,\n",
       "             2.2033e-01],\n",
       "            [3.4145e-01, 2.2307e-02, 3.7760e-01, 3.5740e-01, 9.0996e-03,\n",
       "             1.7298e-02],\n",
       "            [4.7172e-01, 4.1306e-01, 8.3054e-02, 7.2340e-02, 1.4541e-01,\n",
       "             4.5768e-03]],\n",
       " \n",
       "           [[4.2885e-01, 3.7526e-02, 1.7513e-01, 3.1355e-01, 1.8139e-01,\n",
       "             1.3492e-01],\n",
       "            [4.7495e-01, 9.2792e-02, 1.9020e-02, 1.0438e-01, 8.7585e-01,\n",
       "             1.1701e-01],\n",
       "            [2.3495e-01, 2.3174e-02, 7.5804e-01, 3.5671e-01, 2.7536e-01,\n",
       "             2.3354e-01]]],\n",
       " \n",
       " \n",
       "          [[[5.1306e-01, 6.0601e-01, 5.8758e-02, 5.3898e-02, 1.0466e-01,\n",
       "             7.1955e-02],\n",
       "            [6.2114e-01, 2.2416e-01, 2.1211e-01, 9.1480e-04, 2.1599e-01,\n",
       "             2.1190e-01],\n",
       "            [3.9323e-02, 5.5893e-01, 1.2041e-03, 1.5516e-01, 1.1061e-01,\n",
       "             2.6206e-02]],\n",
       " \n",
       "           [[1.8242e-01, 1.9399e-01, 3.2498e-01, 8.0437e-01, 7.0431e-01,\n",
       "             8.1589e-01],\n",
       "            [2.2669e-01, 1.7597e-01, 3.6170e-01, 2.4815e-01, 4.7750e-02,\n",
       "             7.7257e-04],\n",
       "            [4.4097e-01, 6.0104e-01, 2.1430e-02, 6.6479e-03, 2.4662e-01,\n",
       "             4.3773e-01]],\n",
       " \n",
       "           [[3.9305e-01, 6.9344e-01, 4.1535e-01, 6.0788e-02, 6.6861e-01,\n",
       "             1.3937e-01],\n",
       "            [1.1277e-02, 3.0984e-02, 3.1361e-02, 2.7375e-01, 5.4967e-01,\n",
       "             1.3922e-01],\n",
       "            [2.0471e-01, 8.7750e-03, 3.7557e-01, 4.5255e-01, 3.1082e-01,\n",
       "             3.6360e-01]]],\n",
       " \n",
       " \n",
       "          [[[9.9420e-02, 1.9555e-01, 6.5904e-01, 8.2628e-02, 1.1516e-01,\n",
       "             4.2235e-01],\n",
       "            [4.2212e-01, 1.3625e-01, 1.4912e-01, 1.5129e-02, 1.0337e-02,\n",
       "             9.7948e-02],\n",
       "            [3.5400e-01, 2.3466e-01, 2.0677e-01, 1.2417e-02, 1.0688e-01,\n",
       "             4.0755e-02]],\n",
       " \n",
       "           [[1.0125e-01, 6.3654e-02, 6.0170e-01, 2.7148e-01, 5.5548e-01,\n",
       "             5.8196e-01],\n",
       "            [2.5870e-01, 8.0211e-02, 1.1575e-01, 2.2541e-02, 2.3695e-02,\n",
       "             1.7005e-02],\n",
       "            [1.5412e-01, 7.1422e-01, 2.0757e-01, 1.4321e-02, 1.9655e-01,\n",
       "             2.6277e-01]],\n",
       " \n",
       "           [[1.8867e-01, 1.3858e-01, 4.9509e-01, 2.1786e-01, 6.0221e-01,\n",
       "             3.7623e-02],\n",
       "            [1.1583e-01, 9.6827e-02, 6.1693e-03, 7.0055e-01, 1.9294e-01,\n",
       "             1.0654e-01],\n",
       "            [3.2803e-01, 3.8036e-02, 4.6813e-01, 2.3352e-01, 4.3393e-01,\n",
       "             1.1270e-02]]],\n",
       " \n",
       " \n",
       "          [[[5.0180e-01, 5.2812e-01, 5.1106e-01, 4.9522e-02, 1.4583e-01,\n",
       "             3.1609e-01],\n",
       "            [8.2479e-01, 5.3076e-01, 1.0427e-01, 2.7616e-02, 2.1869e-01,\n",
       "             1.1871e-01],\n",
       "            [3.7932e-01, 5.0593e-01, 5.5853e-01, 1.2597e-01, 4.0729e-01,\n",
       "             7.7735e-03]],\n",
       " \n",
       "           [[2.8957e-02, 2.3345e-01, 6.2127e-01, 8.0749e-01, 7.4782e-01,\n",
       "             5.1825e-01],\n",
       "            [1.0955e-01, 1.5959e-02, 4.7940e-01, 6.7192e-02, 1.9705e-02,\n",
       "             1.0943e-02],\n",
       "            [3.3829e-01, 1.6358e-02, 1.2700e-01, 4.8720e-02, 1.6285e-01,\n",
       "             1.7426e-01]],\n",
       " \n",
       "           [[4.3983e-01, 2.9106e-01, 4.9603e-01, 5.0036e-02, 6.6465e-02,\n",
       "             5.9538e-02],\n",
       "            [1.5846e-01, 1.0684e-01, 3.0336e-02, 4.9503e-01, 6.3084e-01,\n",
       "             5.8050e-02],\n",
       "            [5.9601e-01, 5.4011e-02, 2.1693e-01, 3.3331e-02, 4.7928e-01,\n",
       "             5.8413e-02]]]],\n",
       " \n",
       " \n",
       " \n",
       "         [[[[3.2772e-02, 1.0701e-02, 8.8006e-01, 3.4745e-01, 3.4666e-01,\n",
       "             5.0978e-01],\n",
       "            [6.5197e-01, 4.9467e-02, 5.6808e-03, 1.1740e-02, 3.9231e-01,\n",
       "             2.4668e-01],\n",
       "            [1.2435e-01, 2.0740e-02, 1.9692e-01, 6.3269e-02, 1.4206e-01,\n",
       "             6.6765e-01]],\n",
       " \n",
       "           [[3.9400e-02, 2.5296e-01, 5.9564e-02, 3.1866e-02, 1.2374e-02,\n",
       "             7.6278e-02],\n",
       "            [1.6017e-01, 4.1926e-01, 4.3316e-01, 3.4411e-01, 5.6452e-01,\n",
       "             3.8164e-01],\n",
       "            [3.9632e-01, 5.1304e-01, 1.6025e-01, 2.3553e-02, 1.5820e-01,\n",
       "             4.6572e-01]],\n",
       " \n",
       "           [[4.1945e-01, 4.7931e-02, 1.2473e-01, 1.6602e-01, 1.1240e-01,\n",
       "             4.7619e-01],\n",
       "            [2.8983e-01, 7.6240e-02, 1.5303e-01, 1.6249e-02, 2.5308e-01,\n",
       "             2.3959e-02],\n",
       "            [1.0688e-01, 8.1591e-01, 6.2833e-02, 1.5148e-04, 1.2232e-01,\n",
       "             5.7700e-01]]],\n",
       " \n",
       " \n",
       "          [[[2.7502e-01, 1.2261e-03, 1.4668e-01, 6.4534e-01, 5.2935e-01,\n",
       "             1.3218e-01],\n",
       "            [4.3689e-01, 4.2942e-02, 9.9797e-02, 7.1942e-03, 7.2192e-01,\n",
       "             8.8891e-03],\n",
       "            [1.7561e-01, 1.9937e-03, 4.5728e-01, 1.9254e-02, 7.1849e-02,\n",
       "             1.9842e-01]],\n",
       " \n",
       "           [[4.0837e-02, 3.9497e-01, 1.9447e-01, 2.1520e-02, 4.6649e-01,\n",
       "             7.2794e-02],\n",
       "            [5.7179e-01, 5.4400e-02, 4.0591e-01, 2.7539e-01, 7.5908e-02,\n",
       "             7.3592e-01],\n",
       "            [3.4560e-01, 4.4134e-01, 2.0647e-01, 6.3537e-01, 3.3788e-01,\n",
       "             3.5568e-03]],\n",
       " \n",
       "           [[5.1448e-01, 1.0024e-02, 2.3045e-01, 5.1715e-01, 5.7187e-02,\n",
       "             4.6844e-01],\n",
       "            [5.5429e-01, 4.4376e-01, 2.8315e-01, 8.8887e-02, 5.6742e-01,\n",
       "             1.5720e-02],\n",
       "            [7.2919e-02, 3.2955e-01, 6.7088e-01, 8.2289e-04, 2.5573e-01,\n",
       "             2.7311e-01]]],\n",
       " \n",
       " \n",
       "          [[[5.3504e-01, 2.2564e-02, 6.3651e-02, 3.6212e-01, 3.8600e-01,\n",
       "             7.9737e-02],\n",
       "            [4.6433e-01, 2.7903e-02, 7.5805e-02, 8.4160e-04, 4.2951e-01,\n",
       "             2.5068e-01],\n",
       "            [5.0515e-02, 1.8503e-01, 1.0935e-03, 4.3364e-02, 2.0421e-01,\n",
       "             2.4136e-01]],\n",
       " \n",
       "           [[3.1425e-02, 2.6130e-01, 8.8952e-02, 6.7896e-02, 4.2538e-01,\n",
       "             2.6956e-01],\n",
       "            [3.7961e-01, 4.2914e-01, 3.8881e-01, 1.9121e-01, 3.9833e-01,\n",
       "             3.2868e-02],\n",
       "            [3.2307e-01, 6.4218e-01, 5.3272e-02, 5.8390e-02, 5.7305e-01,\n",
       "             3.4018e-01]],\n",
       " \n",
       "           [[4.7153e-01, 1.8524e-01, 5.4654e-01, 1.0026e-01, 2.1079e-01,\n",
       "             4.8386e-01],\n",
       "            [1.3161e-02, 1.4818e-01, 4.6688e-01, 2.3312e-01, 3.5611e-01,\n",
       "             1.8703e-02],\n",
       "            [6.3535e-02, 1.2479e-01, 3.3239e-01, 1.0440e-03, 2.8866e-01,\n",
       "             4.2521e-01]]],\n",
       " \n",
       " \n",
       "          [[[1.0368e-01, 7.2814e-03, 7.1392e-01, 5.5516e-01, 4.2475e-01,\n",
       "             4.6802e-01],\n",
       "            [3.1555e-01, 1.6959e-02, 5.3292e-02, 1.3918e-02, 2.0556e-02,\n",
       "             1.1587e-01],\n",
       "            [4.5476e-01, 7.7685e-02, 1.8778e-01, 3.4704e-03, 1.9732e-01,\n",
       "             3.7536e-01]],\n",
       " \n",
       "           [[1.7443e-02, 8.5742e-02, 1.6470e-01, 2.2915e-02, 3.3549e-01,\n",
       "             1.9227e-01],\n",
       "            [4.3321e-01, 1.9561e-01, 1.2443e-01, 1.7369e-02, 1.9766e-01,\n",
       "             7.2344e-01],\n",
       "            [1.1292e-01, 7.6312e-01, 5.1600e-01, 1.2579e-01, 4.5670e-01,\n",
       "             2.0421e-01]],\n",
       " \n",
       "           [[2.2634e-01, 3.7019e-02, 6.5147e-01, 3.5933e-01, 1.8986e-01,\n",
       "             1.3062e-01],\n",
       "            [1.3518e-01, 4.6306e-01, 9.1843e-02, 5.9657e-01, 1.2500e-01,\n",
       "             1.4313e-02],\n",
       "            [1.0181e-01, 5.4090e-01, 4.1430e-01, 5.3869e-04, 4.0299e-01,\n",
       "             1.3180e-02]]],\n",
       " \n",
       " \n",
       "          [[[5.2330e-01, 1.9664e-02, 5.5363e-01, 3.3272e-01, 5.3784e-01,\n",
       "             3.5028e-01],\n",
       "            [6.1656e-01, 6.6066e-02, 3.7266e-02, 2.5406e-02, 4.3488e-01,\n",
       "             1.4043e-01],\n",
       "            [4.8730e-01, 1.6748e-01, 5.0723e-01, 3.5207e-02, 7.5196e-01,\n",
       "             7.1594e-02]],\n",
       " \n",
       "           [[4.9884e-03, 3.1446e-01, 1.7005e-01, 6.8160e-02, 4.5165e-01,\n",
       "             1.7122e-01],\n",
       "            [1.8345e-01, 3.8918e-02, 5.1533e-01, 5.1775e-02, 1.6438e-01,\n",
       "             4.6554e-01],\n",
       "            [2.4784e-01, 1.7478e-02, 3.1572e-01, 4.2792e-01, 3.7840e-01,\n",
       "             1.3542e-01]],\n",
       " \n",
       "           [[5.2765e-01, 7.7750e-02, 6.5270e-01, 8.2525e-02, 2.0954e-02,\n",
       "             2.0671e-01],\n",
       "            [1.8494e-01, 5.1093e-01, 4.5162e-01, 4.2156e-01, 4.0869e-01,\n",
       "             7.7987e-03],\n",
       "            [1.8498e-01, 7.6809e-01, 1.9198e-01, 7.6889e-05, 4.4510e-01,\n",
       "             6.8310e-02]]]],\n",
       " \n",
       " \n",
       " \n",
       "         [[[[2.4169e-02, 2.9926e-01, 9.9592e-02, 2.2881e-01, 3.6841e-01,\n",
       "             6.1045e-01],\n",
       "            [7.9657e-01, 1.1110e-01, 5.1057e-02, 1.6240e-01, 1.9119e-03,\n",
       "             1.9268e-01],\n",
       "            [1.2981e-01, 1.7132e-02, 3.8959e-02, 9.3353e-01, 9.4598e-02,\n",
       "             6.4620e-01]],\n",
       " \n",
       "           [[2.3334e-01, 2.8591e-01, 8.2846e-02, 2.2210e-01, 6.0815e-03,\n",
       "             1.5206e-01],\n",
       "            [8.9845e-02, 4.3728e-01, 2.4480e-01, 7.7771e-01, 3.4667e-01,\n",
       "             3.5914e-01],\n",
       "            [1.9994e-02, 3.2030e-01, 2.3812e-01, 2.3947e-02, 9.4604e-02,\n",
       "             5.1896e-01]],\n",
       " \n",
       "           [[6.3224e-01, 1.8272e-01, 2.1921e-02, 1.3554e-01, 2.1671e-01,\n",
       "             2.7104e-01],\n",
       "            [1.0499e-01, 5.2831e-02, 1.5554e-01, 1.6038e-02, 1.3965e-01,\n",
       "             2.1518e-01],\n",
       "            [2.8675e-01, 3.4279e-01, 3.5110e-02, 4.5159e-02, 1.5806e-01,\n",
       "             6.8849e-01]]],\n",
       " \n",
       " \n",
       "          [[[2.0283e-01, 3.4287e-02, 1.6599e-02, 4.2498e-01, 5.6256e-01,\n",
       "             1.5828e-01],\n",
       "            [5.3379e-01, 9.6449e-02, 8.9693e-01, 9.9513e-02, 3.5182e-03,\n",
       "             6.9431e-03],\n",
       "            [1.8332e-01, 1.6469e-03, 9.0468e-02, 2.8410e-01, 4.7845e-02,\n",
       "             1.9205e-01]],\n",
       " \n",
       "           [[2.4185e-01, 4.4644e-01, 2.7049e-01, 1.4999e-01, 2.2927e-01,\n",
       "             1.4511e-01],\n",
       "            [3.2073e-01, 5.6738e-02, 2.2939e-01, 6.2240e-01, 4.6615e-02,\n",
       "             6.9253e-01],\n",
       "            [1.7435e-02, 2.7554e-01, 3.0679e-01, 6.4601e-01, 2.0206e-01,\n",
       "             3.9634e-03]],\n",
       " \n",
       "           [[7.7548e-01, 3.8214e-02, 4.0500e-02, 4.2220e-01, 1.1026e-01,\n",
       "             2.6663e-01],\n",
       "            [2.0079e-01, 3.0751e-01, 2.8779e-01, 8.7732e-02, 3.1311e-01,\n",
       "             1.4118e-01],\n",
       "            [1.9564e-01, 1.3846e-01, 3.7487e-01, 2.4531e-01, 3.3045e-01,\n",
       "             3.2589e-01]]],\n",
       " \n",
       " \n",
       "          [[[3.9459e-01, 6.3101e-01, 7.2030e-03, 2.3847e-01, 4.1022e-01,\n",
       "             9.5482e-02],\n",
       "            [5.6731e-01, 6.2670e-02, 6.8130e-01, 1.1641e-02, 2.0932e-03,\n",
       "             1.9580e-01],\n",
       "            [5.2732e-02, 1.5284e-01, 2.1635e-04, 6.3983e-01, 1.3599e-01,\n",
       "             2.3360e-01]],\n",
       " \n",
       "           [[1.8611e-01, 2.9534e-01, 1.2372e-01, 4.7322e-01, 2.0906e-01,\n",
       "             5.3736e-01],\n",
       "            [2.1293e-01, 4.4758e-01, 2.1973e-01, 4.3215e-01, 2.4461e-01,\n",
       "             3.0930e-02],\n",
       "            [1.6298e-02, 4.0093e-01, 7.9157e-02, 5.9368e-02, 3.4269e-01,\n",
       "             3.7907e-01]],\n",
       " \n",
       "           [[7.1074e-01, 7.0615e-01, 9.6052e-02, 8.1852e-02, 4.0642e-01,\n",
       "             2.7541e-01],\n",
       "            [4.7675e-03, 1.0268e-01, 4.7452e-01, 2.3009e-01, 1.9650e-01,\n",
       "             1.6797e-01],\n",
       "            [1.7046e-01, 5.2428e-02, 1.8573e-01, 3.1122e-01, 3.7300e-01,\n",
       "             5.0736e-01]]],\n",
       " \n",
       " \n",
       "          [[[7.6462e-02, 2.0362e-01, 8.0791e-02, 3.6559e-01, 4.5140e-01,\n",
       "             5.6045e-01],\n",
       "            [3.8553e-01, 3.8091e-02, 4.7897e-01, 1.9252e-01, 1.0018e-04,\n",
       "             9.0506e-02],\n",
       "            [4.7471e-01, 6.4171e-02, 3.7151e-02, 5.1206e-02, 1.3140e-01,\n",
       "             3.6330e-01]],\n",
       " \n",
       "           [[1.0330e-01, 9.6914e-02, 2.2907e-01, 1.5971e-01, 1.6489e-01,\n",
       "             3.8329e-01],\n",
       "            [2.4300e-01, 2.0401e-01, 7.0319e-02, 3.9255e-02, 1.2138e-01,\n",
       "             6.8079e-01],\n",
       "            [5.6965e-03, 4.7643e-01, 7.6672e-01, 1.2789e-01, 2.7311e-01,\n",
       "             2.2755e-01]],\n",
       " \n",
       "           [[3.4117e-01, 1.4112e-01, 1.1449e-01, 2.9336e-01, 3.6605e-01,\n",
       "             7.4349e-02],\n",
       "            [4.8970e-02, 3.2088e-01, 9.3347e-02, 5.8882e-01, 6.8977e-02,\n",
       "             1.2855e-01],\n",
       "            [2.7315e-01, 2.2725e-01, 2.3150e-01, 1.6059e-01, 5.2074e-01,\n",
       "             1.5727e-02]]],\n",
       " \n",
       " \n",
       "          [[[3.8592e-01, 5.4991e-01, 6.2651e-02, 2.1911e-01, 5.7159e-01,\n",
       "             4.1945e-01],\n",
       "            [7.5330e-01, 1.4839e-01, 3.3493e-01, 3.5143e-01, 2.1193e-03,\n",
       "             1.0969e-01],\n",
       "            [5.0868e-01, 1.3835e-01, 1.0035e-01, 5.1948e-01, 5.0073e-01,\n",
       "             6.9294e-02]],\n",
       " \n",
       "           [[2.9543e-02, 3.5543e-01, 2.3652e-01, 4.7506e-01, 2.2198e-01,\n",
       "             3.4133e-01],\n",
       "            [1.0290e-01, 4.0590e-02, 2.9124e-01, 1.1701e-01, 1.0095e-01,\n",
       "             4.3810e-01],\n",
       "            [1.2503e-02, 1.0912e-02, 4.6913e-01, 4.3508e-01, 2.2629e-01,\n",
       "             1.5090e-01]],\n",
       " \n",
       "           [[7.9533e-01, 2.9640e-01, 1.1471e-01, 6.7374e-02, 4.0401e-02,\n",
       "             1.1766e-01],\n",
       "            [6.6994e-02, 3.5405e-01, 4.5902e-01, 4.1609e-01, 2.2552e-01,\n",
       "             7.0040e-02],\n",
       "            [4.9629e-01, 3.2270e-01, 1.0728e-01, 2.2922e-02, 5.7515e-01,\n",
       "             8.1509e-02]]]]]))"
      ]
     },
     "execution_count": 76,
     "metadata": {},
     "output_type": "execute_result"
    }
   ],
   "source": [
    "a = torch.rand(5, 1, 3, 3, 6)\n",
    "b = torch.rand(5, 3, 3, 6)\n",
    "a, b, (a*b)"
   ]
  },
  {
   "cell_type": "code",
   "execution_count": 55,
   "metadata": {},
   "outputs": [
    {
     "data": {
      "text/plain": [
       "(tensor([[[0.3146, 0.5812]],\n",
       " \n",
       "         [[0.7717, 0.5912]]]),\n",
       " tensor([[0.2407, 0.3305],\n",
       "         [0.5656, 0.9599]]),\n",
       " tensor([[[0.0757, 0.1921],\n",
       "          [0.1780, 0.5579]],\n",
       " \n",
       "         [[0.1858, 0.1954],\n",
       "          [0.4365, 0.5675]]]))"
      ]
     },
     "execution_count": 55,
     "metadata": {},
     "output_type": "execute_result"
    }
   ],
   "source": [
    "a = torch.rand(2, 1, 2)\n",
    "b = torch.rand(2, 2)\n",
    "a, b, (a*b)"
   ]
  },
  {
   "cell_type": "code",
   "execution_count": 61,
   "metadata": {},
   "outputs": [
    {
     "data": {
      "text/plain": [
       "tensor([True, True, True])"
      ]
     },
     "execution_count": 61,
     "metadata": {},
     "output_type": "execute_result"
    }
   ],
   "source": [
    "torch.tensor([1, 2, 3]) == torch.tensor([1, 2, 3])"
   ]
  },
  {
   "cell_type": "code",
   "execution_count": 89,
   "metadata": {},
   "outputs": [
    {
     "data": {
      "text/plain": [
       "torch.Size([6, 12, 3, 3, 121])"
      ]
     },
     "execution_count": 89,
     "metadata": {},
     "output_type": "execute_result"
    }
   ],
   "source": [
    "schoups_net.v4_weight.shape"
   ]
  },
  {
   "cell_type": "code",
   "execution_count": null,
   "metadata": {},
   "outputs": [],
   "source": []
  }
 ],
 "metadata": {
  "kernelspec": {
   "display_name": "Python (pytorch_paco)",
   "language": "python",
   "name": "pytorch_paco"
  },
  "language_info": {
   "codemirror_mode": {
    "name": "ipython",
    "version": 3
   },
   "file_extension": ".py",
   "mimetype": "text/x-python",
   "name": "python",
   "nbconvert_exporter": "python",
   "pygments_lexer": "ipython3",
   "version": "3.7.10"
  }
 },
 "nbformat": 4,
 "nbformat_minor": 4
}
